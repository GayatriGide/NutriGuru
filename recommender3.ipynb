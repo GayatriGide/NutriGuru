{
 "cells": [
  {
   "cell_type": "code",
   "execution_count": 2,
   "metadata": {},
   "outputs": [],
   "source": [
    "import pandas as pd\n",
    "from sklearn.model_selection import train_test_split\n",
    "from sklearn.linear_model import LinearRegression\n",
    "from sklearn.metrics import mean_squared_error\n",
    "from sklearn.cluster import KMeans\n",
    "from sklearn.preprocessing import StandardScaler\n",
    "from sklearn.ensemble import RandomForestClassifier\n",
    "import joblib\n",
    "import matplotlib.pyplot as plt\n",
    "import plotly.express as px\n",
    "import numpy as np\n",
    "import seaborn as sns\n",
    "from mpl_toolkits.mplot3d import Axes3D\n",
    "from fuzzywuzzy import process"
   ]
  },
  {
   "cell_type": "code",
   "execution_count": 4,
   "metadata": {},
   "outputs": [
    {
     "name": "stdout",
     "output_type": "stream",
     "text": [
      "Your BMI is: 0.26666666666666666\n",
      "According to your BMI, you are Severely Underweight\n",
      "Your BMR is: 8367.6\n",
      "Your Total Daily Energy Expenditure(TDEE) is: 10041.12\n",
      "Recommended Protein intake (g): 753.0840000000001\n",
      "Recommended Fat intake (g): 278.92\n",
      "Recommended Carbohydrate intake (g): 1129.626\n",
      "Recommended Water intake (ml): 1800.0\n"
     ]
    }
   ],
   "source": [
    "def calculate_bmi(weight_kg, height_m):\n",
    "    return weight_kg / (height_m ** 2)\n",
    "\n",
    "def calculate_bmr(age, weight_kg, height_m, gender_F, gender_M):\n",
    "    if gender_F == 1:  # Female\n",
    "        return 655 + (9.6 * weight_kg) + (1.8 * height_m * 100) - (4.7 * age)\n",
    "    elif gender_M == 1:  # Male\n",
    "        return 66 + (13.7 * weight_kg) + (5 * height_m * 100) - (6.8 * age)\n",
    "    else:\n",
    "        raise ValueError(\"Invalid gender values\")\n",
    "\n",
    "def calculate_macros(weight, height, age, gender, activity_level):\n",
    "    if gender.lower() == 'male':\n",
    "        ree = calculate_bmr(age, weight, height, 0, 1)\n",
    "    elif gender.lower() == 'female':\n",
    "        ree = calculate_bmr(age, weight, height, 1, 0)\n",
    "\n",
    "    activity_factors = {\n",
    "        'sedentary': 1.2,\n",
    "        'lightly active': 1.375,\n",
    "        'moderately active': 1.55,\n",
    "        'very active': 1.725,\n",
    "        'extra active': 1.9\n",
    "    }\n",
    "\n",
    "    tdee = ree * activity_factors[activity_level.lower()]\n",
    "\n",
    "    # Calculate macros based on percentages\n",
    "    protein_percent = 0.3\n",
    "    fat_percent = 0.25\n",
    "    carb_percent = 1 - protein_percent - fat_percent\n",
    "\n",
    "    protein_calories = protein_percent * tdee\n",
    "    fat_calories = fat_percent * tdee\n",
    "    carb_calories = carb_percent * tdee\n",
    "\n",
    "    protein_grams = protein_calories / 4  # 1 gram of protein = 4 calories\n",
    "    fat_grams = fat_calories / 9  # 1 gram of fat = 9 calories\n",
    "    carb_grams = carb_calories / 4  # 1 gram of carb = 4 calories\n",
    "\n",
    "    # Calculate water intake recommendation based on activity level\n",
    "    if activity_level.lower() == 'sedentary':\n",
    "        water_intake_ml = weight * 30  # 30 ml per kg of body weight per day\n",
    "    elif activity_level.lower() == 'lightly active':\n",
    "        water_intake_ml = weight * 35  # 35 ml per kg of body weight per day\n",
    "    elif activity_level.lower() == 'moderately active':\n",
    "        water_intake_ml = weight * 40  # 40 ml per kg of body weight per day\n",
    "    elif activity_level.lower() == 'very active':\n",
    "        water_intake_ml = weight * 45  # 45 ml per kg of body weight per day\n",
    "    elif activity_level.lower() == 'extra active':\n",
    "        water_intake_ml = weight * 50  # 50 ml per kg of body weight per day\n",
    "    else:\n",
    "        raise ValueError(\"Invalid activity level\")\n",
    "\n",
    "    return {\n",
    "        'TDEE': tdee,\n",
    "        'protein': protein_grams,\n",
    "        'fat': fat_grams,\n",
    "        'carbs': carb_grams,\n",
    "        'water': water_intake_ml\n",
    "    }\n",
    "\n",
    "# Taking user input\n",
    "weight = float(input(\"Enter your weight in kg: \"))\n",
    "height = float(input(\"Enter your height in meters: \"))\n",
    "age = int(input(\"Enter your age in years: \"))\n",
    "gender = input(\"Enter your gender (male/female): \")\n",
    "activity_level = input(\"Enter your activity level (1)sedentary  2)lightly active 3)moderately active 4)very active 5)extra active): \")\n",
    "\n",
    "# Calculating BMI\n",
    "bmi = calculate_bmi(weight, height)\n",
    "print(\"Your BMI is:\", bmi)\n",
    "if bmi < 16:\n",
    "    print(\"According to your BMI, you are Severely Underweight\")\n",
    "    clbmi = 4\n",
    "elif 16 <= bmi < 18.5:\n",
    "    print(\"According to your BMI, you are Underweight\")\n",
    "    clbmi = 3\n",
    "elif 18.5 <= bmi < 25:\n",
    "    print(\"According to your BMI, you are Healthy\")\n",
    "    clbmi = 2\n",
    "elif 25 <= bmi < 30:\n",
    "    print(\"According to your BMI, you are Overweight\")\n",
    "    clbmi = 1\n",
    "elif bmi >= 30:\n",
    "    print(\"According to your BMI, you are Severely Overweight\")\n",
    "    clbmi = 0\n",
    "\n",
    "# Calculating BMR and TDEE\n",
    "if gender.lower() == 'male':\n",
    "    bmr = calculate_bmr(age, weight, height, 0, 1)\n",
    "elif gender.lower() == 'female':\n",
    "    bmr = calculate_bmr(age, weight, height, 1, 0)\n",
    "else:\n",
    "    raise ValueError(\"Invalid gender\")\n",
    "\n",
    "macros = calculate_macros(weight, height, age, gender, activity_level)\n",
    "\n",
    "print(\"Your BMR is:\", bmr)\n",
    "print(\"Your Total Daily Energy Expenditure(TDEE) is:\", macros['TDEE'])\n",
    "print(\"Recommended Protein intake (g):\", macros['protein'])\n",
    "print(\"Recommended Fat intake (g):\", macros['fat'])\n",
    "print(\"Recommended Carbohydrate intake (g):\", macros['carbs'])\n",
    "print(\"Recommended Water intake (ml):\", macros['water'])"
   ]
  },
  {
   "cell_type": "code",
   "execution_count": 5,
   "metadata": {},
   "outputs": [
    {
     "data": {
      "text/html": [
       "<div>\n",
       "<style scoped>\n",
       "    .dataframe tbody tr th:only-of-type {\n",
       "        vertical-align: middle;\n",
       "    }\n",
       "\n",
       "    .dataframe tbody tr th {\n",
       "        vertical-align: top;\n",
       "    }\n",
       "\n",
       "    .dataframe thead th {\n",
       "        text-align: right;\n",
       "    }\n",
       "</style>\n",
       "<table border=\"1\" class=\"dataframe\">\n",
       "  <thead>\n",
       "    <tr style=\"text-align: right;\">\n",
       "      <th></th>\n",
       "      <th>Food_items</th>\n",
       "      <th>Breakfast</th>\n",
       "      <th>Lunch</th>\n",
       "      <th>Dinner</th>\n",
       "      <th>VegNovVeg</th>\n",
       "      <th>Calories</th>\n",
       "      <th>Fats</th>\n",
       "      <th>Proteins</th>\n",
       "      <th>Iron</th>\n",
       "      <th>Calcium</th>\n",
       "      <th>Sodium</th>\n",
       "      <th>Potassium</th>\n",
       "      <th>Carbohydrates</th>\n",
       "      <th>Fibre</th>\n",
       "      <th>VitaminD</th>\n",
       "      <th>Sugars</th>\n",
       "    </tr>\n",
       "  </thead>\n",
       "  <tbody>\n",
       "    <tr>\n",
       "      <th>0</th>\n",
       "      <td>Asparagus Cooked</td>\n",
       "      <td>0</td>\n",
       "      <td>1</td>\n",
       "      <td>1</td>\n",
       "      <td></td>\n",
       "      <td>22</td>\n",
       "      <td>0.2</td>\n",
       "      <td>2.4</td>\n",
       "      <td>0.91</td>\n",
       "      <td>23.0</td>\n",
       "      <td>14</td>\n",
       "      <td>224.0</td>\n",
       "      <td>4.1</td>\n",
       "      <td>2.0</td>\n",
       "      <td>0</td>\n",
       "      <td>1.3</td>\n",
       "    </tr>\n",
       "    <tr>\n",
       "      <th>1</th>\n",
       "      <td>Avocados</td>\n",
       "      <td>1</td>\n",
       "      <td>0</td>\n",
       "      <td>0</td>\n",
       "      <td>0</td>\n",
       "      <td>160</td>\n",
       "      <td>15.0</td>\n",
       "      <td>2.0</td>\n",
       "      <td>0.55</td>\n",
       "      <td>12.0</td>\n",
       "      <td>7</td>\n",
       "      <td>485.0</td>\n",
       "      <td>8.5</td>\n",
       "      <td>6.7</td>\n",
       "      <td>0</td>\n",
       "      <td>0.7</td>\n",
       "    </tr>\n",
       "    <tr>\n",
       "      <th>2</th>\n",
       "      <td>Bananas</td>\n",
       "      <td>1</td>\n",
       "      <td>0</td>\n",
       "      <td>0</td>\n",
       "      <td>0</td>\n",
       "      <td>89</td>\n",
       "      <td>0.3</td>\n",
       "      <td>1.1</td>\n",
       "      <td>0.26</td>\n",
       "      <td>5.0</td>\n",
       "      <td>1</td>\n",
       "      <td>358.0</td>\n",
       "      <td>23.0</td>\n",
       "      <td>2.6</td>\n",
       "      <td>0</td>\n",
       "      <td>12.0</td>\n",
       "    </tr>\n",
       "    <tr>\n",
       "      <th>3</th>\n",
       "      <td>Bagels made in wheat</td>\n",
       "      <td>0</td>\n",
       "      <td>1</td>\n",
       "      <td>1</td>\n",
       "      <td>0</td>\n",
       "      <td>250</td>\n",
       "      <td>1.5</td>\n",
       "      <td>10.0</td>\n",
       "      <td>2.76</td>\n",
       "      <td>20.0</td>\n",
       "      <td>439</td>\n",
       "      <td>165.0</td>\n",
       "      <td>49.0</td>\n",
       "      <td>4.1</td>\n",
       "      <td>0</td>\n",
       "      <td>6.1</td>\n",
       "    </tr>\n",
       "    <tr>\n",
       "      <th>4</th>\n",
       "      <td>Berries</td>\n",
       "      <td>1</td>\n",
       "      <td>0</td>\n",
       "      <td>0</td>\n",
       "      <td>0</td>\n",
       "      <td>349</td>\n",
       "      <td>0.4</td>\n",
       "      <td>14.0</td>\n",
       "      <td>6.80</td>\n",
       "      <td>190.0</td>\n",
       "      <td>298</td>\n",
       "      <td>77.0</td>\n",
       "      <td>77.0</td>\n",
       "      <td>13.0</td>\n",
       "      <td>0</td>\n",
       "      <td>46.0</td>\n",
       "    </tr>\n",
       "  </tbody>\n",
       "</table>\n",
       "</div>"
      ],
      "text/plain": [
       "             Food_items  Breakfast  Lunch  Dinner VegNovVeg  Calories  Fats  \\\n",
       "0      Asparagus Cooked          0      1       1                  22   0.2   \n",
       "1              Avocados          1      0       0         0       160  15.0   \n",
       "2               Bananas          1      0       0         0        89   0.3   \n",
       "3  Bagels made in wheat          0      1       1         0       250   1.5   \n",
       "4               Berries          1      0       0         0       349   0.4   \n",
       "\n",
       "   Proteins  Iron  Calcium  Sodium  Potassium  Carbohydrates  Fibre  VitaminD  \\\n",
       "0       2.4  0.91     23.0      14      224.0            4.1    2.0         0   \n",
       "1       2.0  0.55     12.0       7      485.0            8.5    6.7         0   \n",
       "2       1.1  0.26      5.0       1      358.0           23.0    2.6         0   \n",
       "3      10.0  2.76     20.0     439      165.0           49.0    4.1         0   \n",
       "4      14.0  6.80    190.0     298       77.0           77.0   13.0         0   \n",
       "\n",
       "   Sugars  \n",
       "0     1.3  \n",
       "1     0.7  \n",
       "2    12.0  \n",
       "3     6.1  \n",
       "4    46.0  "
      ]
     },
     "execution_count": 5,
     "metadata": {},
     "output_type": "execute_result"
    }
   ],
   "source": [
    "food=pd.read_csv('./Dataset/food.csv')\n",
    "food.head()"
   ]
  },
  {
   "cell_type": "code",
   "execution_count": 6,
   "metadata": {},
   "outputs": [
    {
     "name": "stdout",
     "output_type": "stream",
     "text": [
      "<class 'pandas.core.frame.DataFrame'>\n",
      "RangeIndex: 89 entries, 0 to 88\n",
      "Data columns (total 16 columns):\n",
      " #   Column         Non-Null Count  Dtype  \n",
      "---  ------         --------------  -----  \n",
      " 0   Food_items     89 non-null     object \n",
      " 1   Breakfast      89 non-null     int64  \n",
      " 2   Lunch          89 non-null     int64  \n",
      " 3   Dinner         89 non-null     int64  \n",
      " 4   VegNovVeg      89 non-null     object \n",
      " 5   Calories       89 non-null     int64  \n",
      " 6   Fats           89 non-null     float64\n",
      " 7   Proteins       89 non-null     float64\n",
      " 8   Iron           89 non-null     float64\n",
      " 9   Calcium        89 non-null     float64\n",
      " 10  Sodium         89 non-null     int64  \n",
      " 11  Potassium      89 non-null     float64\n",
      " 12  Carbohydrates  89 non-null     float64\n",
      " 13  Fibre          89 non-null     float64\n",
      " 14  VitaminD       89 non-null     int64  \n",
      " 15  Sugars         89 non-null     float64\n",
      "dtypes: float64(8), int64(6), object(2)\n",
      "memory usage: 11.3+ KB\n"
     ]
    },
    {
     "data": {
      "text/plain": [
       "0"
      ]
     },
     "execution_count": 6,
     "metadata": {},
     "output_type": "execute_result"
    }
   ],
   "source": [
    "food.info()\n",
    "food.describe()\n",
    "food.isnull().sum()\n",
    "food.duplicated().sum()"
   ]
  },
  {
   "cell_type": "code",
   "execution_count": 7,
   "metadata": {},
   "outputs": [
    {
     "data": {
      "text/html": [
       "<div>\n",
       "<style scoped>\n",
       "    .dataframe tbody tr th:only-of-type {\n",
       "        vertical-align: middle;\n",
       "    }\n",
       "\n",
       "    .dataframe tbody tr th {\n",
       "        vertical-align: top;\n",
       "    }\n",
       "\n",
       "    .dataframe thead th {\n",
       "        text-align: right;\n",
       "    }\n",
       "</style>\n",
       "<table border=\"1\" class=\"dataframe\">\n",
       "  <thead>\n",
       "    <tr style=\"text-align: right;\">\n",
       "      <th></th>\n",
       "      <th>Breakfast</th>\n",
       "      <th>Lunch</th>\n",
       "      <th>Dinner</th>\n",
       "      <th>Calories</th>\n",
       "      <th>Fats</th>\n",
       "      <th>Proteins</th>\n",
       "      <th>Iron</th>\n",
       "      <th>Calcium</th>\n",
       "      <th>Sodium</th>\n",
       "      <th>Potassium</th>\n",
       "      <th>Carbohydrates</th>\n",
       "      <th>Fibre</th>\n",
       "      <th>VitaminD</th>\n",
       "      <th>Sugars</th>\n",
       "    </tr>\n",
       "  </thead>\n",
       "  <tbody>\n",
       "    <tr>\n",
       "      <th>count</th>\n",
       "      <td>89.000000</td>\n",
       "      <td>89.000000</td>\n",
       "      <td>89.000000</td>\n",
       "      <td>89.000000</td>\n",
       "      <td>89.000000</td>\n",
       "      <td>89.000000</td>\n",
       "      <td>89.000000</td>\n",
       "      <td>89.000000</td>\n",
       "      <td>89.000000</td>\n",
       "      <td>89.000000</td>\n",
       "      <td>89.000000</td>\n",
       "      <td>89.000000</td>\n",
       "      <td>89.000000</td>\n",
       "      <td>89.000000</td>\n",
       "    </tr>\n",
       "    <tr>\n",
       "      <th>mean</th>\n",
       "      <td>0.471910</td>\n",
       "      <td>0.505618</td>\n",
       "      <td>0.685393</td>\n",
       "      <td>210.314607</td>\n",
       "      <td>8.577528</td>\n",
       "      <td>8.569663</td>\n",
       "      <td>3.709888</td>\n",
       "      <td>64.503371</td>\n",
       "      <td>250.887640</td>\n",
       "      <td>247.803371</td>\n",
       "      <td>26.473034</td>\n",
       "      <td>2.997753</td>\n",
       "      <td>11.516854</td>\n",
       "      <td>8.005056</td>\n",
       "    </tr>\n",
       "    <tr>\n",
       "      <th>std</th>\n",
       "      <td>0.502039</td>\n",
       "      <td>0.502801</td>\n",
       "      <td>0.466990</td>\n",
       "      <td>155.350893</td>\n",
       "      <td>11.383888</td>\n",
       "      <td>8.841861</td>\n",
       "      <td>8.554230</td>\n",
       "      <td>112.045798</td>\n",
       "      <td>323.154074</td>\n",
       "      <td>194.792561</td>\n",
       "      <td>25.051777</td>\n",
       "      <td>5.037179</td>\n",
       "      <td>59.071819</td>\n",
       "      <td>16.444337</td>\n",
       "    </tr>\n",
       "    <tr>\n",
       "      <th>min</th>\n",
       "      <td>0.000000</td>\n",
       "      <td>0.000000</td>\n",
       "      <td>0.000000</td>\n",
       "      <td>1.000000</td>\n",
       "      <td>0.000000</td>\n",
       "      <td>0.000000</td>\n",
       "      <td>0.020000</td>\n",
       "      <td>0.000000</td>\n",
       "      <td>0.000000</td>\n",
       "      <td>0.200000</td>\n",
       "      <td>0.000000</td>\n",
       "      <td>0.000000</td>\n",
       "      <td>0.000000</td>\n",
       "      <td>0.000000</td>\n",
       "    </tr>\n",
       "    <tr>\n",
       "      <th>25%</th>\n",
       "      <td>0.000000</td>\n",
       "      <td>0.000000</td>\n",
       "      <td>0.000000</td>\n",
       "      <td>89.000000</td>\n",
       "      <td>0.400000</td>\n",
       "      <td>2.300000</td>\n",
       "      <td>0.500000</td>\n",
       "      <td>8.300000</td>\n",
       "      <td>7.000000</td>\n",
       "      <td>117.000000</td>\n",
       "      <td>7.000000</td>\n",
       "      <td>0.200000</td>\n",
       "      <td>0.000000</td>\n",
       "      <td>0.000000</td>\n",
       "    </tr>\n",
       "    <tr>\n",
       "      <th>50%</th>\n",
       "      <td>0.000000</td>\n",
       "      <td>1.000000</td>\n",
       "      <td>1.000000</td>\n",
       "      <td>184.000000</td>\n",
       "      <td>3.700000</td>\n",
       "      <td>4.500000</td>\n",
       "      <td>1.180000</td>\n",
       "      <td>18.000000</td>\n",
       "      <td>80.000000</td>\n",
       "      <td>211.000000</td>\n",
       "      <td>21.000000</td>\n",
       "      <td>1.500000</td>\n",
       "      <td>0.000000</td>\n",
       "      <td>1.300000</td>\n",
       "    </tr>\n",
       "    <tr>\n",
       "      <th>75%</th>\n",
       "      <td>1.000000</td>\n",
       "      <td>1.000000</td>\n",
       "      <td>1.000000</td>\n",
       "      <td>318.000000</td>\n",
       "      <td>12.000000</td>\n",
       "      <td>13.000000</td>\n",
       "      <td>2.780000</td>\n",
       "      <td>63.000000</td>\n",
       "      <td>381.000000</td>\n",
       "      <td>334.000000</td>\n",
       "      <td>33.000000</td>\n",
       "      <td>3.100000</td>\n",
       "      <td>0.000000</td>\n",
       "      <td>5.700000</td>\n",
       "    </tr>\n",
       "    <tr>\n",
       "      <th>max</th>\n",
       "      <td>1.000000</td>\n",
       "      <td>1.000000</td>\n",
       "      <td>1.000000</td>\n",
       "      <td>579.000000</td>\n",
       "      <td>50.000000</td>\n",
       "      <td>46.000000</td>\n",
       "      <td>57.000000</td>\n",
       "      <td>631.000000</td>\n",
       "      <td>1531.000000</td>\n",
       "      <td>1129.000000</td>\n",
       "      <td>91.000000</td>\n",
       "      <td>34.000000</td>\n",
       "      <td>435.000000</td>\n",
       "      <td>82.000000</td>\n",
       "    </tr>\n",
       "  </tbody>\n",
       "</table>\n",
       "</div>"
      ],
      "text/plain": [
       "       Breakfast      Lunch     Dinner    Calories       Fats   Proteins  \\\n",
       "count  89.000000  89.000000  89.000000   89.000000  89.000000  89.000000   \n",
       "mean    0.471910   0.505618   0.685393  210.314607   8.577528   8.569663   \n",
       "std     0.502039   0.502801   0.466990  155.350893  11.383888   8.841861   \n",
       "min     0.000000   0.000000   0.000000    1.000000   0.000000   0.000000   \n",
       "25%     0.000000   0.000000   0.000000   89.000000   0.400000   2.300000   \n",
       "50%     0.000000   1.000000   1.000000  184.000000   3.700000   4.500000   \n",
       "75%     1.000000   1.000000   1.000000  318.000000  12.000000  13.000000   \n",
       "max     1.000000   1.000000   1.000000  579.000000  50.000000  46.000000   \n",
       "\n",
       "            Iron     Calcium       Sodium    Potassium  Carbohydrates  \\\n",
       "count  89.000000   89.000000    89.000000    89.000000      89.000000   \n",
       "mean    3.709888   64.503371   250.887640   247.803371      26.473034   \n",
       "std     8.554230  112.045798   323.154074   194.792561      25.051777   \n",
       "min     0.020000    0.000000     0.000000     0.200000       0.000000   \n",
       "25%     0.500000    8.300000     7.000000   117.000000       7.000000   \n",
       "50%     1.180000   18.000000    80.000000   211.000000      21.000000   \n",
       "75%     2.780000   63.000000   381.000000   334.000000      33.000000   \n",
       "max    57.000000  631.000000  1531.000000  1129.000000      91.000000   \n",
       "\n",
       "           Fibre    VitaminD     Sugars  \n",
       "count  89.000000   89.000000  89.000000  \n",
       "mean    2.997753   11.516854   8.005056  \n",
       "std     5.037179   59.071819  16.444337  \n",
       "min     0.000000    0.000000   0.000000  \n",
       "25%     0.200000    0.000000   0.000000  \n",
       "50%     1.500000    0.000000   1.300000  \n",
       "75%     3.100000    0.000000   5.700000  \n",
       "max    34.000000  435.000000  82.000000  "
      ]
     },
     "execution_count": 7,
     "metadata": {},
     "output_type": "execute_result"
    }
   ],
   "source": [
    "food.describe()"
   ]
  },
  {
   "cell_type": "code",
   "execution_count": 8,
   "metadata": {},
   "outputs": [
    {
     "name": "stdout",
     "output_type": "stream",
     "text": [
      "Shape of X_train: (71, 15)\n",
      "Shape of y_train: (71,)\n",
      "Shape of X_test: (18, 15)\n",
      "Shape of y_test: (18,)\n"
     ]
    }
   ],
   "source": [
    "# Splitting features (X) and target variable (y)\n",
    "X = food.drop(['Food_items'], axis=1)  # Features\n",
    "y = food['Food_items']  # Target variable\n",
    "\n",
    "# Splitting the data into training and testing sets (80% train, 20% test)\n",
    "X_train, X_test, y_train, y_test = train_test_split(X, y, test_size=0.2, random_state=42)\n",
    "\n",
    "# Displaying the shapes of the training and testing sets\n",
    "print(\"Shape of X_train:\", X_train.shape)\n",
    "print(\"Shape of y_train:\", y_train.shape)\n",
    "print(\"Shape of X_test:\", X_test.shape)\n",
    "print(\"Shape of y_test:\", y_test.shape)"
   ]
  },
  {
   "cell_type": "code",
   "execution_count": 9,
   "metadata": {},
   "outputs": [
    {
     "data": {
      "text/plain": [
       "<Figure size 1000x800 with 0 Axes>"
      ]
     },
     "metadata": {},
     "output_type": "display_data"
    },
    {
     "data": {
      "image/png": "[encoded data removed]",
      "text/plain": [
       "<Figure size 480x480 with 2 Axes>"
      ]
     },
     "metadata": {},
     "output_type": "display_data"
    }
   ],
   "source": [
    "# Select only numeric columns for correlation calculation\n",
    "numeric_columns = food.select_dtypes(include=['float64', 'int64']).columns\n",
    "correlation_matrix = food[numeric_columns].corr()\n",
    "\n",
    "# Plot the correlation matrix\n",
    "plt.figure(figsize=(10, 8))\n",
    "plt.matshow(correlation_matrix, cmap='viridis')\n",
    "plt.xticks(range(len(correlation_matrix.columns)), correlation_matrix.columns, rotation=90)\n",
    "plt.yticks(range(len(correlation_matrix.columns)), correlation_matrix.columns)\n",
    "plt.colorbar()\n",
    "plt.show()\n"
   ]
  },
  {
   "cell_type": "code",
   "execution_count": 10,
   "metadata": {},
   "outputs": [
    {
     "name": "stdout",
     "output_type": "stream",
     "text": [
      "Asparagus Cooked\n",
      "Avocados\n",
      "Bananas\n",
      "Bagels made in wheat\n",
      "Berries\n",
      "Brocolli\n",
      "Brown Rice\n",
      "Cauliflower\n",
      "American cheese\n",
      "Coffee\n",
      "Corn\n",
      "Dark chocolates\n",
      "Grapes\n",
      "Milk\n",
      "Cashew Nuts\n",
      "Onions\n",
      "Orange\n",
      "Pasta canned with tomato sauce\n",
      "Pears\n",
      "Peas\n",
      "Protein Powder\n",
      "Pumpkin\n",
      "Tuna Salad\n",
      "Tuna Fish\n",
      "Peproni Pizza\n",
      "Cheese Pizza\n",
      "French Fries\n",
      "Chicken Burger\n",
      "Cheese Burger\n",
      "Chicken Sandwich\n",
      "Sugar Doughnuts\n",
      "Chocolate Doughnuts\n",
      "Pop Corn - Caramel\n",
      "Pop Corn\n",
      "Dosa\n",
      "Idli\n",
      "Poha\n",
      "Chappati\n",
      "Tomato\n",
      "Yogurt\n",
      "Brownie\n",
      "Noodles\n",
      "Uttapam\n",
      "Bhaji Pav\n",
      "Dal Makhani\n",
      "Almonds\n",
      "Mushrooms\n",
      "Egg Yolk cooked\n",
      "Sweet Potatoes cooked\n",
      "Boiled Potatoes\n",
      "White Rice\n",
      "Orange juice\n",
      "Greek yogurt plain\n",
      "Oat Bran Cooked\n",
      "Green Tea\n",
      "Chia seeds\n",
      "Cottage cheese with vegetables\n",
      "Salmon\n",
      "Cereals-Corn Flakes\n",
      "Beans\n",
      "Lentils\n",
      "Pasta with corn homemade\n",
      "Tea\n",
      "Apples\n",
      "Strawberries\n",
      "Quninoa\n",
      "Goat meat\n",
      "Rabbit meat\n",
      "Chicken Strips\n",
      "Steak Fries\n",
      "Mexican Rice\n",
      "Fried Shrimp\n",
      "Spaghetti and meatballs\n",
      "Macroni n Cheese \n",
      "Pork cooked\n",
      "Bacon cooked\n",
      "Nachos\n",
      "Chicken Popcorn\n",
      "Turkey cooked\n",
      "Oyster cooked\n",
      "Beef sticks\n",
      "Banana Chips\n",
      "Honey\n",
      "Chocolate Icecream\n",
      "Vanilla Ice cream\n",
      "Strawberry Icecream\n",
      "Marshmallows\n",
      "Chocolate milk\n",
      "Rice Pudding\n"
     ]
    }
   ],
   "source": [
    "food_items = food['Food_items'].tolist()\n",
    "\n",
    "for item in food_items:\n",
    "    print(item)"
   ]
  },
  {
   "cell_type": "code",
   "execution_count": 11,
   "metadata": {},
   "outputs": [
    {
     "data": {
      "text/html": [
       "<div>\n",
       "<style scoped>\n",
       "    .dataframe tbody tr th:only-of-type {\n",
       "        vertical-align: middle;\n",
       "    }\n",
       "\n",
       "    .dataframe tbody tr th {\n",
       "        vertical-align: top;\n",
       "    }\n",
       "\n",
       "    .dataframe thead th {\n",
       "        text-align: right;\n",
       "    }\n",
       "</style>\n",
       "<table border=\"1\" class=\"dataframe\">\n",
       "  <thead>\n",
       "    <tr style=\"text-align: right;\">\n",
       "      <th></th>\n",
       "      <th>Food_items</th>\n",
       "      <th>Breakfast</th>\n",
       "      <th>Lunch</th>\n",
       "      <th>Dinner</th>\n",
       "      <th>VegNovVeg</th>\n",
       "      <th>Calories</th>\n",
       "      <th>Fats</th>\n",
       "      <th>Proteins</th>\n",
       "      <th>Iron</th>\n",
       "      <th>Calcium</th>\n",
       "      <th>Sodium</th>\n",
       "      <th>Potassium</th>\n",
       "      <th>Carbohydrates</th>\n",
       "      <th>Fibre</th>\n",
       "      <th>VitaminD</th>\n",
       "      <th>Sugars</th>\n",
       "    </tr>\n",
       "  </thead>\n",
       "  <tbody>\n",
       "    <tr>\n",
       "      <th>0</th>\n",
       "      <td>Asparagus Cooked</td>\n",
       "      <td>0</td>\n",
       "      <td>1</td>\n",
       "      <td>1</td>\n",
       "      <td></td>\n",
       "      <td>22</td>\n",
       "      <td>0.2</td>\n",
       "      <td>2.4</td>\n",
       "      <td>0.91</td>\n",
       "      <td>23.0</td>\n",
       "      <td>14</td>\n",
       "      <td>224.0</td>\n",
       "      <td>4.1</td>\n",
       "      <td>2.0</td>\n",
       "      <td>0</td>\n",
       "      <td>1.3</td>\n",
       "    </tr>\n",
       "    <tr>\n",
       "      <th>1</th>\n",
       "      <td>Avocados</td>\n",
       "      <td>1</td>\n",
       "      <td>0</td>\n",
       "      <td>0</td>\n",
       "      <td>0</td>\n",
       "      <td>160</td>\n",
       "      <td>15.0</td>\n",
       "      <td>2.0</td>\n",
       "      <td>0.55</td>\n",
       "      <td>12.0</td>\n",
       "      <td>7</td>\n",
       "      <td>485.0</td>\n",
       "      <td>8.5</td>\n",
       "      <td>6.7</td>\n",
       "      <td>0</td>\n",
       "      <td>0.7</td>\n",
       "    </tr>\n",
       "    <tr>\n",
       "      <th>2</th>\n",
       "      <td>Bananas</td>\n",
       "      <td>1</td>\n",
       "      <td>0</td>\n",
       "      <td>0</td>\n",
       "      <td>0</td>\n",
       "      <td>89</td>\n",
       "      <td>0.3</td>\n",
       "      <td>1.1</td>\n",
       "      <td>0.26</td>\n",
       "      <td>5.0</td>\n",
       "      <td>1</td>\n",
       "      <td>358.0</td>\n",
       "      <td>23.0</td>\n",
       "      <td>2.6</td>\n",
       "      <td>0</td>\n",
       "      <td>12.0</td>\n",
       "    </tr>\n",
       "    <tr>\n",
       "      <th>3</th>\n",
       "      <td>Bagels made in wheat</td>\n",
       "      <td>0</td>\n",
       "      <td>1</td>\n",
       "      <td>1</td>\n",
       "      <td>0</td>\n",
       "      <td>250</td>\n",
       "      <td>1.5</td>\n",
       "      <td>10.0</td>\n",
       "      <td>2.76</td>\n",
       "      <td>20.0</td>\n",
       "      <td>439</td>\n",
       "      <td>165.0</td>\n",
       "      <td>49.0</td>\n",
       "      <td>4.1</td>\n",
       "      <td>0</td>\n",
       "      <td>6.1</td>\n",
       "    </tr>\n",
       "    <tr>\n",
       "      <th>4</th>\n",
       "      <td>Berries</td>\n",
       "      <td>1</td>\n",
       "      <td>0</td>\n",
       "      <td>0</td>\n",
       "      <td>0</td>\n",
       "      <td>349</td>\n",
       "      <td>0.4</td>\n",
       "      <td>14.0</td>\n",
       "      <td>6.80</td>\n",
       "      <td>190.0</td>\n",
       "      <td>298</td>\n",
       "      <td>77.0</td>\n",
       "      <td>77.0</td>\n",
       "      <td>13.0</td>\n",
       "      <td>0</td>\n",
       "      <td>46.0</td>\n",
       "    </tr>\n",
       "  </tbody>\n",
       "</table>\n",
       "</div>"
      ],
      "text/plain": [
       "             Food_items  Breakfast  Lunch  Dinner VegNovVeg  Calories  Fats  \\\n",
       "0      Asparagus Cooked          0      1       1                  22   0.2   \n",
       "1              Avocados          1      0       0         0       160  15.0   \n",
       "2               Bananas          1      0       0         0        89   0.3   \n",
       "3  Bagels made in wheat          0      1       1         0       250   1.5   \n",
       "4               Berries          1      0       0         0       349   0.4   \n",
       "\n",
       "   Proteins  Iron  Calcium  Sodium  Potassium  Carbohydrates  Fibre  VitaminD  \\\n",
       "0       2.4  0.91     23.0      14      224.0            4.1    2.0         0   \n",
       "1       2.0  0.55     12.0       7      485.0            8.5    6.7         0   \n",
       "2       1.1  0.26      5.0       1      358.0           23.0    2.6         0   \n",
       "3      10.0  2.76     20.0     439      165.0           49.0    4.1         0   \n",
       "4      14.0  6.80    190.0     298       77.0           77.0   13.0         0   \n",
       "\n",
       "   Sugars  \n",
       "0     1.3  \n",
       "1     0.7  \n",
       "2    12.0  \n",
       "3     6.1  \n",
       "4    46.0  "
      ]
     },
     "execution_count": 11,
     "metadata": {},
     "output_type": "execute_result"
    }
   ],
   "source": [
    "food.head()"
   ]
  },
  {
   "cell_type": "code",
   "execution_count": 12,
   "metadata": {},
   "outputs": [
    {
     "name": "stderr",
     "output_type": "stream",
     "text": [
      "c:\\Users\\Gyatri C Gide\\anaconda3\\envs\\goku\\Lib\\site-packages\\sklearn\\cluster\\_kmeans.py:1412: FutureWarning: The default value of `n_init` will change from 10 to 'auto' in 1.4. Set the value of `n_init` explicitly to suppress the warning\n",
      "  super()._check_params_vs_input(X, default_n_init=10)\n",
      "c:\\Users\\Gyatri C Gide\\anaconda3\\envs\\goku\\Lib\\site-packages\\sklearn\\cluster\\_kmeans.py:1436: UserWarning: KMeans is known to have a memory leak on Windows with MKL, when there are less chunks than available threads. You can avoid it by setting the environment variable OMP_NUM_THREADS=1.\n",
      "  warnings.warn(\n",
      "c:\\Users\\Gyatri C Gide\\anaconda3\\envs\\goku\\Lib\\site-packages\\sklearn\\cluster\\_kmeans.py:1412: FutureWarning: The default value of `n_init` will change from 10 to 'auto' in 1.4. Set the value of `n_init` explicitly to suppress the warning\n",
      "  super()._check_params_vs_input(X, default_n_init=10)\n",
      "c:\\Users\\Gyatri C Gide\\anaconda3\\envs\\goku\\Lib\\site-packages\\sklearn\\cluster\\_kmeans.py:1436: UserWarning: KMeans is known to have a memory leak on Windows with MKL, when there are less chunks than available threads. You can avoid it by setting the environment variable OMP_NUM_THREADS=1.\n",
      "  warnings.warn(\n",
      "c:\\Users\\Gyatri C Gide\\anaconda3\\envs\\goku\\Lib\\site-packages\\sklearn\\cluster\\_kmeans.py:1412: FutureWarning: The default value of `n_init` will change from 10 to 'auto' in 1.4. Set the value of `n_init` explicitly to suppress the warning\n",
      "  super()._check_params_vs_input(X, default_n_init=10)\n",
      "c:\\Users\\Gyatri C Gide\\anaconda3\\envs\\goku\\Lib\\site-packages\\sklearn\\cluster\\_kmeans.py:1436: UserWarning: KMeans is known to have a memory leak on Windows with MKL, when there are less chunks than available threads. You can avoid it by setting the environment variable OMP_NUM_THREADS=1.\n",
      "  warnings.warn(\n"
     ]
    },
    {
     "name": "stdout",
     "output_type": "stream",
     "text": [
      "    Breakfast  Breakfast_Cluster\n",
      "0           0                  1\n",
      "1           1                  1\n",
      "2           1                  1\n",
      "3           0                  0\n",
      "4           1                  0\n",
      "..        ...                ...\n",
      "84          0                  1\n",
      "85          0                  1\n",
      "86          0                  0\n",
      "87          1                  0\n",
      "88          0                  0\n",
      "\n",
      "[89 rows x 2 columns]\n",
      "    Lunch  Lunch_Cluster\n",
      "0       1              1\n",
      "1       0              1\n",
      "2       0              1\n",
      "3       1              0\n",
      "4       0              0\n",
      "..    ...            ...\n",
      "84      0              1\n",
      "85      0              1\n",
      "86      0              0\n",
      "87      0              0\n",
      "88      0              0\n",
      "\n",
      "[89 rows x 2 columns]\n",
      "    Dinner  Dinner_Cluster\n",
      "0        1               1\n",
      "1        0               1\n",
      "2        0               1\n",
      "3        1               0\n",
      "4        0               0\n",
      "..     ...             ...\n",
      "84       1               1\n",
      "85       1               1\n",
      "86       1               0\n",
      "87       0               0\n",
      "88       1               0\n",
      "\n",
      "[89 rows x 2 columns]\n"
     ]
    }
   ],
   "source": [
    "# Extracting features for each meal\n",
    "breakfast_data = food[['Breakfast', 'Calories', 'Fats', 'Proteins', 'Iron']]\n",
    "lunch_data = food[['Lunch', 'Calories', 'Fats', 'Proteins', 'Iron']]\n",
    "dinner_data = food[['Dinner', 'Calories', 'Fats', 'Proteins', 'Iron']]\n",
    "\n",
    "# Perform k-means clustering for each meal\n",
    "kmeans_breakfast = KMeans(n_clusters=2, random_state=42)\n",
    "kmeans_lunch = KMeans(n_clusters=2, random_state=42)\n",
    "kmeans_dinner = KMeans(n_clusters=2, random_state=42)\n",
    "\n",
    "# Fit k-means models\n",
    "kmeans_breakfast.fit(breakfast_data)\n",
    "kmeans_lunch.fit(lunch_data)\n",
    "kmeans_dinner.fit(dinner_data)\n",
    "\n",
    "# Adding cluster labels to the DataFrame for each meal\n",
    "food['Breakfast_Cluster'] = kmeans_breakfast.labels_\n",
    "food['Lunch_Cluster'] = kmeans_lunch.labels_\n",
    "food['Dinner_Cluster'] = kmeans_dinner.labels_\n",
    "\n",
    "# Displaying the clusters\n",
    "print(food[['Breakfast', 'Breakfast_Cluster']])\n",
    "print(food[['Lunch', 'Lunch_Cluster']])\n",
    "print(food[['Dinner', 'Dinner_Cluster']])"
   ]
  },
  {
   "cell_type": "code",
   "execution_count": 13,
   "metadata": {},
   "outputs": [
    {
     "data": {
      "text/plain": [
       "Index(['Food_items', 'Breakfast', 'Lunch', 'Dinner', 'VegNovVeg', 'Calories',\n",
       "       'Fats', 'Proteins', 'Iron', 'Calcium', 'Sodium', 'Potassium',\n",
       "       'Carbohydrates', 'Fibre', 'VitaminD', 'Sugars', 'Breakfast_Cluster',\n",
       "       'Lunch_Cluster', 'Dinner_Cluster'],\n",
       "      dtype='object')"
      ]
     },
     "execution_count": 13,
     "metadata": {},
     "output_type": "execute_result"
    }
   ],
   "source": [
    "food.columns"
   ]
  },
  {
   "cell_type": "code",
   "execution_count": 14,
   "metadata": {},
   "outputs": [
    {
     "name": "stdout",
     "output_type": "stream",
     "text": [
      "The food item 'honey' is typically used in Breakfast.\n"
     ]
    }
   ],
   "source": [
    "# Function to find the closest match\n",
    "def find_closest_match(user_input, column_data):\n",
    "    choices = column_data.unique()\n",
    "    closest_match, _ = process.extractOne(user_input, choices)\n",
    "    return closest_match\n",
    "\n",
    "# Example user input\n",
    "user_input_food_item = input(\"Enter a food item: \")  # Intentional typo to demonstrate fuzzy matching\n",
    "\n",
    "# Finding closest match\n",
    "closest_breakfast = find_closest_match(user_input_food_item, food['Food_items'])\n",
    "closest_lunch = find_closest_match(user_input_food_item, food['Food_items'])\n",
    "closest_dinner = find_closest_match(user_input_food_item, food['Food_items'])\n",
    "\n",
    "# Check if the food item is used in breakfast, lunch, or dinner\n",
    "if closest_breakfast in food['Food_items'].values:\n",
    "    meal_type = \"Breakfast\"\n",
    "elif closest_lunch in food['Food_items'].values:\n",
    "    meal_type = \"Lunch\"\n",
    "elif closest_dinner in food['Food_items'].values:\n",
    "    meal_type = \"Dinner\"\n",
    "else:\n",
    "    meal_type = \"Not found\"\n",
    "\n",
    "print(f\"The food item '{user_input_food_item}' is typically used in {meal_type}.\")"
   ]
  },
  {
   "cell_type": "code",
   "execution_count": 15,
   "metadata": {},
   "outputs": [
    {
     "name": "stdout",
     "output_type": "stream",
     "text": [
      "[' ' '0' '1']\n"
     ]
    }
   ],
   "source": [
    "print(food['VegNovVeg'].unique())\n"
   ]
  },
  {
   "cell_type": "code",
   "execution_count": 16,
   "metadata": {},
   "outputs": [],
   "source": [
    "# Convert 'VegNovVeg' to numerical values (1 for Non-Veg, 0 for Veg)\n",
    "food['VegNovVeg'] = food['VegNovVeg'].apply(lambda x: 1 if x == 'Non-Veg' else 0)"
   ]
  },
  {
   "cell_type": "code",
   "execution_count": 17,
   "metadata": {},
   "outputs": [
    {
     "name": "stderr",
     "output_type": "stream",
     "text": [
      "c:\\Users\\Gyatri C Gide\\anaconda3\\envs\\goku\\Lib\\site-packages\\sklearn\\cluster\\_kmeans.py:1412: FutureWarning: The default value of `n_init` will change from 10 to 'auto' in 1.4. Set the value of `n_init` explicitly to suppress the warning\n",
      "  super()._check_params_vs_input(X, default_n_init=10)\n",
      "c:\\Users\\Gyatri C Gide\\anaconda3\\envs\\goku\\Lib\\site-packages\\sklearn\\cluster\\_kmeans.py:1436: UserWarning: KMeans is known to have a memory leak on Windows with MKL, when there are less chunks than available threads. You can avoid it by setting the environment variable OMP_NUM_THREADS=1.\n",
      "  warnings.warn(\n"
     ]
    },
    {
     "name": "stdout",
     "output_type": "stream",
     "text": [
      "              Food_items VegNonVeg\n",
      "0       Asparagus Cooked       Veg\n",
      "1               Avocados       Veg\n",
      "2                Bananas       Veg\n",
      "3   Bagels made in wheat       Veg\n",
      "4                Berries       Veg\n",
      "..                   ...       ...\n",
      "84     Vanilla Ice cream       Veg\n",
      "85   Strawberry Icecream       Veg\n",
      "86          Marshmallows       Veg\n",
      "87        Chocolate milk       Veg\n",
      "88          Rice Pudding       Veg\n",
      "\n",
      "[89 rows x 2 columns]\n"
     ]
    },
    {
     "name": "stderr",
     "output_type": "stream",
     "text": [
      "c:\\Users\\Gyatri C Gide\\anaconda3\\envs\\goku\\Lib\\site-packages\\sklearn\\base.py:1151: ConvergenceWarning: Number of distinct clusters (1) found smaller than n_clusters (2). Possibly due to duplicate points in X.\n",
      "  return fit_method(estimator, *args, **kwargs)\n"
     ]
    }
   ],
   "source": [
    "# Extracting features for clustering\n",
    "X = food[['VegNovVeg']]\n",
    "\n",
    "# Perform k-means clustering with 2 clusters (one for vegetarian and one for non-vegetarian)\n",
    "kmeans = KMeans(n_clusters=2, random_state=42)\n",
    "kmeans.fit(X)\n",
    "\n",
    "# Adding cluster labels to the DataFrame\n",
    "food['VegNonVeg_Cluster'] = kmeans.labels_\n",
    "\n",
    "# Labeling each item as 'Veg' or 'Non-Veg' based on the cluster assigned\n",
    "food['VegNonVeg'] = food['VegNonVeg_Cluster'].apply(lambda x: 'Non-Veg' if x == 1 else 'Veg')\n",
    "\n",
    "# Displaying the clusters and identified veg/non-veg items\n",
    "print(food[['Food_items', 'VegNonVeg']])"
   ]
  },
  {
   "cell_type": "code",
   "execution_count": 18,
   "metadata": {},
   "outputs": [
    {
     "name": "stdout",
     "output_type": "stream",
     "text": [
      "'coffee' is  Veg\n"
     ]
    }
   ],
   "source": [
    "\n",
    "\n",
    "# Taking input of a food item\n",
    "input_food = input(\"Enter a food item: \")\n",
    "\n",
    "# Performing fuzzy matching to find the closest match\n",
    "matched_food = process.extractOne(input_food, food['Food_items'])\n",
    "\n",
    "# Checking if the matched food item has a high enough similarity score\n",
    "if matched_food[1] >= 80:  # You can adjust the threshold as needed\n",
    "    matched_food_name = matched_food[0]\n",
    "    veg_non_veg = food.loc[food['Food_items'] == matched_food_name, 'VegNonVeg'].values[0]\n",
    "    print(f\"'{input_food}' is  {veg_non_veg}\")\n",
    "else:\n",
    "    print(\"No closely matched food item found in the dataset.\")\n"
   ]
  },
  {
   "cell_type": "code",
   "execution_count": 19,
   "metadata": {},
   "outputs": [
    {
     "data": {
      "image/png": "[encoded data removed]",
      "text/plain": [
       "<Figure size 640x480 with 1 Axes>"
      ]
     },
     "metadata": {},
     "output_type": "display_data"
    }
   ],
   "source": [
    "\n",
    "def create_pie_chart(food_df, food_item):\n",
    "    # Perform fuzzy string matching to find the closest match\n",
    "    match = process.extractOne(food_item, food_df['Food_items'])\n",
    "    if match[1] >= 80:  # Adjust the threshold as needed\n",
    "        food_item = match[0]  # Use the closest match\n",
    "        item_row = food_df[food_df['Food_items'] == food_item]\n",
    "        \n",
    "        # Nutrient labels and sizes\n",
    "        labels = ['Calories', 'Fats', 'Proteins', 'Iron', 'Calcium', 'Sodium',\n",
    "                  'Potassium', 'Carbohydrates', 'Fibre', 'VitaminD', 'Sugars']\n",
    "        sizes = item_row[labels].values[0]\n",
    "        \n",
    "        # Colors for the pie chart\n",
    "        colors = ['gold', 'yellowgreen', 'lightcoral', 'lightskyblue', 'lightgreen',\n",
    "                  'pink', 'lightblue', 'orange', 'cyan', 'magenta', 'red']\n",
    "        \n",
    "        # Create pie chart\n",
    "        fig, ax = plt.subplots()\n",
    "        wedges, _, _ = ax.pie(sizes, colors=colors, autopct='', startangle=140, textprops=dict(color=\"black\"))\n",
    "        \n",
    "        # Add legend next to the pie chart\n",
    "        ax.legend(wedges, [f'{label}: {size:.1f}%' for label, size in zip(labels, sizes)], title=\"Nutrients\", loc=\"center left\", bbox_to_anchor=(1, 0.5))\n",
    "        \n",
    "        # Include information about whether the food item is vegetarian or non-vegetarian\n",
    "        veg_nonveg = item_row['VegNovVeg'].values[0]\n",
    "        if veg_nonveg == 0:\n",
    "            veg_label = 'Vegetarian'\n",
    "        else:\n",
    "            veg_label = 'Non-Vegetarian'\n",
    "        plt.text(1.5, 1.0, f'{veg_label}', horizontalalignment='center', verticalalignment='center', transform=ax.transAxes, fontsize=12, bbox=dict(facecolor='lightgreen', alpha=0.5))\n",
    "        \n",
    "        # Include information about meal type (breakfast, lunch, or dinner)\n",
    "        meal_type = ''\n",
    "        if item_row['Breakfast'].values[0] == 1:\n",
    "            meal_type += 'Breakfast'\n",
    "        if item_row['Lunch'].values[0] == 1:\n",
    "            if meal_type:\n",
    "                meal_type += ', '\n",
    "            meal_type += 'Lunch'\n",
    "        if item_row['Dinner'].values[0] == 1:\n",
    "            if meal_type:\n",
    "                meal_type += ', '\n",
    "            meal_type += 'Dinner'\n",
    "        plt.text(1.5, 0.9, f'{meal_type}', horizontalalignment='center', verticalalignment='center', transform=ax.transAxes, fontsize=12, bbox=dict(facecolor='lightskyblue', alpha=0.5))\n",
    "        \n",
    "        # Equal aspect ratio ensures that pie is drawn as a circle\n",
    "        ax.axis('equal')  \n",
    "        \n",
    "        # Title for the pie chart\n",
    "        plt.title(f'Nutrient Distribution of {food_item}')\n",
    "        \n",
    "        # Show the pie chart\n",
    "        plt.show()\n",
    "    else:\n",
    "        print(\"Food item not found or not similar enough in the dataset.\")\n",
    "\n",
    "# Call the function with the input\n",
    "food_item = input(\"Food Item: \")\n",
    "create_pie_chart(food, food_item)"
   ]
  },
  {
   "cell_type": "code",
   "execution_count": 20,
   "metadata": {},
   "outputs": [],
   "source": [
    "df=pd.read_csv(\"./Dataset/diet.csv\")"
   ]
  },
  {
   "cell_type": "code",
   "execution_count": 21,
   "metadata": {},
   "outputs": [
    {
     "data": {
      "text/html": [
       "<div>\n",
       "<style scoped>\n",
       "    .dataframe tbody tr th:only-of-type {\n",
       "        vertical-align: middle;\n",
       "    }\n",
       "\n",
       "    .dataframe tbody tr th {\n",
       "        vertical-align: top;\n",
       "    }\n",
       "\n",
       "    .dataframe thead th {\n",
       "        text-align: right;\n",
       "    }\n",
       "</style>\n",
       "<table border=\"1\" class=\"dataframe\">\n",
       "  <thead>\n",
       "    <tr style=\"text-align: right;\">\n",
       "      <th></th>\n",
       "      <th>Meal_Id</th>\n",
       "      <th>Name</th>\n",
       "      <th>catagory</th>\n",
       "      <th>description</th>\n",
       "      <th>Veg_Non</th>\n",
       "      <th>Nutrient</th>\n",
       "      <th>Disease</th>\n",
       "      <th>Diet</th>\n",
       "      <th>Price</th>\n",
       "    </tr>\n",
       "  </thead>\n",
       "  <tbody>\n",
       "    <tr>\n",
       "      <th>0</th>\n",
       "      <td>meal_id1</td>\n",
       "      <td>summer squash salad</td>\n",
       "      <td>salad</td>\n",
       "      <td>white balsamic vinegar, lemon juice, lemon rin...</td>\n",
       "      <td>veg</td>\n",
       "      <td>fiber</td>\n",
       "      <td>obesity diabeties hypertension goitre</td>\n",
       "      <td>alkaline_diet low_fat_diet ketogenic_diet low...</td>\n",
       "      <td>485</td>\n",
       "    </tr>\n",
       "    <tr>\n",
       "      <th>1</th>\n",
       "      <td>meal_id2</td>\n",
       "      <td>chicken minced salad</td>\n",
       "      <td>salad</td>\n",
       "      <td>olive oil, chicken mince, garlic (minced), oni...</td>\n",
       "      <td>non-veg</td>\n",
       "      <td>fiber</td>\n",
       "      <td>anemia pregnancy hypertension rickets goitre ...</td>\n",
       "      <td>low_fat_diet low_carb_diet ketogenic_diet low...</td>\n",
       "      <td>600</td>\n",
       "    </tr>\n",
       "    <tr>\n",
       "      <th>2</th>\n",
       "      <td>meal_id3</td>\n",
       "      <td>sweet chilli almonds</td>\n",
       "      <td>chilli</td>\n",
       "      <td>almonds whole, egg white, curry leaves, salt, ...</td>\n",
       "      <td>veg</td>\n",
       "      <td>vitamin_a</td>\n",
       "      <td>hypertension scurvy heart_disease goitre kidn...</td>\n",
       "      <td>alkaline_diet low_fat_diet paleo_diet Mediter...</td>\n",
       "      <td>255</td>\n",
       "    </tr>\n",
       "    <tr>\n",
       "      <th>3</th>\n",
       "      <td>meal_id4</td>\n",
       "      <td>tricolour salad</td>\n",
       "      <td>salad</td>\n",
       "      <td>vinegar, honey/sugar, soy sauce, salt, garlic ...</td>\n",
       "      <td>veg</td>\n",
       "      <td>fiber</td>\n",
       "      <td>obesity goitre hypertension</td>\n",
       "      <td>low_fat_diet ketogenic_diet low_sodium_diet h...</td>\n",
       "      <td>615</td>\n",
       "    </tr>\n",
       "    <tr>\n",
       "      <th>4</th>\n",
       "      <td>meal_id5</td>\n",
       "      <td>gluten-free christmas cake</td>\n",
       "      <td>cake</td>\n",
       "      <td>christmas dry fruits (pre-soaked), orange zest...</td>\n",
       "      <td>veg</td>\n",
       "      <td>vitamin_a</td>\n",
       "      <td>goitre kidney_disease</td>\n",
       "      <td>high_protien_diet</td>\n",
       "      <td>465</td>\n",
       "    </tr>\n",
       "  </tbody>\n",
       "</table>\n",
       "</div>"
      ],
      "text/plain": [
       "    Meal_Id                        Name catagory  \\\n",
       "0  meal_id1         summer squash salad    salad   \n",
       "1  meal_id2        chicken minced salad    salad   \n",
       "2  meal_id3        sweet chilli almonds   chilli   \n",
       "3  meal_id4             tricolour salad    salad   \n",
       "4  meal_id5  gluten-free christmas cake     cake   \n",
       "\n",
       "                                         description  Veg_Non   Nutrient  \\\n",
       "0  white balsamic vinegar, lemon juice, lemon rin...      veg      fiber   \n",
       "1  olive oil, chicken mince, garlic (minced), oni...  non-veg      fiber   \n",
       "2  almonds whole, egg white, curry leaves, salt, ...      veg  vitamin_a   \n",
       "3  vinegar, honey/sugar, soy sauce, salt, garlic ...      veg      fiber   \n",
       "4  christmas dry fruits (pre-soaked), orange zest...      veg  vitamin_a   \n",
       "\n",
       "                                             Disease  \\\n",
       "0              obesity diabeties hypertension goitre   \n",
       "1   anemia pregnancy hypertension rickets goitre ...   \n",
       "2   hypertension scurvy heart_disease goitre kidn...   \n",
       "3                        obesity goitre hypertension   \n",
       "4                              goitre kidney_disease   \n",
       "\n",
       "                                                Diet  Price  \n",
       "0   alkaline_diet low_fat_diet ketogenic_diet low...    485  \n",
       "1   low_fat_diet low_carb_diet ketogenic_diet low...    600  \n",
       "2   alkaline_diet low_fat_diet paleo_diet Mediter...    255  \n",
       "3   low_fat_diet ketogenic_diet low_sodium_diet h...    615  \n",
       "4                                  high_protien_diet    465  "
      ]
     },
     "execution_count": 21,
     "metadata": {},
     "output_type": "execute_result"
    }
   ],
   "source": [
    "df.head()"
   ]
  },
  {
   "cell_type": "code",
   "execution_count": 22,
   "metadata": {},
   "outputs": [
    {
     "name": "stdout",
     "output_type": "stream",
     "text": [
      "<class 'pandas.core.frame.DataFrame'>\n",
      "RangeIndex: 512 entries, 0 to 511\n",
      "Data columns (total 9 columns):\n",
      " #   Column       Non-Null Count  Dtype \n",
      "---  ------       --------------  ----- \n",
      " 0   Meal_Id      512 non-null    object\n",
      " 1   Name         512 non-null    object\n",
      " 2   catagory     512 non-null    object\n",
      " 3   description  511 non-null    object\n",
      " 4   Veg_Non      512 non-null    object\n",
      " 5   Nutrient     512 non-null    object\n",
      " 6   Disease      512 non-null    object\n",
      " 7   Diet         512 non-null    object\n",
      " 8   Price        512 non-null    int64 \n",
      "dtypes: int64(1), object(8)\n",
      "memory usage: 36.1+ KB\n"
     ]
    }
   ],
   "source": [
    "df.info()\n"
   ]
  },
  {
   "cell_type": "code",
   "execution_count": 23,
   "metadata": {},
   "outputs": [
    {
     "data": {
      "text/plain": [
       "(512, 9)"
      ]
     },
     "execution_count": 23,
     "metadata": {},
     "output_type": "execute_result"
    }
   ],
   "source": [
    "df.shape"
   ]
  },
  {
   "cell_type": "code",
   "execution_count": 24,
   "metadata": {},
   "outputs": [
    {
     "data": {
      "text/plain": [
       "2"
      ]
     },
     "execution_count": 24,
     "metadata": {},
     "output_type": "execute_result"
    }
   ],
   "source": [
    "df.isnull().sum()\n",
    "df.duplicated().sum()"
   ]
  },
  {
   "cell_type": "code",
   "execution_count": 25,
   "metadata": {},
   "outputs": [
    {
     "data": {
      "text/plain": [
       "Index(['Meal_Id', 'Name', 'catagory', 'description', 'Veg_Non', 'Nutrient',\n",
       "       'Disease', 'Diet', 'Price'],\n",
       "      dtype='object')"
      ]
     },
     "execution_count": 25,
     "metadata": {},
     "output_type": "execute_result"
    }
   ],
   "source": [
    "df.columns"
   ]
  },
  {
   "cell_type": "code",
   "execution_count": 26,
   "metadata": {},
   "outputs": [],
   "source": [
    "df = df.drop(columns=['Price'])"
   ]
  },
  {
   "cell_type": "code",
   "execution_count": 27,
   "metadata": {},
   "outputs": [],
   "source": [
    "df.dropna(subset=['description'], inplace=True)"
   ]
  },
  {
   "cell_type": "code",
   "execution_count": 62,
   "metadata": {},
   "outputs": [
    {
     "data": {
      "text/plain": [
       "133"
      ]
     },
     "execution_count": 62,
     "metadata": {},
     "output_type": "execute_result"
    }
   ],
   "source": [
    "df.shape\n",
    "df.duplicated().sum()"
   ]
  },
  {
   "cell_type": "code",
   "execution_count": 63,
   "metadata": {},
   "outputs": [],
   "source": [
    "df.drop_duplicates(inplace=True)"
   ]
  },
  {
   "cell_type": "code",
   "execution_count": 64,
   "metadata": {},
   "outputs": [
    {
     "data": {
      "text/plain": [
       "0"
      ]
     },
     "execution_count": 64,
     "metadata": {},
     "output_type": "execute_result"
    }
   ],
   "source": [
    "df.duplicated().sum()"
   ]
  },
  {
   "cell_type": "code",
   "execution_count": 65,
   "metadata": {},
   "outputs": [
    {
     "data": {
      "text/plain": [
       "(378, 8)"
      ]
     },
     "execution_count": 65,
     "metadata": {},
     "output_type": "execute_result"
    }
   ],
   "source": [
    "df.shape"
   ]
  },
  {
   "cell_type": "code",
   "execution_count": 28,
   "metadata": {},
   "outputs": [
    {
     "data": {
      "text/plain": [
       "Index(['Meal_Id', 'Name', 'catagory', 'description', 'Veg_Non', 'Nutrient',\n",
       "       'Disease', 'Diet'],\n",
       "      dtype='object')"
      ]
     },
     "execution_count": 28,
     "metadata": {},
     "output_type": "execute_result"
    }
   ],
   "source": [
    "df.head\n",
    "df.columns"
   ]
  },
  {
   "cell_type": "code",
   "execution_count": 29,
   "metadata": {},
   "outputs": [
    {
     "name": "stdout",
     "output_type": "stream",
     "text": [
      "Training data shape: (408, 7) (408,)\n",
      "Testing data shape: (103, 7) (103,)\n"
     ]
    }
   ],
   "source": [
    "# Split the data into training and testing sets\n",
    "X = df.drop(columns=['Veg_Non'])  # Features\n",
    "y = df['Veg_Non']  # Target variable\n",
    "X_train, X_test, y_train, y_test = train_test_split(X, y, test_size=0.2, random_state=42)\n",
    "\n",
    "# Display the shapes of train and test sets\n",
    "print(\"Training data shape:\", X_train.shape, y_train.shape)\n",
    "print(\"Testing data shape:\", X_test.shape, y_test.shape)"
   ]
  },
  {
   "cell_type": "code",
   "execution_count": 30,
   "metadata": {},
   "outputs": [
    {
     "data": {
      "text/html": [
       "<div>\n",
       "<style scoped>\n",
       "    .dataframe tbody tr th:only-of-type {\n",
       "        vertical-align: middle;\n",
       "    }\n",
       "\n",
       "    .dataframe tbody tr th {\n",
       "        vertical-align: top;\n",
       "    }\n",
       "\n",
       "    .dataframe thead th {\n",
       "        text-align: right;\n",
       "    }\n",
       "</style>\n",
       "<table border=\"1\" class=\"dataframe\">\n",
       "  <thead>\n",
       "    <tr style=\"text-align: right;\">\n",
       "      <th></th>\n",
       "      <th>Meal_Id</th>\n",
       "      <th>Name</th>\n",
       "      <th>catagory</th>\n",
       "      <th>description</th>\n",
       "      <th>Veg_Non</th>\n",
       "      <th>Nutrient</th>\n",
       "      <th>Disease</th>\n",
       "      <th>Diet</th>\n",
       "    </tr>\n",
       "  </thead>\n",
       "  <tbody>\n",
       "    <tr>\n",
       "      <th>0</th>\n",
       "      <td>meal_id1</td>\n",
       "      <td>summer squash salad</td>\n",
       "      <td>salad</td>\n",
       "      <td>white balsamic vinegar, lemon juice, lemon rin...</td>\n",
       "      <td>veg</td>\n",
       "      <td>fiber</td>\n",
       "      <td>obesity diabeties hypertension goitre</td>\n",
       "      <td>alkaline_diet low_fat_diet ketogenic_diet low...</td>\n",
       "    </tr>\n",
       "    <tr>\n",
       "      <th>1</th>\n",
       "      <td>meal_id2</td>\n",
       "      <td>chicken minced salad</td>\n",
       "      <td>salad</td>\n",
       "      <td>olive oil, chicken mince, garlic (minced), oni...</td>\n",
       "      <td>non-veg</td>\n",
       "      <td>fiber</td>\n",
       "      <td>anemia pregnancy hypertension rickets goitre ...</td>\n",
       "      <td>low_fat_diet low_carb_diet ketogenic_diet low...</td>\n",
       "    </tr>\n",
       "    <tr>\n",
       "      <th>2</th>\n",
       "      <td>meal_id3</td>\n",
       "      <td>sweet chilli almonds</td>\n",
       "      <td>chilli</td>\n",
       "      <td>almonds whole, egg white, curry leaves, salt, ...</td>\n",
       "      <td>veg</td>\n",
       "      <td>vitamin_a</td>\n",
       "      <td>hypertension scurvy heart_disease goitre kidn...</td>\n",
       "      <td>alkaline_diet low_fat_diet paleo_diet Mediter...</td>\n",
       "    </tr>\n",
       "    <tr>\n",
       "      <th>3</th>\n",
       "      <td>meal_id4</td>\n",
       "      <td>tricolour salad</td>\n",
       "      <td>salad</td>\n",
       "      <td>vinegar, honey/sugar, soy sauce, salt, garlic ...</td>\n",
       "      <td>veg</td>\n",
       "      <td>fiber</td>\n",
       "      <td>obesity goitre hypertension</td>\n",
       "      <td>low_fat_diet ketogenic_diet low_sodium_diet h...</td>\n",
       "    </tr>\n",
       "    <tr>\n",
       "      <th>4</th>\n",
       "      <td>meal_id5</td>\n",
       "      <td>gluten-free christmas cake</td>\n",
       "      <td>cake</td>\n",
       "      <td>christmas dry fruits (pre-soaked), orange zest...</td>\n",
       "      <td>veg</td>\n",
       "      <td>vitamin_a</td>\n",
       "      <td>goitre kidney_disease</td>\n",
       "      <td>high_protien_diet</td>\n",
       "    </tr>\n",
       "  </tbody>\n",
       "</table>\n",
       "</div>"
      ],
      "text/plain": [
       "    Meal_Id                        Name catagory  \\\n",
       "0  meal_id1         summer squash salad    salad   \n",
       "1  meal_id2        chicken minced salad    salad   \n",
       "2  meal_id3        sweet chilli almonds   chilli   \n",
       "3  meal_id4             tricolour salad    salad   \n",
       "4  meal_id5  gluten-free christmas cake     cake   \n",
       "\n",
       "                                         description  Veg_Non   Nutrient  \\\n",
       "0  white balsamic vinegar, lemon juice, lemon rin...      veg      fiber   \n",
       "1  olive oil, chicken mince, garlic (minced), oni...  non-veg      fiber   \n",
       "2  almonds whole, egg white, curry leaves, salt, ...      veg  vitamin_a   \n",
       "3  vinegar, honey/sugar, soy sauce, salt, garlic ...      veg      fiber   \n",
       "4  christmas dry fruits (pre-soaked), orange zest...      veg  vitamin_a   \n",
       "\n",
       "                                             Disease  \\\n",
       "0              obesity diabeties hypertension goitre   \n",
       "1   anemia pregnancy hypertension rickets goitre ...   \n",
       "2   hypertension scurvy heart_disease goitre kidn...   \n",
       "3                        obesity goitre hypertension   \n",
       "4                              goitre kidney_disease   \n",
       "\n",
       "                                                Diet  \n",
       "0   alkaline_diet low_fat_diet ketogenic_diet low...  \n",
       "1   low_fat_diet low_carb_diet ketogenic_diet low...  \n",
       "2   alkaline_diet low_fat_diet paleo_diet Mediter...  \n",
       "3   low_fat_diet ketogenic_diet low_sodium_diet h...  \n",
       "4                                  high_protien_diet  "
      ]
     },
     "execution_count": 30,
     "metadata": {},
     "output_type": "execute_result"
    }
   ],
   "source": [
    "df.head()\n"
   ]
  },
  {
   "cell_type": "code",
   "execution_count": 31,
   "metadata": {},
   "outputs": [
    {
     "data": {
      "text/plain": [
       "Meal_Id        308\n",
       "Name           308\n",
       "catagory        78\n",
       "description    327\n",
       "Veg_Non          2\n",
       "Nutrient        17\n",
       "Disease        124\n",
       "Diet           141\n",
       "dtype: int64"
      ]
     },
     "execution_count": 31,
     "metadata": {},
     "output_type": "execute_result"
    }
   ],
   "source": [
    "df.nunique()"
   ]
  },
  {
   "cell_type": "code",
   "execution_count": 32,
   "metadata": {},
   "outputs": [
    {
     "name": "stdout",
     "output_type": "stream",
     "text": [
      "Column Names in DisDif DataFrame:\n",
      "Index(['Meal_Id', 'Name', 'catagory', 'description', 'Veg_Non', 'Nutrient',\n",
      "       'Disease', 'Diet'],\n",
      "      dtype='object')\n"
     ]
    }
   ],
   "source": [
    "print(\"Column Names in DisDif DataFrame:\")\n",
    "print(df.columns)\n"
   ]
  },
  {
   "cell_type": "code",
   "execution_count": 33,
   "metadata": {},
   "outputs": [],
   "source": [
    "food_list2 = df.loc[:, 'Name'].unique().tolist()\n"
   ]
  },
  {
   "cell_type": "code",
   "execution_count": 34,
   "metadata": {},
   "outputs": [
    {
     "name": "stdout",
     "output_type": "stream",
     "text": [
      "Food Item List:\n",
      "--------------------\n",
      "summer squash salad\n",
      "chicken minced salad\n",
      "sweet chilli almonds\n",
      "tricolour salad\n",
      "gluten-free christmas cake\n",
      "japanese curry arancini with  barley salsa\n",
      "chocolate nero cookies\n",
      "lamb and chargrilled bell pepper soup\n",
      "cream of almond soup\n",
      "broccoli and almond soup\n",
      "coconut lime quinoa salad\n",
      "lemon honey glazed sous vide corn on the cob\n",
      "watermelon and strawberry smoothie\n",
      "peach, raspberry and nuts smoothie\n",
      "almond and cranberry poha\n",
      "almond and raw banana galawat\n",
      "baked namakpara with roasted almond dip\n",
      "grilled almond barfi (sugar free)\n",
      "baked shankarpali recipe\n",
      "baked multigrain murukku\n",
      "apple rabdi\n",
      "baked namak para\n",
      "dates and nuts ladoo\n",
      "green lentil dessert fudge\n",
      "cashew nut cookies\n",
      "almond pearls\n",
      "hawaiin papaya salad\n",
      "vegetable som tam salad\n",
      "spinach and feta crepes\n",
      "couscous with ratatouille - tangy tomato sauce\n",
      "baked almond kofta\n",
      "almond and amaranth ladoo\n",
      "moong dal kiwi coconut soup\n",
      "mixed berry &amp; banana smoothie\n",
      "banana walnut smoothie\n",
      "spicy watermelon soup\n",
      "red rice poha\n",
      "mixed salad with lotus root\n",
      "sweet potato and quinoa bowl\n",
      "corn and raw mango salad\n",
      "oats khichdi\n",
      "sugar free modak\n",
      "beetroot modak\n",
      "andhra pan fried pomfret\n",
      "ghee roast chicken dosa quesadilla\n",
      "steam bunny chicken bao\n",
      "meat lovers pizza\n",
      "almond and chicken momos (without shell)\n",
      "christmas tree pizza\n",
      "belgian pork chop\n",
      "christmas chocolate fudge cookies\n",
      "chicken parmigiana with tomato sauce\n",
      "chocolate appo\n",
      "sous-vide salmon tikka\n",
      "filo pizza\n",
      "chocolate samosa\n",
      "fish with jamun sauce\n",
      "dahi lasooni chicken\n",
      "pesto fish kebabs\n",
      "caramelized sesame smoked almonds\n",
      "crunchy vegetable dal sattu croquettes\n",
      "active charcoal modak\n",
      "flax seed and beetroot modak\n",
      "chocolate prunes gujiyas\n",
      "almond &amp; white chocolate gujiya\n",
      "betel nut popsicle\n",
      "clotted cottage cheese croquettes\n",
      "gajar halwa tart\n",
      "banana and maple ice lollies\n",
      "shepherds salad (tamatar-kheera salaad)\n",
      "carrot ginger soup\n",
      "dark night\n",
      "hot chocolate\n",
      "slow cooked spiced sangria\n",
      "detox haldi tea\n",
      "holi special ice tea thandai\n",
      "grilled lemon margarita\n",
      "spanish artichoke and spinach dip\n",
      "beetroot and green apple soup\n",
      "baba budan no. 7\n",
      "fruit infused tea\n",
      "soya milk\n",
      "spiced coffee\n",
      "filter coffee\n",
      "garlic and pinenut soup with burnt butter essence\n",
      "roast turkey with cranberry sauce\n",
      "roasted spring chicken with root veggies\n",
      "peri peri chicken satay\n",
      "chicken popcorn\n",
      "half roast chicken\n",
      "riceless chicken biryani\n",
      "chicken farcha\n",
      "buldak (hot and spicy chicken)\n",
      "chicken sukka\n",
      "steamed chicken roulade\n",
      "methi chicken masala\n",
      "restaurant style fried chicken\n",
      "chicken potli\n",
      "spicy chicken masala\n",
      "spicy chicken curry\n",
      "crispy herb chicken\n",
      "dahi chicken\n",
      "amritsari chicken masala\n",
      "chilli chicken\n",
      "oat crusted chicken tenders\n",
      "chicken nimbu dhaniya shorba\n",
      "garlic soya chicken\n",
      "cauliflower and chicken biryani\n",
      "chicken quinoa biryani\n",
      "chicken and mushroom lasagna\n",
      "plum and cherry roasted chicken\n",
      "chicken roulade\n",
      "sticky rum chicken wings\n",
      "chicken fritters\n",
      "chicken palwal\n",
      "pan seared thigh of chicken\n",
      "chicken in mahalak sauce\n",
      "grilled kasundi honey chicken with sweet potato mash\n",
      "chicken dong style\n",
      "microwave tandoori chicken\n",
      "methi malai cranberry chicken\n",
      "southern fried chicken tenders\n",
      "thai style chicken tikka\n",
      "chicken gilafi kebab\n",
      "cheese chicken kebabs\n",
      "andhra crab meat masala\n",
      "cajun spiced turkey wrapped with bacon\n",
      "mongolian lamb balls\n",
      "oyster lamb\n",
      "chicken shami kebab\n",
      "balti meat\n",
      "coffee marinated mutton chops\n",
      "sali boti (parsi meat dish)\n",
      "braised lamb shanks\n",
      "bengali lamb curry\n",
      "malabari fish curry\n",
      "portugese fish stew\n",
      "malabar fish curry\n",
      "surmai curry with lobster butter rice\n",
      "seared salmon in tabasco butter\n",
      "risotto lobster with parmesan egg pancake, confit tomatoes and coral tuille\n",
      "fish skewers with coriander and red wine vinegar dressing\n",
      "seafood rock filler\n",
      "shrimp &amp; cilantro ceviche\n",
      "saewoo bokumbop (shrimp fried rice)\n",
      "goan prawn curry &amp; baked rice canapes\n",
      "bihari fish curry\n",
      "beer batter fish fingers\n",
      "prawn and litchi salad\n",
      "kerala fish curry\n",
      "fish andlouse\n",
      "prawn fried rice\n",
      "damdama fish curry\n",
      "fish with white sauce\n",
      "chilli fish\n",
      "fish ambultiyal\n",
      "chettinad fish fry\n",
      "fish moilee\n",
      "batter fish\n",
      "fish salan\n",
      "spanish fish fry\n",
      "prawn potato soup\n",
      "red rice vermicelli kheer\n",
      "green cucumber shots\n",
      "thai pineapple rice\n",
      "green asparagus risotto\n",
      "veg fried rice\n",
      "egg and garlic fried rice\n",
      "curd rice\n",
      "fried rice with soya chunks\n",
      "corn pulao\n",
      "zucchini methi pulao\n",
      "lemon rice\n",
      "kale channe ki biryani\n",
      "chicken paella\n",
      "thai fish curry\n",
      "vegetable pulao\n",
      "oats &amp; shallots pulao\n",
      "shiitake fried rice with water chestnuts\n",
      "lotus leaf wrapped fried rice\n",
      "vegetable biryani\n",
      "avial with red rice\n",
      "rice in lamb stock\n",
      "vegetable bruschetta\n",
      "red wine braised mushroom flatbread\n",
      "strawberry &amp; pistachio breton tart\n",
      "tricolour pizza\n",
      "instant rava dosa\n",
      "easy bread poha\n",
      "bread chana basket\n",
      "spaghetti with clams &amp; crispy bread crumbs\n",
      "kasha bread\n",
      "egg paratha\n",
      "egg and cheddar cheese sandwich\n",
      "egg in a blanket\n",
      "bread dahi vada\n",
      "cheese and avocado parantha\n",
      "bread with tomatoes and olives\n",
      "lemon poppy seed cake\n",
      "chocolate kaju katli\n",
      "mix fruit laccha rabri tortilla crunch\n",
      "pista chocolate &amp; mandarin\n",
      "banana and chia tea cake\n",
      "chocolate and almond rum ball h\n",
      "lemon sushi cake\n",
      "chocolate doughnut\n",
      "spiced almond banana jaggery cake\n",
      "fennel scented sweet banana fritters\n",
      "camel milk cake tart\n",
      "quinoa coconut crumble custard\n",
      "lamb barley pot\n",
      "al hachi chicken\n",
      "berry parfait hazelnut white chocolate sable\n",
      "badam papite ke kebab with pineapple salsa\n",
      "mixed vegetable soup\n",
      "duo of chocolate and strawberry\n",
      "mustard-parmesan whole roasted cauliflower\n",
      "hassel back sweet potatoes\n",
      "mother christmas cake\n",
      "matcha tea macarons\n",
      "amaranthus granola with lemon yogurt, berries and marigold\n",
      "chocolate fudge cookies\n",
      "veg summer rolls\n",
      "eggless vanilla cake\n",
      "sweet potato pie\n",
      "wok tossed asparagus in mild garlic sauce\n",
      "cinnamon oatmeal pancakes\n",
      "chocolate chip cheesecake\n",
      "chocolate lava cake\n",
      "eggless coffee cupcakes\n",
      "chicken in white wine\n",
      "apple and walnut cake\n",
      "gluten free almond cake\n",
      "cinnamon star cookies\n",
      "whole wheat cake\n",
      "plum cake\n",
      "double chocolate easter cookies\n",
      "holi special malai kofta\n",
      "homemade gulab jamun\n",
      "lamb rogan josh\n",
      "fish curry\n",
      "rice kheer\n",
      "assorted rice kheer sushi\n",
      "jalebi with fennel yogurt pudding\n",
      "broccoli souffle\n",
      "christmas dry fruit cake\n",
      "microwave chicken steak\n",
      "cheese and ham roll\n",
      "vegetable manchurian\n",
      "jerk chicken\n",
      "lemon poppy seed cake hindi\n",
      "steam bunny chicken bao hindi\n",
      "double chocolate easter cookies hindi\n",
      "orange quinoa sevaiyan\n",
      "spicy creamy kadai chicken\n",
      "apple kheer\n",
      "ragi oats ladoo (laddu)\n",
      "lamb korma\n",
      "ragi coconut ladoo (laddu)\n",
      "quick chicken curry\n",
      "chicken shaami kebab\n",
      "chicken masala\n",
      "holi special bhang pakode\n",
      "kuttu atta pizza\n",
      "arbi kofta with mint yogurt dip\n",
      "puffed rice squares\n",
      "red velvet banana pudding\n",
      "baked wild berry cheesecake\n",
      "spiced orange valencia cake\n",
      "jalapeno cheese fingers\n",
      "californian breakfast benedict\n",
      "chocolate marquise\n",
      "corn &amp; jalapeno poppers\n",
      "banana phirni tartlets with fresh strawberries\n",
      "mexican pizza\n",
      "apple and pear cake\n",
      "microwave chocolate cake\n",
      "white chocolate and lemon pastry\n",
      "mixed beans salad\n",
      "baked raw banana samosa\n",
      "coconut mango oatmeal with cinnamon hint\n",
      "fruit cube salad\n",
      "veg hakka noodles\n",
      "strawberry quinoa pancakes\n",
      "spinach &amp; banana pancakes\n",
      "french onion grilled cheese\n",
      "pasta in cheese sauce\n",
      "deviled scotch egg\n",
      "amritsari fish\n",
      "butter chicken\n",
      "chicken razala\n",
      "chicken tikka\n",
      "chicken tikka masala\n",
      "mushroom matar\n",
      "tandoori chicken\n",
      "tandoori fish tikka\n",
      "chettinadu chicken\n",
      "chicken 65\n",
      "kolim / jawla\n",
      "black rice\n",
      "brown rice\n",
      "koldil chicken\n",
      "red rice\n",
      "sunga pork\n",
      "banana chips\n",
      "bhurji- egg\n",
      "flattened rice / pohe\n",
      "puffed rice\n"
     ]
    }
   ],
   "source": [
    "print(\"Food Item List:\")\n",
    "print('-' * 20)  # Separator for better readability\n",
    "\n",
    "for food_item2 in food_list2:\n",
    "    print(food_item2)"
   ]
  },
  {
   "cell_type": "code",
   "execution_count": 35,
   "metadata": {},
   "outputs": [
    {
     "data": {
      "text/html": [
       "<div>\n",
       "<style scoped>\n",
       "    .dataframe tbody tr th:only-of-type {\n",
       "        vertical-align: middle;\n",
       "    }\n",
       "\n",
       "    .dataframe tbody tr th {\n",
       "        vertical-align: top;\n",
       "    }\n",
       "\n",
       "    .dataframe thead th {\n",
       "        text-align: right;\n",
       "    }\n",
       "</style>\n",
       "<table border=\"1\" class=\"dataframe\">\n",
       "  <thead>\n",
       "    <tr style=\"text-align: right;\">\n",
       "      <th></th>\n",
       "      <th>Meal_Id</th>\n",
       "      <th>Name</th>\n",
       "      <th>catagory</th>\n",
       "      <th>description</th>\n",
       "      <th>Veg_Non</th>\n",
       "      <th>Nutrient</th>\n",
       "      <th>Disease</th>\n",
       "      <th>Diet</th>\n",
       "    </tr>\n",
       "  </thead>\n",
       "  <tbody>\n",
       "    <tr>\n",
       "      <th>0</th>\n",
       "      <td>meal_id1</td>\n",
       "      <td>summer squash salad</td>\n",
       "      <td>salad</td>\n",
       "      <td>white balsamic vinegar, lemon juice, lemon rin...</td>\n",
       "      <td>veg</td>\n",
       "      <td>fiber</td>\n",
       "      <td>obesity diabeties hypertension goitre</td>\n",
       "      <td>alkaline_diet low_fat_diet ketogenic_diet low...</td>\n",
       "    </tr>\n",
       "    <tr>\n",
       "      <th>1</th>\n",
       "      <td>meal_id2</td>\n",
       "      <td>chicken minced salad</td>\n",
       "      <td>salad</td>\n",
       "      <td>olive oil, chicken mince, garlic (minced), oni...</td>\n",
       "      <td>non-veg</td>\n",
       "      <td>fiber</td>\n",
       "      <td>anemia pregnancy hypertension rickets goitre ...</td>\n",
       "      <td>low_fat_diet low_carb_diet ketogenic_diet low...</td>\n",
       "    </tr>\n",
       "    <tr>\n",
       "      <th>2</th>\n",
       "      <td>meal_id3</td>\n",
       "      <td>sweet chilli almonds</td>\n",
       "      <td>chilli</td>\n",
       "      <td>almonds whole, egg white, curry leaves, salt, ...</td>\n",
       "      <td>veg</td>\n",
       "      <td>vitamin_a</td>\n",
       "      <td>hypertension scurvy heart_disease goitre kidn...</td>\n",
       "      <td>alkaline_diet low_fat_diet paleo_diet Mediter...</td>\n",
       "    </tr>\n",
       "    <tr>\n",
       "      <th>3</th>\n",
       "      <td>meal_id4</td>\n",
       "      <td>tricolour salad</td>\n",
       "      <td>salad</td>\n",
       "      <td>vinegar, honey/sugar, soy sauce, salt, garlic ...</td>\n",
       "      <td>veg</td>\n",
       "      <td>fiber</td>\n",
       "      <td>obesity goitre hypertension</td>\n",
       "      <td>low_fat_diet ketogenic_diet low_sodium_diet h...</td>\n",
       "    </tr>\n",
       "    <tr>\n",
       "      <th>4</th>\n",
       "      <td>meal_id5</td>\n",
       "      <td>gluten-free christmas cake</td>\n",
       "      <td>cake</td>\n",
       "      <td>christmas dry fruits (pre-soaked), orange zest...</td>\n",
       "      <td>veg</td>\n",
       "      <td>vitamin_a</td>\n",
       "      <td>goitre kidney_disease</td>\n",
       "      <td>high_protien_diet</td>\n",
       "    </tr>\n",
       "  </tbody>\n",
       "</table>\n",
       "</div>"
      ],
      "text/plain": [
       "    Meal_Id                        Name catagory  \\\n",
       "0  meal_id1         summer squash salad    salad   \n",
       "1  meal_id2        chicken minced salad    salad   \n",
       "2  meal_id3        sweet chilli almonds   chilli   \n",
       "3  meal_id4             tricolour salad    salad   \n",
       "4  meal_id5  gluten-free christmas cake     cake   \n",
       "\n",
       "                                         description  Veg_Non   Nutrient  \\\n",
       "0  white balsamic vinegar, lemon juice, lemon rin...      veg      fiber   \n",
       "1  olive oil, chicken mince, garlic (minced), oni...  non-veg      fiber   \n",
       "2  almonds whole, egg white, curry leaves, salt, ...      veg  vitamin_a   \n",
       "3  vinegar, honey/sugar, soy sauce, salt, garlic ...      veg      fiber   \n",
       "4  christmas dry fruits (pre-soaked), orange zest...      veg  vitamin_a   \n",
       "\n",
       "                                             Disease  \\\n",
       "0              obesity diabeties hypertension goitre   \n",
       "1   anemia pregnancy hypertension rickets goitre ...   \n",
       "2   hypertension scurvy heart_disease goitre kidn...   \n",
       "3                        obesity goitre hypertension   \n",
       "4                              goitre kidney_disease   \n",
       "\n",
       "                                                Diet  \n",
       "0   alkaline_diet low_fat_diet ketogenic_diet low...  \n",
       "1   low_fat_diet low_carb_diet ketogenic_diet low...  \n",
       "2   alkaline_diet low_fat_diet paleo_diet Mediter...  \n",
       "3   low_fat_diet ketogenic_diet low_sodium_diet h...  \n",
       "4                                  high_protien_diet  "
      ]
     },
     "execution_count": 35,
     "metadata": {},
     "output_type": "execute_result"
    }
   ],
   "source": [
    "df.head()"
   ]
  },
  {
   "cell_type": "code",
   "execution_count": 36,
   "metadata": {},
   "outputs": [
    {
     "name": "stdout",
     "output_type": "stream",
     "text": [
      "Catagory List:\n",
      "--------------------\n",
      "salad\n",
      "chilli\n",
      "cake\n",
      "barley\n",
      "cookie\n",
      "soup\n",
      "corn\n",
      "smoothie\n",
      "poha\n",
      "banana\n",
      "dip\n",
      "barfi\n",
      "shankarpali\n",
      "baked\n",
      "rabdi\n",
      "ladoo\n",
      "dessert\n",
      "almond\n",
      "spinach\n",
      "sauce\n",
      "kofta\n",
      "potato\n",
      "khichdi\n",
      "snacks\n",
      "dal\n",
      "modak\n",
      "chocolate\n",
      "gujiya\n",
      "pizza\n",
      "cheese\n",
      "halwa\n",
      "apple\n",
      "sangria\n",
      "tea\n",
      "margarita\n",
      "cardamom\n",
      "milk\n",
      "coffee\n",
      "chicken\n",
      "meat\n",
      "curry\n",
      "fish\n",
      "rice\n",
      "butter\n",
      "egg\n",
      "wine\n",
      "coriander\n",
      "kebabs\n",
      "crab\n",
      "bread\n",
      "kheer\n",
      "kaju\n",
      "samosa\n",
      "rabri\n",
      "coconut\n",
      "dosa\n",
      "bao\n",
      "wrapped\n",
      "kebab\n",
      "chop\n",
      "strawberry\n",
      "roasted\n",
      "vanilla\n",
      "yogurt\n",
      "pie\n",
      "pancakes\n",
      "lamb\n",
      "gulab\n",
      "pudding\n",
      "broccoli\n",
      "tomato\n",
      "korma\n",
      "pakode\n",
      "berry\n",
      "bruschetta\n",
      "tikka\n",
      "mango\n",
      "matar\n"
     ]
    }
   ],
   "source": [
    "catagory_list = df['catagory'].unique().tolist()\n",
    "print(\"Catagory List:\")\n",
    "print('-' * 20)  # Separator for better readability\n",
    "\n",
    "for type in catagory_list:\n",
    "    print(type)"
   ]
  },
  {
   "cell_type": "code",
   "execution_count": 37,
   "metadata": {},
   "outputs": [],
   "source": [
    "nutrient_list = df['Nutrient'].unique().tolist()"
   ]
  },
  {
   "cell_type": "code",
   "execution_count": 38,
   "metadata": {},
   "outputs": [
    {
     "name": "stdout",
     "output_type": "stream",
     "text": [
      "Nutrient List:\n",
      "--------------------\n",
      "fiber\n",
      "vitamin_a\n",
      "calcium\n",
      "magnesium\n",
      "sodium\n",
      "vitamin_c\n",
      "protien\n",
      "vitamin_e\n",
      "iron\n",
      "selenium\n",
      "carbohydrates\n",
      "chloride\n",
      "potassium\n",
      "vitamin_d\n",
      "manganese\n",
      "phosphorus\n",
      "iodine\n"
     ]
    }
   ],
   "source": [
    "print(\"Nutrient List:\")\n",
    "print('-' * 20)  # Separator for better readability\n",
    "\n",
    "for nutri in nutrient_list:\n",
    "    print(nutri)"
   ]
  },
  {
   "cell_type": "code",
   "execution_count": 39,
   "metadata": {},
   "outputs": [
    {
     "name": "stdout",
     "output_type": "stream",
     "text": [
      "[' obesity diabeties hypertension goitre', ' anemia pregnancy hypertension rickets goitre kidney_disease obesity', ' hypertension scurvy heart_disease goitre kidney_disease pregnancy', ' obesity goitre hypertension', ' goitre kidney_disease', ' goitre', ' hypertension heart_disease', ' pregnancy scurvy goitre kidney_disease obesity', ' obesity cancer hypertension', ' pregnancy hypertension scurvy obesity diabeties', ' pregnancy hypertension scurvy goitre obesity', ' diabeties goitre scurvy', ' scurvy', ' anemia cancer heart_disease kidney_disease obesity diabeties', ' hypertension', ' anemia hypertension cancer scurvy heart_disease kidney_disease diabeties', ' goitre hypertension kidney_disease', ' goitre hypertension', ' diabeties goitre', ' obesity diabeties', ' anemia hypertension scurvy heart_disease goitre kidney_disease pregnancy diabeties', ' obesity scurvy hypertension goitre', ' hypertension scurvy heart_disease goitre kidney_disease obesity', ' anemia scurvy goitre kidney_disease', ' anemia pregnancy hypertension cancer scurvy heart_disease eye_disease rickets goitre kidney_disease obesity diabeties', ' obesity scurvy hypertension', ' diabeties hypertension', ' obesity', ' anemia pregnancy cancer scurvy kidney_disease obesity diabeties', ' hypertension goitre kidney_disease obesity diabeties', ' hypertension scurvy goitre kidney_disease pregnancy', ' anemia hypertension cancer scurvy heart_disease goitre kidney_disease obesity diabeties', ' pregnancy hypertension cancer heart_disease goitre kidney_disease obesity diabeties', ' cancer', ' anemia rickets goitre kidney_disease pregnancy', ' anemia pregnancy cancer goitre kidney_disease obesity', ' anemia hypertension rickets goitre kidney_disease pregnancy', ' pregnancy goitre', ' anemia pregnancy hypertension heart_disease rickets goitre obesity diabeties', ' anemia pregnancy hypertension cancer heart_disease rickets goitre kidney_disease obesity diabeties', ' heart_disease', ' obesity scurvy kidney_disease heart_disease', ' goitre hypertension heart_disease', ' anemia hypertension scurvy heart_disease rickets kidney_disease obesity', ' obesity eye_disease', ' kidney_disease', ' anemia hypertension scurvy heart_disease eye_disease rickets', ' hypertension cancer scurvy heart_disease goitre', ' anemia pregnancy scurvy heart_disease goitre kidney_disease obesity diabeties', ' kidney_disease heart_disease', ' scurvy goitre', ' anemia scurvy kidney_disease', ' anemia pregnancy hypertension scurvy heart_disease goitre kidney_disease obesity diabeties', ' eye_disease rickets heart_disease scurvy', ' pregnancy hypertension scurvy heart_disease eye_disease obesity diabeties', ' cancer hypertension rickets', ' pregnancy anemia', ' pregnancy kidney_disease anemia', ' hypertension cancer heart_disease kidney_disease obesity diabeties', ' anemia pregnancy scurvy heart_disease rickets goitre kidney_disease obesity diabeties', ' anemia scurvy rickets goitre kidney_disease pregnancy', ' anemia cancer rickets goitre kidney_disease pregnancy', ' anemia pregnancy rickets goitre kidney_disease obesity', ' anemia rickets goitre kidney_disease pregnancy diabeties', ' anemia hypertension cancer heart_disease rickets goitre kidney_disease pregnancy diabeties', ' anemia hypertension scurvy rickets goitre kidney_disease pregnancy', ' anemia pregnancy eye_disease rickets goitre kidney_disease obesity', ' anemia pregnancy cancer kidney_disease obesity', ' obesity diabeties anemia', ' hypertension cancer heart_disease rickets goitre kidney_disease pregnancy diabeties', ' anemia pregnancy hypertension cancer scurvy heart_disease rickets goitre kidney_disease obesity diabeties', ' anemia pregnancy rickets goitre obesity', ' anemia goitre', ' obesity diabeties goitre anemia', ' obesity cancer diabeties anemia', ' obesity pregnancy', ' obesity diabeties kidney_disease anemia', ' anemia cancer kidney_disease obesity diabeties', ' obesity diabeties anemia scurvy', ' scurvy heart_disease kidney_disease pregnancy diabeties', ' anemia pregnancy cancer goitre kidney_disease obesity diabeties', ' scurvy kidney_disease', ' rickets', ' hypertension heart_disease eye_disease rickets goitre obesity', ' hypertension rickets goitre kidney_disease pregnancy diabeties', ' pregnancy hypertension eye_disease rickets goitre kidney_disease obesity diabeties', ' obesity eye_disease heart_disease', ' cancer heart_disease', ' scurvy hypertension heart_disease', ' hypertension heart_disease goitre obesity diabeties', ' cancer hypertension kidney_disease rickets', ' obesity pregnancy hypertension goitre', ' scurvy heart_disease kidney_disease obesity diabeties', ' cancer hypertension kidney_disease', ' pregnancy hypertension scurvy goitre kidney_disease obesity', ' pregnancy', ' pregnancy hypertension scurvy heart_disease goitre kidney_disease obesity', ' diabeties', ' hypertension cancer scurvy heart_disease kidney_disease pregnancy diabeties', ' hypertension cancer rickets goitre obesity diabeties', ' anemia pregnancy scurvy rickets goitre kidney_disease obesity', ' hypertension heart_disease goitre kidney_disease obesity diabeties', ' cancer diabeties hypertension', ' diabeties hypertension heart_disease scurvy', ' pregnancy hypertension goitre obesity diabeties', ' pregnancy diabeties scurvy', ' anemia scurvy rickets goitre pregnancy', ' obesity hypertension', ' obesity diabeties hypertension pregnancy', ' anemia pregnancy hypertension cancer scurvy goitre kidney_disease obesity diabeties', ' rickets goitre', ' anemia rickets scurvy', ' obesity rickets hypertension', ' anemia pregnancy hypertension cancer scurvy heart_disease rickets kidney_disease obesity diabeties', ' anemia pregnancy hypertension heart_disease goitre obesity diabeties', ' anemia hypertension cancer scurvy heart_disease goitre kidney_disease diabeties', ' pregnancy hypertension scurvy heart_disease eye_disease goitre obesity diabeties', ' pregnancy scurvy goitre', ' anemia scurvy hypertension kidney_disease', ' obesity goitre kidney_disease eye_disease', ' cancer scurvy heart_disease eye_disease rickets goitre kidney_disease obesity diabeties', ' anemia pregnancy goitre obesity diabeties', ' obesity diabeties anemia heart_disease', ' anemia cancer scurvy heart_disease eye_disease rickets goitre kidney_disease obesity diabeties']\n"
     ]
    }
   ],
   "source": [
    "disease_list = df['Disease'].unique().tolist()\n",
    "print(disease_list)"
   ]
  },
  {
   "cell_type": "code",
   "execution_count": 40,
   "metadata": {},
   "outputs": [
    {
     "name": "stdout",
     "output_type": "stream",
     "text": [
      "[['obesity'], ['diabeties'], ['hypertension'], ['goitre'], ['anemia'], ['pregnancy'], ['rickets'], ['kidney_disease'], ['scurvy'], ['heart_disease'], ['cancer'], ['eye_disease']]\n"
     ]
    }
   ],
   "source": [
    "unique_disease = []\n",
    "\n",
    "for diseases_string in disease_list:\n",
    "    individual_strings = diseases_string.split(', ')\n",
    "    \n",
    "    for individual_string in individual_strings:\n",
    "        diseases_list = individual_string.split()\n",
    "        \n",
    "        for diseases in diseases_list:\n",
    "            disease_names = diseases.split(', ')\n",
    "            \n",
    "            if disease_names not in unique_disease :\n",
    "                unique_disease.append(disease_names)\n",
    "\n",
    "print(unique_disease)"
   ]
  },
  {
   "cell_type": "code",
   "execution_count": 41,
   "metadata": {},
   "outputs": [
    {
     "name": "stdout",
     "output_type": "stream",
     "text": [
      "Disease List:\n",
      "--------------------\n",
      "['obesity']\n",
      "['diabeties']\n",
      "['hypertension']\n",
      "['goitre']\n",
      "['anemia']\n",
      "['pregnancy']\n",
      "['rickets']\n",
      "['kidney_disease']\n",
      "['scurvy']\n",
      "['heart_disease']\n",
      "['cancer']\n",
      "['eye_disease']\n"
     ]
    }
   ],
   "source": [
    "print(\"Disease List:\")\n",
    "print('-' * 20)  # Separator for better readability\n",
    "\n",
    "for disease in unique_disease:\n",
    "    print(disease)"
   ]
  },
  {
   "cell_type": "code",
   "execution_count": 42,
   "metadata": {},
   "outputs": [
    {
     "name": "stdout",
     "output_type": "stream",
     "text": [
      "['obesity', 'diabeties', 'hypertension', 'goitre', 'anemia', 'pregnancy', 'rickets', 'kidney_disease', 'scurvy', 'heart_disease', 'cancer', 'eye_disease']\n"
     ]
    }
   ],
   "source": [
    "uni_diseases = [''.join(element).replace('[', '').replace(']', '').replace(\"'\", '') for element in unique_disease]\n",
    "print(uni_diseases)"
   ]
  },
  {
   "cell_type": "code",
   "execution_count": 43,
   "metadata": {},
   "outputs": [
    {
     "name": "stdout",
     "output_type": "stream",
     "text": [
      "obesity\n",
      "diabeties\n",
      "hypertension\n",
      "goitre\n",
      "anemia\n",
      "pregnancy\n",
      "rickets\n",
      "kidney_disease\n",
      "scurvy\n",
      "heart_disease\n",
      "cancer\n",
      "eye_disease\n"
     ]
    }
   ],
   "source": [
    "for disease in uni_diseases:\n",
    "    print(disease)"
   ]
  },
  {
   "cell_type": "code",
   "execution_count": 44,
   "metadata": {},
   "outputs": [],
   "source": [
    "diet_list =df['Diet'].unique().tolist()"
   ]
  },
  {
   "cell_type": "code",
   "execution_count": 45,
   "metadata": {},
   "outputs": [
    {
     "name": "stdout",
     "output_type": "stream",
     "text": [
      "['alkaline_diet', 'low_fat_diet', 'ketogenic_diet', 'low_sodium_diet', 'high_fiber_diet', 'high_protien_diet', 'dash_diet', 'low_carb_diet', 'vegan_diet', 'hormone_diet', 'type_a_diet', 'paleo_diet', 'Mediterranean_diet', 'gluten_free_diet', 'omni_diet', 'type_o_diet']\n"
     ]
    }
   ],
   "source": [
    "unique_diet = []\n",
    "\n",
    "for types in diet_list:\n",
    "    diet_types = types.split()\n",
    "    for diet in diet_types:    \n",
    "        if diet not in unique_diet :\n",
    "            unique_diet.append(diet)\n",
    "\n",
    "print(unique_diet)"
   ]
  },
  {
   "cell_type": "code",
   "execution_count": 46,
   "metadata": {},
   "outputs": [
    {
     "name": "stdout",
     "output_type": "stream",
     "text": [
      "Disease List:\n",
      "--------------------\n",
      "alkaline_diet\n",
      "low_fat_diet\n",
      "ketogenic_diet\n",
      "low_sodium_diet\n",
      "high_fiber_diet\n",
      "high_protien_diet\n",
      "dash_diet\n",
      "low_carb_diet\n",
      "vegan_diet\n",
      "hormone_diet\n",
      "type_a_diet\n",
      "paleo_diet\n",
      "Mediterranean_diet\n",
      "gluten_free_diet\n",
      "omni_diet\n",
      "type_o_diet\n"
     ]
    }
   ],
   "source": [
    "print(\"Disease List:\")\n",
    "print('-' * 20)  # Separator for better readability\n",
    "\n",
    "for diet_nm in unique_diet:\n",
    "    print(diet_nm)"
   ]
  },
  {
   "cell_type": "code",
   "execution_count": 47,
   "metadata": {},
   "outputs": [
    {
     "name": "stdout",
     "output_type": "stream",
     "text": [
      "Note: you may need to restart the kernel to use updated packages.Requirement already satisfied: detect in c:\\users\\gyatri c gide\\anaconda3\\envs\\goku\\lib\\site-packages (2020.12.3)\n",
      "\n"
     ]
    },
    {
     "name": "stderr",
     "output_type": "stream",
     "text": [
      "WARNING: Ignoring invalid distribution ~ensorflow-intel (C:\\Users\\Gyatri C Gide\\AppData\\Roaming\\Python\\Python311\\site-packages)\n",
      "WARNING: Ignoring invalid distribution ~ensorflow-intel (C:\\Users\\Gyatri C Gide\\AppData\\Roaming\\Python\\Python311\\site-packages)\n",
      "WARNING: Ignoring invalid distribution ~ensorflow-intel (C:\\Users\\Gyatri C Gide\\AppData\\Roaming\\Python\\Python311\\site-packages)\n",
      "WARNING: Ignoring invalid distribution ~ensorflow-intel (C:\\Users\\Gyatri C Gide\\AppData\\Roaming\\Python\\Python311\\site-packages)\n",
      "WARNING: Ignoring invalid distribution ~ensorflow-intel (C:\\Users\\Gyatri C Gide\\AppData\\Roaming\\Python\\Python311\\site-packages)\n",
      "WARNING: Ignoring invalid distribution ~ensorflow-intel (C:\\Users\\Gyatri C Gide\\AppData\\Roaming\\Python\\Python311\\site-packages)\n"
     ]
    }
   ],
   "source": [
    "pip install detect"
   ]
  },
  {
   "cell_type": "code",
   "execution_count": 48,
   "metadata": {},
   "outputs": [
    {
     "name": "stdout",
     "output_type": "stream",
     "text": [
      "Requirement already satisfied: langdetect in c:\\users\\gyatri c gide\\anaconda3\\envs\\goku\\lib\\site-packages (1.0.9)\n",
      "Requirement already satisfied: six in c:\\users\\gyatri c gide\\anaconda3\\envs\\goku\\lib\\site-packages (from langdetect) (1.16.0)\n",
      "Note: you may need to restart the kernel to use updated packages.\n"
     ]
    },
    {
     "name": "stderr",
     "output_type": "stream",
     "text": [
      "WARNING: Ignoring invalid distribution ~ensorflow-intel (C:\\Users\\Gyatri C Gide\\AppData\\Roaming\\Python\\Python311\\site-packages)\n",
      "WARNING: Ignoring invalid distribution ~ensorflow-intel (C:\\Users\\Gyatri C Gide\\AppData\\Roaming\\Python\\Python311\\site-packages)\n",
      "WARNING: Ignoring invalid distribution ~ensorflow-intel (C:\\Users\\Gyatri C Gide\\AppData\\Roaming\\Python\\Python311\\site-packages)\n",
      "WARNING: Ignoring invalid distribution ~ensorflow-intel (C:\\Users\\Gyatri C Gide\\AppData\\Roaming\\Python\\Python311\\site-packages)\n",
      "WARNING: Ignoring invalid distribution ~ensorflow-intel (C:\\Users\\Gyatri C Gide\\AppData\\Roaming\\Python\\Python311\\site-packages)\n",
      "WARNING: Ignoring invalid distribution ~ensorflow-intel (C:\\Users\\Gyatri C Gide\\AppData\\Roaming\\Python\\Python311\\site-packages)\n"
     ]
    }
   ],
   "source": [
    "pip install langdetect"
   ]
  },
  {
   "cell_type": "code",
   "execution_count": 49,
   "metadata": {},
   "outputs": [
    {
     "name": "stdout",
     "output_type": "stream",
     "text": [
      "Requirement already satisfied: googletrans==4.0.0rc1 in c:\\users\\gyatri c gide\\anaconda3\\envs\\goku\\lib\\site-packages (4.0.0rc1)\n",
      "Requirement already satisfied: httpx==0.13.3 in c:\\users\\gyatri c gide\\anaconda3\\envs\\goku\\lib\\site-packages (from googletrans==4.0.0rc1) (0.13.3)\n",
      "Requirement already satisfied: certifi in c:\\users\\gyatri c gide\\appdata\\roaming\\python\\python311\\site-packages (from httpx==0.13.3->googletrans==4.0.0rc1) (2023.7.22)\n",
      "Requirement already satisfied: hstspreload in c:\\users\\gyatri c gide\\anaconda3\\envs\\goku\\lib\\site-packages (from httpx==0.13.3->googletrans==4.0.0rc1) (2024.2.1)\n",
      "Requirement already satisfied: sniffio in c:\\users\\gyatri c gide\\anaconda3\\envs\\goku\\lib\\site-packages (from httpx==0.13.3->googletrans==4.0.0rc1) (1.3.0)\n",
      "Requirement already satisfied: chardet==3.* in c:\\users\\gyatri c gide\\anaconda3\\envs\\goku\\lib\\site-packages (from httpx==0.13.3->googletrans==4.0.0rc1) (3.0.4)\n",
      "Requirement already satisfied: idna==2.* in c:\\users\\gyatri c gide\\appdata\\roaming\\python\\python311\\site-packages (from httpx==0.13.3->googletrans==4.0.0rc1) (2.10)\n",
      "Requirement already satisfied: rfc3986<2,>=1.3 in c:\\users\\gyatri c gide\\anaconda3\\envs\\goku\\lib\\site-packages (from httpx==0.13.3->googletrans==4.0.0rc1) (1.5.0)\n",
      "Requirement already satisfied: httpcore==0.9.* in c:\\users\\gyatri c gide\\anaconda3\\envs\\goku\\lib\\site-packages (from httpx==0.13.3->googletrans==4.0.0rc1) (0.9.1)\n",
      "Requirement already satisfied: h11<0.10,>=0.8 in c:\\users\\gyatri c gide\\anaconda3\\envs\\goku\\lib\\site-packages (from httpcore==0.9.*->httpx==0.13.3->googletrans==4.0.0rc1) (0.9.0)\n",
      "Requirement already satisfied: h2==3.* in c:\\users\\gyatri c gide\\anaconda3\\envs\\goku\\lib\\site-packages (from httpcore==0.9.*->httpx==0.13.3->googletrans==4.0.0rc1) (3.2.0)\n",
      "Requirement already satisfied: hyperframe<6,>=5.2.0 in c:\\users\\gyatri c gide\\anaconda3\\envs\\goku\\lib\\site-packages (from h2==3.*->httpcore==0.9.*->httpx==0.13.3->googletrans==4.0.0rc1) (5.2.0)\n",
      "Requirement already satisfied: hpack<4,>=3.0 in c:\\users\\gyatri c gide\\anaconda3\\envs\\goku\\lib\\site-packages (from h2==3.*->httpcore==0.9.*->httpx==0.13.3->googletrans==4.0.0rc1) (3.0.0)\n",
      "Note: you may need to restart the kernel to use updated packages.\n"
     ]
    },
    {
     "name": "stderr",
     "output_type": "stream",
     "text": [
      "WARNING: Ignoring invalid distribution ~ensorflow-intel (C:\\Users\\Gyatri C Gide\\AppData\\Roaming\\Python\\Python311\\site-packages)\n",
      "WARNING: Ignoring invalid distribution ~ensorflow-intel (C:\\Users\\Gyatri C Gide\\AppData\\Roaming\\Python\\Python311\\site-packages)\n",
      "WARNING: Ignoring invalid distribution ~ensorflow-intel (C:\\Users\\Gyatri C Gide\\AppData\\Roaming\\Python\\Python311\\site-packages)\n",
      "WARNING: Ignoring invalid distribution ~ensorflow-intel (C:\\Users\\Gyatri C Gide\\AppData\\Roaming\\Python\\Python311\\site-packages)\n",
      "WARNING: Ignoring invalid distribution ~ensorflow-intel (C:\\Users\\Gyatri C Gide\\AppData\\Roaming\\Python\\Python311\\site-packages)\n",
      "WARNING: Ignoring invalid distribution ~ensorflow-intel (C:\\Users\\Gyatri C Gide\\AppData\\Roaming\\Python\\Python311\\site-packages)\n"
     ]
    }
   ],
   "source": [
    "pip install googletrans==4.0.0rc1"
   ]
  },
  {
   "cell_type": "code",
   "execution_count": 50,
   "metadata": {},
   "outputs": [],
   "source": [
    "from langdetect import detect\n",
    "from googletrans import Translator\n",
    "\n",
    "def translate_description(description):\n",
    "    if detect(description) != 'en':\n",
    "        translator = Translator()\n",
    "        translated = translator.translate(description, src='auto', dest='en')\n",
    "        return translated.text\n",
    "    else:\n",
    "        return description"
   ]
  },
  {
   "cell_type": "code",
   "execution_count": 67,
   "metadata": {},
   "outputs": [
    {
     "name": "stdout",
     "output_type": "stream",
     "text": [
      "Food item not found in the dataset\n"
     ]
    }
   ],
   "source": [
    "food_item = input(\"Enter the food item: \")\n",
    "description_components = df[df['Name'] == food_item]['description'].values\n",
    "if len(description_components) > 0:\n",
    "    print(\"Description components of\", food_item, \":\", translate_description(description_components[0]))\n",
    "else:\n",
    "    print(\"Food item not found in the dataset\")\n"
   ]
  },
  {
   "cell_type": "code",
   "execution_count": 51,
   "metadata": {},
   "outputs": [
    {
     "name": "stdout",
     "output_type": "stream",
     "text": [
      "Description: almond flakes, onion, poha, cranberries (frozen/ dried), salt, oil, curry leaves, green chilies, fresh coconut\n"
     ]
    }
   ],
   "source": [
    "# Function to get the description of the food item\n",
    "def get_description(food_item):\n",
    "    # Check if the food item exists in the DataFrame using fuzzy matching\n",
    "    matched_food = process.extractOne(food_item, df['Name'])\n",
    "\n",
    "    # Check if any food item was matched\n",
    "    if matched_food:\n",
    "        matched_food_name = matched_food[0]\n",
    "        score = matched_food[1]\n",
    "\n",
    "        # Check if the matched food item has a high similarity score\n",
    "        if score >= 80:  # You can adjust the threshold as needed\n",
    "            # Get the description of the matched food item\n",
    "            description = df.loc[df['Name'] == matched_food_name, 'description'].values[0]\n",
    "\n",
    "            # Check if the description is in English\n",
    "            if detect(description) != 'en':\n",
    "                # Translate the description to English\n",
    "                translated_description = translate_description(description)\n",
    "                return translated_description\n",
    "            else:\n",
    "                return description\n",
    "        else:\n",
    "            return \"Food item not found in the dataset\"\n",
    "    else:\n",
    "        return \"Food item not found in the dataset\"\n",
    "\n",
    "# Take user input for the food item\n",
    "user_input = input(\"Enter a food item: \")\n",
    "def translate_description(description):\n",
    "    try:\n",
    "        translator = Translator()\n",
    "        translated = translator.translate(description, src='auto', dest='en')\n",
    "        return translated.text\n",
    "    except AttributeError as e:\n",
    "        print(\"Translation error:\", e)\n",
    "        return None\n",
    "    except Exception as e:\n",
    "        print(\"An unexpected error occurred during translation:\", e)\n",
    "        return None\n",
    "\n",
    "\n",
    "# Get the description of the user-inputted food item\n",
    "description = get_description(user_input)\n",
    "print(\"Description:\", description)"
   ]
  },
  {
   "cell_type": "code",
   "execution_count": 52,
   "metadata": {},
   "outputs": [],
   "source": [
    "import random"
   ]
  },
  {
   "cell_type": "code",
   "execution_count": 53,
   "metadata": {},
   "outputs": [],
   "source": [
    "df.drop(columns=['Meal_Id'], inplace=True)"
   ]
  },
  {
   "cell_type": "code",
   "execution_count": 54,
   "metadata": {},
   "outputs": [
    {
     "data": {
      "text/plain": [
       "Index(['Name', 'catagory', 'description', 'Veg_Non', 'Nutrient', 'Disease',\n",
       "       'Diet'],\n",
       "      dtype='object')"
      ]
     },
     "execution_count": 54,
     "metadata": {},
     "output_type": "execute_result"
    }
   ],
   "source": [
    "df.columns"
   ]
  },
  {
   "cell_type": "code",
   "execution_count": 69,
   "metadata": {},
   "outputs": [],
   "source": [
    "def get_mealfordisease(df, disease_name):\n",
    "    food_items = df.loc[df['Disease'].str.contains(disease_name), 'Name'].tolist()\n",
    "\n",
    "    print(f\"Meal List for {disease_name}:\")\n",
    "    print('-' * 20)  # Separator for better readability\n",
    "\n",
    "    if food_items:\n",
    "        if len(food_items) <= 10:\n",
    "            for food_item in food_items:\n",
    "                print(food_item)\n",
    "        else:\n",
    "            random_selection = random.sample(food_items, 10)\n",
    "            for food_item in random_selection:\n",
    "                print(food_item)"
   ]
  },
  {
   "cell_type": "code",
   "execution_count": 72,
   "metadata": {},
   "outputs": [
    {
     "name": "stdout",
     "output_type": "stream",
     "text": [
      "Meal List for anemia:\n",
      "--------------------\n",
      "dahi lasooni chicken\n",
      "chicken palwal\n",
      "red rice\n",
      "kerala fish curry\n",
      "malabari fish curry\n",
      "shrimp &amp; cilantro ceviche\n",
      "restaurant style fried chicken\n",
      "spinach &amp; banana pancakes\n",
      "slow cooked spiced sangria\n",
      "malabari fish curry\n",
      "None\n"
     ]
    }
   ],
   "source": [
    "disease_name = input(\"Disease Name : \")\n",
    "print(get_mealfordisease(df, disease_name))"
   ]
  },
  {
   "cell_type": "code",
   "execution_count": 75,
   "metadata": {},
   "outputs": [],
   "source": [
    "def get_mealfordisease(df, nutrient_name, nutrient_column='Nutrient', food_column='Name'):\n",
    "    \n",
    "    matching_rows = df[df[nutrient_column] == nutrient_name]\n",
    "\n",
    "    if not matching_rows.empty:\n",
    "        food_items = matching_rows[food_column].tolist()\n",
    "        print(f\"Food items associated with nutrient {nutrient_name}:\")\n",
    "        print('-' * 20)\n",
    "        if food_items:\n",
    "            if len(food_items) <= 10:\n",
    "                for food_item in food_items:\n",
    "                    print(food_item)\n",
    "            else:\n",
    "                random_selection = random.sample(food_items, 10)\n",
    "                for food_item in random_selection:\n",
    "                    print(food_item)\n",
    "    else:\n",
    "        print(f\"No food items found for nutrient {nutrient_name}.\")"
   ]
  },
  {
   "cell_type": "code",
   "execution_count": 76,
   "metadata": {},
   "outputs": [
    {
     "name": "stdout",
     "output_type": "stream",
     "text": [
      "Food items associated with nutrient vitamin_c:\n",
      "--------------------\n",
      "riceless chicken biryani\n",
      "red wine braised mushroom flatbread\n",
      "chicken parmigiana with tomato sauce\n",
      "cajun spiced turkey wrapped with bacon\n",
      "broccoli and almond soup\n",
      "risotto lobster with parmesan egg pancake, confit tomatoes and coral tuille\n",
      "chicken parmigiana with tomato sauce\n",
      "cajun spiced turkey wrapped with bacon\n",
      "broccoli souffle\n",
      "grilled lemon margarita\n",
      "None\n"
     ]
    }
   ],
   "source": [
    "Defficiency = input(\"Defficiency : \")\n",
    "print(get_mealfordisease(df, Defficiency))"
   ]
  },
  {
   "cell_type": "code",
   "execution_count": 77,
   "metadata": {},
   "outputs": [],
   "source": [
    "def get_mealfordiet(df, diet_name):\n",
    "    food_items =df.loc[df['Diet'].str.contains(diet_name), 'Name'].tolist()\n",
    "\n",
    "    print(f\"Meal List for {diet_name}:\")\n",
    "    print('-' * 20)  # Separator for better readability\n",
    "\n",
    "    if food_items:\n",
    "        if len(food_items) <= 10:\n",
    "            for food_item in food_items:\n",
    "                print(food_item)\n",
    "        else:\n",
    "            random_selection = random.sample(food_items, 10)\n",
    "            for food_item in random_selection:\n",
    "                print(food_item)\n",
    "                "
   ]
  },
  {
   "cell_type": "code",
   "execution_count": 78,
   "metadata": {},
   "outputs": [
    {
     "name": "stdout",
     "output_type": "stream",
     "text": [
      "Meal List for vegan_diet:\n",
      "--------------------\n",
      "steam bunny chicken bao\n",
      "grilled almond barfi (sugar free)\n",
      "filo pizza\n",
      "chicken tikka masala\n",
      "spinach &amp; banana pancakes\n",
      "banana chips\n",
      "dahi lasooni chicken\n",
      "fish with jamun sauce\n",
      "methi malai cranberry chicken\n",
      "kuttu atta pizza\n",
      "None\n"
     ]
    }
   ],
   "source": [
    "diet_name = input(\"Diet Name : \")\n",
    "print(get_mealfordiet(df, diet_name))"
   ]
  },
  {
   "cell_type": "code",
   "execution_count": 79,
   "metadata": {},
   "outputs": [],
   "source": [
    "from googletrans import Translator\n",
    "from langdetect import detect\n",
    "\n",
    "def translate_description(description):\n",
    "    translator = Translator()\n",
    "    translated_text = translator.translate(description, src='auto', dest='en').text\n",
    "    return translated_text\n",
    "\n",
    "def get_mealforallergy(DisDif, Allergy):\n",
    "    # Translate descriptions if they are not in English\n",
    "    for index, row in df.iterrows():\n",
    "        if detect(row['description']) != 'en':\n",
    "            DisDif.at[index, 'description'] = translate_description(row['description'])\n",
    "\n",
    "    # Filtering rows where translated 'description' does not contain the allergy\n",
    "    matching_rows = df[~df['description'].str.contains(Allergy, case=False)]\n",
    "\n",
    "    # If there are matching rows, print the list of food items\n",
    "    if not matching_rows.empty:\n",
    "        food_items = matching_rows['Name'].tolist()\n",
    "        print(f\"Food items where '{Allergy}' is not present in the Description:\")\n",
    "        print('-' * 20)\n",
    "        if food_items:\n",
    "            if len(food_items) <= 10:\n",
    "                for food_item in food_items:\n",
    "                    print(food_item)\n",
    "            else:\n",
    "                random_selection = random.sample(food_items, 10)\n",
    "                for food_item in random_selection:\n",
    "                    print(food_item)\n",
    "    else:\n",
    "        print(f\"No food items found where '{Allergy}' is not present in the Description.\")"
   ]
  },
  {
   "cell_type": "code",
   "execution_count": 82,
   "metadata": {},
   "outputs": [
    {
     "ename": "KeyboardInterrupt",
     "evalue": "",
     "output_type": "error",
     "traceback": [
      "\u001b[1;31m---------------------------------------------------------------------------\u001b[0m",
      "\u001b[1;31mKeyboardInterrupt\u001b[0m                         Traceback (most recent call last)",
      "Cell \u001b[1;32mIn[82], line 2\u001b[0m\n\u001b[0;32m      1\u001b[0m Allergy \u001b[38;5;241m=\u001b[39m \u001b[38;5;28minput\u001b[39m(\u001b[38;5;124m\"\u001b[39m\u001b[38;5;124mAllergy : \u001b[39m\u001b[38;5;124m\"\u001b[39m)\n\u001b[1;32m----> 2\u001b[0m \u001b[38;5;28mprint\u001b[39m(\u001b[43mget_mealforallergy\u001b[49m\u001b[43m(\u001b[49m\u001b[43mdf\u001b[49m\u001b[43m,\u001b[49m\u001b[43m \u001b[49m\u001b[43mAllergy\u001b[49m\u001b[43m)\u001b[49m)\n",
      "Cell \u001b[1;32mIn[79], line 13\u001b[0m, in \u001b[0;36mget_mealforallergy\u001b[1;34m(DisDif, Allergy)\u001b[0m\n\u001b[0;32m     11\u001b[0m \u001b[38;5;28;01mfor\u001b[39;00m index, row \u001b[38;5;129;01min\u001b[39;00m df\u001b[38;5;241m.\u001b[39miterrows():\n\u001b[0;32m     12\u001b[0m     \u001b[38;5;28;01mif\u001b[39;00m detect(row[\u001b[38;5;124m'\u001b[39m\u001b[38;5;124mdescription\u001b[39m\u001b[38;5;124m'\u001b[39m]) \u001b[38;5;241m!=\u001b[39m \u001b[38;5;124m'\u001b[39m\u001b[38;5;124men\u001b[39m\u001b[38;5;124m'\u001b[39m:\n\u001b[1;32m---> 13\u001b[0m         DisDif\u001b[38;5;241m.\u001b[39mat[index, \u001b[38;5;124m'\u001b[39m\u001b[38;5;124mdescription\u001b[39m\u001b[38;5;124m'\u001b[39m] \u001b[38;5;241m=\u001b[39m \u001b[43mtranslate_description\u001b[49m\u001b[43m(\u001b[49m\u001b[43mrow\u001b[49m\u001b[43m[\u001b[49m\u001b[38;5;124;43m'\u001b[39;49m\u001b[38;5;124;43mdescription\u001b[39;49m\u001b[38;5;124;43m'\u001b[39;49m\u001b[43m]\u001b[49m\u001b[43m)\u001b[49m\n\u001b[0;32m     15\u001b[0m \u001b[38;5;66;03m# Filtering rows where translated 'description' does not contain the allergy\u001b[39;00m\n\u001b[0;32m     16\u001b[0m matching_rows \u001b[38;5;241m=\u001b[39m df[\u001b[38;5;241m~\u001b[39mdf[\u001b[38;5;124m'\u001b[39m\u001b[38;5;124mdescription\u001b[39m\u001b[38;5;124m'\u001b[39m]\u001b[38;5;241m.\u001b[39mstr\u001b[38;5;241m.\u001b[39mcontains(Allergy, case\u001b[38;5;241m=\u001b[39m\u001b[38;5;28;01mFalse\u001b[39;00m)]\n",
      "Cell \u001b[1;32mIn[79], line 5\u001b[0m, in \u001b[0;36mtranslate_description\u001b[1;34m(description)\u001b[0m\n\u001b[0;32m      4\u001b[0m \u001b[38;5;28;01mdef\u001b[39;00m \u001b[38;5;21mtranslate_description\u001b[39m(description):\n\u001b[1;32m----> 5\u001b[0m     translator \u001b[38;5;241m=\u001b[39m \u001b[43mTranslator\u001b[49m\u001b[43m(\u001b[49m\u001b[43m)\u001b[49m\n\u001b[0;32m      6\u001b[0m     translated_text \u001b[38;5;241m=\u001b[39m translator\u001b[38;5;241m.\u001b[39mtranslate(description, src\u001b[38;5;241m=\u001b[39m\u001b[38;5;124m'\u001b[39m\u001b[38;5;124mauto\u001b[39m\u001b[38;5;124m'\u001b[39m, dest\u001b[38;5;241m=\u001b[39m\u001b[38;5;124m'\u001b[39m\u001b[38;5;124men\u001b[39m\u001b[38;5;124m'\u001b[39m)\u001b[38;5;241m.\u001b[39mtext\n\u001b[0;32m      7\u001b[0m     \u001b[38;5;28;01mreturn\u001b[39;00m translated_text\n",
      "File \u001b[1;32mc:\\Users\\Gyatri C Gide\\anaconda3\\envs\\goku\\Lib\\site-packages\\googletrans\\client.py:67\u001b[0m, in \u001b[0;36mTranslator.__init__\u001b[1;34m(self, service_urls, user_agent, raise_exception, proxies, timeout, http2, use_fallback)\u001b[0m\n\u001b[0;32m     60\u001b[0m \u001b[38;5;28;01mdef\u001b[39;00m \u001b[38;5;21m__init__\u001b[39m(\u001b[38;5;28mself\u001b[39m, service_urls\u001b[38;5;241m=\u001b[39mDEFAULT_CLIENT_SERVICE_URLS, user_agent\u001b[38;5;241m=\u001b[39mDEFAULT_USER_AGENT,\n\u001b[0;32m     61\u001b[0m              raise_exception\u001b[38;5;241m=\u001b[39mDEFAULT_RAISE_EXCEPTION,\n\u001b[0;32m     62\u001b[0m              proxies: typing\u001b[38;5;241m.\u001b[39mDict[\u001b[38;5;28mstr\u001b[39m, httpcore\u001b[38;5;241m.\u001b[39mSyncHTTPTransport] \u001b[38;5;241m=\u001b[39m \u001b[38;5;28;01mNone\u001b[39;00m,\n\u001b[0;32m     63\u001b[0m              timeout: Timeout \u001b[38;5;241m=\u001b[39m \u001b[38;5;28;01mNone\u001b[39;00m,\n\u001b[0;32m     64\u001b[0m              http2\u001b[38;5;241m=\u001b[39m\u001b[38;5;28;01mTrue\u001b[39;00m,\n\u001b[0;32m     65\u001b[0m              use_fallback\u001b[38;5;241m=\u001b[39m\u001b[38;5;28;01mFalse\u001b[39;00m):\n\u001b[1;32m---> 67\u001b[0m     \u001b[38;5;28mself\u001b[39m\u001b[38;5;241m.\u001b[39mclient \u001b[38;5;241m=\u001b[39m \u001b[43mhttpx\u001b[49m\u001b[38;5;241;43m.\u001b[39;49m\u001b[43mClient\u001b[49m\u001b[43m(\u001b[49m\u001b[43mhttp2\u001b[49m\u001b[38;5;241;43m=\u001b[39;49m\u001b[43mhttp2\u001b[49m\u001b[43m)\u001b[49m\n\u001b[0;32m     68\u001b[0m     \u001b[38;5;28;01mif\u001b[39;00m proxies \u001b[38;5;129;01mis\u001b[39;00m \u001b[38;5;129;01mnot\u001b[39;00m \u001b[38;5;28;01mNone\u001b[39;00m:  \u001b[38;5;66;03m# pragma: nocover\u001b[39;00m\n\u001b[0;32m     69\u001b[0m         \u001b[38;5;28mself\u001b[39m\u001b[38;5;241m.\u001b[39mclient\u001b[38;5;241m.\u001b[39mproxies \u001b[38;5;241m=\u001b[39m proxies\n",
      "File \u001b[1;32mc:\\Users\\Gyatri C Gide\\anaconda3\\envs\\goku\\Lib\\site-packages\\httpx\\_client.py:477\u001b[0m, in \u001b[0;36mClient.__init__\u001b[1;34m(self, auth, params, headers, cookies, verify, cert, http2, proxies, timeout, pool_limits, max_redirects, base_url, transport, dispatch, app, trust_env)\u001b[0m\n\u001b[0;32m    474\u001b[0m     \u001b[38;5;28;01mif\u001b[39;00m transport \u001b[38;5;129;01mis\u001b[39;00m \u001b[38;5;28;01mNone\u001b[39;00m:\n\u001b[0;32m    475\u001b[0m         transport \u001b[38;5;241m=\u001b[39m dispatch\n\u001b[1;32m--> 477\u001b[0m \u001b[38;5;28mself\u001b[39m\u001b[38;5;241m.\u001b[39mtransport \u001b[38;5;241m=\u001b[39m \u001b[38;5;28;43mself\u001b[39;49m\u001b[38;5;241;43m.\u001b[39;49m\u001b[43minit_transport\u001b[49m\u001b[43m(\u001b[49m\n\u001b[0;32m    478\u001b[0m \u001b[43m    \u001b[49m\u001b[43mverify\u001b[49m\u001b[38;5;241;43m=\u001b[39;49m\u001b[43mverify\u001b[49m\u001b[43m,\u001b[49m\n\u001b[0;32m    479\u001b[0m \u001b[43m    \u001b[49m\u001b[43mcert\u001b[49m\u001b[38;5;241;43m=\u001b[39;49m\u001b[43mcert\u001b[49m\u001b[43m,\u001b[49m\n\u001b[0;32m    480\u001b[0m \u001b[43m    \u001b[49m\u001b[43mhttp2\u001b[49m\u001b[38;5;241;43m=\u001b[39;49m\u001b[43mhttp2\u001b[49m\u001b[43m,\u001b[49m\n\u001b[0;32m    481\u001b[0m \u001b[43m    \u001b[49m\u001b[43mpool_limits\u001b[49m\u001b[38;5;241;43m=\u001b[39;49m\u001b[43mpool_limits\u001b[49m\u001b[43m,\u001b[49m\n\u001b[0;32m    482\u001b[0m \u001b[43m    \u001b[49m\u001b[43mtransport\u001b[49m\u001b[38;5;241;43m=\u001b[39;49m\u001b[43mtransport\u001b[49m\u001b[43m,\u001b[49m\n\u001b[0;32m    483\u001b[0m \u001b[43m    \u001b[49m\u001b[43mapp\u001b[49m\u001b[38;5;241;43m=\u001b[39;49m\u001b[43mapp\u001b[49m\u001b[43m,\u001b[49m\n\u001b[0;32m    484\u001b[0m \u001b[43m    \u001b[49m\u001b[43mtrust_env\u001b[49m\u001b[38;5;241;43m=\u001b[39;49m\u001b[43mtrust_env\u001b[49m\u001b[43m,\u001b[49m\n\u001b[0;32m    485\u001b[0m \u001b[43m\u001b[49m\u001b[43m)\u001b[49m\n\u001b[0;32m    486\u001b[0m \u001b[38;5;28mself\u001b[39m\u001b[38;5;241m.\u001b[39mproxies: typing\u001b[38;5;241m.\u001b[39mDict[\u001b[38;5;28mstr\u001b[39m, httpcore\u001b[38;5;241m.\u001b[39mSyncHTTPTransport] \u001b[38;5;241m=\u001b[39m {\n\u001b[0;32m    487\u001b[0m     key: \u001b[38;5;28mself\u001b[39m\u001b[38;5;241m.\u001b[39minit_proxy_transport(\n\u001b[0;32m    488\u001b[0m         proxy,\n\u001b[1;32m   (...)\u001b[0m\n\u001b[0;32m    495\u001b[0m     \u001b[38;5;28;01mfor\u001b[39;00m key, proxy \u001b[38;5;129;01min\u001b[39;00m proxy_map\u001b[38;5;241m.\u001b[39mitems()\n\u001b[0;32m    496\u001b[0m }\n",
      "File \u001b[1;32mc:\\Users\\Gyatri C Gide\\anaconda3\\envs\\goku\\Lib\\site-packages\\httpx\\_client.py:514\u001b[0m, in \u001b[0;36mClient.init_transport\u001b[1;34m(self, verify, cert, http2, pool_limits, transport, app, trust_env)\u001b[0m\n\u001b[0;32m    511\u001b[0m \u001b[38;5;28;01mif\u001b[39;00m app \u001b[38;5;129;01mis\u001b[39;00m \u001b[38;5;129;01mnot\u001b[39;00m \u001b[38;5;28;01mNone\u001b[39;00m:\n\u001b[0;32m    512\u001b[0m     \u001b[38;5;28;01mreturn\u001b[39;00m WSGITransport(app\u001b[38;5;241m=\u001b[39mapp)\n\u001b[1;32m--> 514\u001b[0m ssl_context \u001b[38;5;241m=\u001b[39m \u001b[43mSSLConfig\u001b[49m\u001b[43m(\u001b[49m\n\u001b[0;32m    515\u001b[0m \u001b[43m    \u001b[49m\u001b[43mverify\u001b[49m\u001b[38;5;241;43m=\u001b[39;49m\u001b[43mverify\u001b[49m\u001b[43m,\u001b[49m\u001b[43m \u001b[49m\u001b[43mcert\u001b[49m\u001b[38;5;241;43m=\u001b[39;49m\u001b[43mcert\u001b[49m\u001b[43m,\u001b[49m\u001b[43m \u001b[49m\u001b[43mtrust_env\u001b[49m\u001b[38;5;241;43m=\u001b[39;49m\u001b[43mtrust_env\u001b[49m\n\u001b[0;32m    516\u001b[0m \u001b[43m\u001b[49m\u001b[43m)\u001b[49m\u001b[38;5;241m.\u001b[39mssl_context\n\u001b[0;32m    518\u001b[0m \u001b[38;5;28;01mreturn\u001b[39;00m httpcore\u001b[38;5;241m.\u001b[39mSyncConnectionPool(\n\u001b[0;32m    519\u001b[0m     ssl_context\u001b[38;5;241m=\u001b[39mssl_context,\n\u001b[0;32m    520\u001b[0m     max_keepalive\u001b[38;5;241m=\u001b[39mpool_limits\u001b[38;5;241m.\u001b[39mmax_keepalive,\n\u001b[1;32m   (...)\u001b[0m\n\u001b[0;32m    523\u001b[0m     http2\u001b[38;5;241m=\u001b[39mhttp2,\n\u001b[0;32m    524\u001b[0m )\n",
      "File \u001b[1;32mc:\\Users\\Gyatri C Gide\\anaconda3\\envs\\goku\\Lib\\site-packages\\httpx\\_config.py:62\u001b[0m, in \u001b[0;36mSSLConfig.__init__\u001b[1;34m(self, cert, verify, trust_env, http2)\u001b[0m\n\u001b[0;32m     60\u001b[0m \u001b[38;5;28mself\u001b[39m\u001b[38;5;241m.\u001b[39mtrust_env \u001b[38;5;241m=\u001b[39m trust_env\n\u001b[0;32m     61\u001b[0m \u001b[38;5;28mself\u001b[39m\u001b[38;5;241m.\u001b[39mhttp2 \u001b[38;5;241m=\u001b[39m http2\n\u001b[1;32m---> 62\u001b[0m \u001b[38;5;28mself\u001b[39m\u001b[38;5;241m.\u001b[39mssl_context \u001b[38;5;241m=\u001b[39m \u001b[38;5;28;43mself\u001b[39;49m\u001b[38;5;241;43m.\u001b[39;49m\u001b[43mload_ssl_context\u001b[49m\u001b[43m(\u001b[49m\u001b[43m)\u001b[49m\n",
      "File \u001b[1;32mc:\\Users\\Gyatri C Gide\\anaconda3\\envs\\goku\\Lib\\site-packages\\httpx\\_config.py:85\u001b[0m, in \u001b[0;36mSSLConfig.load_ssl_context\u001b[1;34m(self)\u001b[0m\n\u001b[0;32m     76\u001b[0m logger\u001b[38;5;241m.\u001b[39mtrace(\n\u001b[0;32m     77\u001b[0m     \u001b[38;5;124mf\u001b[39m\u001b[38;5;124m\"\u001b[39m\u001b[38;5;124mload_ssl_context \u001b[39m\u001b[38;5;124m\"\u001b[39m\n\u001b[0;32m     78\u001b[0m     \u001b[38;5;124mf\u001b[39m\u001b[38;5;124m\"\u001b[39m\u001b[38;5;124mverify=\u001b[39m\u001b[38;5;132;01m{\u001b[39;00m\u001b[38;5;28mself\u001b[39m\u001b[38;5;241m.\u001b[39mverify\u001b[38;5;132;01m!r}\u001b[39;00m\u001b[38;5;124m \u001b[39m\u001b[38;5;124m\"\u001b[39m\n\u001b[1;32m   (...)\u001b[0m\n\u001b[0;32m     81\u001b[0m     \u001b[38;5;124mf\u001b[39m\u001b[38;5;124m\"\u001b[39m\u001b[38;5;124mhttp2=\u001b[39m\u001b[38;5;132;01m{\u001b[39;00m\u001b[38;5;28mself\u001b[39m\u001b[38;5;241m.\u001b[39mhttp2\u001b[38;5;132;01m!r}\u001b[39;00m\u001b[38;5;124m\"\u001b[39m\n\u001b[0;32m     82\u001b[0m )\n\u001b[0;32m     84\u001b[0m \u001b[38;5;28;01mif\u001b[39;00m \u001b[38;5;28mself\u001b[39m\u001b[38;5;241m.\u001b[39mverify:\n\u001b[1;32m---> 85\u001b[0m     \u001b[38;5;28;01mreturn\u001b[39;00m \u001b[38;5;28;43mself\u001b[39;49m\u001b[38;5;241;43m.\u001b[39;49m\u001b[43mload_ssl_context_verify\u001b[49m\u001b[43m(\u001b[49m\u001b[43m)\u001b[49m\n\u001b[0;32m     86\u001b[0m \u001b[38;5;28;01mreturn\u001b[39;00m \u001b[38;5;28mself\u001b[39m\u001b[38;5;241m.\u001b[39mload_ssl_context_no_verify()\n",
      "File \u001b[1;32mc:\\Users\\Gyatri C Gide\\anaconda3\\envs\\goku\\Lib\\site-packages\\httpx\\_config.py:142\u001b[0m, in \u001b[0;36mSSLConfig.load_ssl_context_verify\u001b[1;34m(self)\u001b[0m\n\u001b[0;32m    140\u001b[0m \u001b[38;5;28;01mif\u001b[39;00m ca_bundle_path\u001b[38;5;241m.\u001b[39mis_file():\n\u001b[0;32m    141\u001b[0m     logger\u001b[38;5;241m.\u001b[39mtrace(\u001b[38;5;124mf\u001b[39m\u001b[38;5;124m\"\u001b[39m\u001b[38;5;124mload_verify_locations cafile=\u001b[39m\u001b[38;5;132;01m{\u001b[39;00mca_bundle_path\u001b[38;5;132;01m!s}\u001b[39;00m\u001b[38;5;124m\"\u001b[39m)\n\u001b[1;32m--> 142\u001b[0m     \u001b[43mcontext\u001b[49m\u001b[38;5;241;43m.\u001b[39;49m\u001b[43mload_verify_locations\u001b[49m\u001b[43m(\u001b[49m\u001b[43mcafile\u001b[49m\u001b[38;5;241;43m=\u001b[39;49m\u001b[38;5;28;43mstr\u001b[39;49m\u001b[43m(\u001b[49m\u001b[43mca_bundle_path\u001b[49m\u001b[43m)\u001b[49m\u001b[43m)\u001b[49m\n\u001b[0;32m    143\u001b[0m \u001b[38;5;28;01melif\u001b[39;00m ca_bundle_path\u001b[38;5;241m.\u001b[39mis_dir():\n\u001b[0;32m    144\u001b[0m     logger\u001b[38;5;241m.\u001b[39mtrace(\u001b[38;5;124mf\u001b[39m\u001b[38;5;124m\"\u001b[39m\u001b[38;5;124mload_verify_locations capath=\u001b[39m\u001b[38;5;132;01m{\u001b[39;00mca_bundle_path\u001b[38;5;132;01m!s}\u001b[39;00m\u001b[38;5;124m\"\u001b[39m)\n",
      "\u001b[1;31mKeyboardInterrupt\u001b[0m: "
     ]
    }
   ],
   "source": [
    "Allergy = input(\"Allergy : \")\n",
    "print(get_mealforallergy(df, Allergy))"
   ]
  },
  {
   "cell_type": "code",
   "execution_count": 83,
   "metadata": {},
   "outputs": [],
   "source": [
    "import pandas as pd\n",
    "from sklearn.model_selection import train_test_split\n",
    "from sklearn.neighbors import KNeighborsClassifier\n",
    "from sklearn.metrics import accuracy_score\n",
    "\n",
    "# Split the data into features and target variable\n",
    "X = food[['Calories', 'Proteins', 'Fats', 'Carbohydrates']]  # Features\n",
    "y = food.index  # Target variable (index)\n",
    "\n",
    "# Split the data into training and testing sets\n",
    "X_train, X_test, y_train, y_test = train_test_split(X, y, test_size=0.2, random_state=42)\n",
    "\n",
    "# Train the KNN classifier\n",
    "k = 1  # number of neighbors to consider\n",
    "knn = KNeighborsClassifier(n_neighbors=k)\n",
    "knn.fit(X_train, y_train)\n",
    "\n",
    "# Predict the index for the test set\n",
    "y_pred = knn.predict(X_test)\n"
   ]
  },
  {
   "cell_type": "code",
   "execution_count": 84,
   "metadata": {},
   "outputs": [
    {
     "name": "stdout",
     "output_type": "stream",
     "text": [
      "Predicted Food Name: Almonds\n"
     ]
    },
    {
     "name": "stderr",
     "output_type": "stream",
     "text": [
      "c:\\Users\\Gyatri C Gide\\anaconda3\\envs\\goku\\Lib\\site-packages\\sklearn\\base.py:464: UserWarning: X does not have valid feature names, but KNeighborsClassifier was fitted with feature names\n",
      "  warnings.warn(\n"
     ]
    }
   ],
   "source": [
    "# Predict index and get food name for a new sample\n",
    "calories = float(input(\"Enter calories: \"))\n",
    "proteins = float(input(\"Enter proteins: \"))\n",
    "fats = float(input(\"Enter fats: \"))\n",
    "carbohydrates = float(input(\"Enter carbohydrates: \"))\n",
    "\n",
    "predicted_index = knn.predict([[calories, proteins, fats, carbohydrates]])\n",
    "predicted_food_name = food.loc[predicted_index[0], 'Food_items']\n",
    "print(\"Predicted Food Name:\", predicted_food_name)"
   ]
  },
  {
   "cell_type": "code",
   "execution_count": 55,
   "metadata": {},
   "outputs": [
    {
     "name": "stderr",
     "output_type": "stream",
     "text": [
      "c:\\Users\\Gyatri C Gide\\anaconda3\\envs\\goku\\Lib\\site-packages\\sklearn\\cluster\\_kmeans.py:1412: FutureWarning: The default value of `n_init` will change from 10 to 'auto' in 1.4. Set the value of `n_init` explicitly to suppress the warning\n",
      "  super()._check_params_vs_input(X, default_n_init=10)\n",
      "c:\\Users\\Gyatri C Gide\\anaconda3\\envs\\goku\\Lib\\site-packages\\sklearn\\cluster\\_kmeans.py:1436: UserWarning: KMeans is known to have a memory leak on Windows with MKL, when there are less chunks than available threads. You can avoid it by setting the environment variable OMP_NUM_THREADS=2.\n",
      "  warnings.warn(\n"
     ]
    },
    {
     "name": "stdout",
     "output_type": "stream",
     "text": [
      "                           Name  Veg_Non  Cluster\n",
      "0           summer squash salad        1      veg\n",
      "1          chicken minced salad        0  non-veg\n",
      "2          sweet chilli almonds        1      veg\n",
      "3               tricolour salad        1      veg\n",
      "4    gluten-free christmas cake        1      veg\n",
      "..                          ...      ...      ...\n",
      "507                  sunga pork        1      veg\n",
      "508                banana chips        1      veg\n",
      "509                 bhurji- egg        0  non-veg\n",
      "510       flattened rice / pohe        1      veg\n",
      "511                 puffed rice        1      veg\n",
      "\n",
      "[511 rows x 3 columns]\n"
     ]
    }
   ],
   "source": [
    "from sklearn.cluster import KMeans\n",
    "from sklearn.preprocessing import LabelEncoder\n",
    "\n",
    "label_encoder = LabelEncoder()\n",
    "df['Veg_Non'] = label_encoder.fit_transform(df['Veg_Non'])\n",
    "\n",
    "# Extract features\n",
    "X = df[['Veg_Non']]\n",
    "\n",
    "# Perform k-means clustering\n",
    "k = 2  # number of clusters\n",
    "kmeans = KMeans(n_clusters=k)\n",
    "kmeans.fit(X)\n",
    "\n",
    "# Get cluster centers\n",
    "cluster_centers = kmeans.cluster_centers_\n",
    "\n",
    "# Get cluster labels\n",
    "cluster_labels = kmeans.labels_\n",
    "\n",
    "# Assign cluster labels back to the DataFrame\n",
    "df['Cluster'] = cluster_labels\n",
    "\n",
    "cluster_names = {0: 'veg', 1: 'non-veg'}\n",
    "df['Cluster'] = [cluster_names[label] for label in cluster_labels]\n",
    "\n",
    "# Display the resulting DataFrame with cluster labels\n",
    "print(df[['Name', 'Veg_Non', 'Cluster']])"
   ]
  },
  {
   "cell_type": "code",
   "execution_count": 68,
   "metadata": {},
   "outputs": [
    {
     "name": "stdout",
     "output_type": "stream",
     "text": [
      "Tuna Fish is non-veg\n"
     ]
    }
   ],
   "source": [
    "def predict_veg_nonveg(food_name):\n",
    "    # Use fuzzy matching to find the closest match to the provided food_name\n",
    "    closest_match = process.extractOne(food_name, df['Name'])\n",
    "    \n",
    "    # Check if a match is found and if the similarity score is above a certain threshold\n",
    "    if closest_match and closest_match[1] >= 80:\n",
    "        # Retrieve the cluster name using the matched food name\n",
    "        row = df[df['Name'] == closest_match[0]]\n",
    "        cluster_name = row['Cluster'].iloc[0]\n",
    "        return f\"{food_name} is {cluster_name}\"\n",
    "    else:\n",
    "        return \"Food not found in the dataset or no close match found.\"\n",
    "\n",
    "food_name = input(\"Enter the name of the food: \")\n",
    "cluster_name = predict_veg_nonveg(food_name)\n",
    "print(cluster_name)"
   ]
  },
  {
   "cell_type": "code",
   "execution_count": 57,
   "metadata": {},
   "outputs": [
    {
     "data": {
      "text/html": [
       "<div>\n",
       "<style scoped>\n",
       "    .dataframe tbody tr th:only-of-type {\n",
       "        vertical-align: middle;\n",
       "    }\n",
       "\n",
       "    .dataframe tbody tr th {\n",
       "        vertical-align: top;\n",
       "    }\n",
       "\n",
       "    .dataframe thead th {\n",
       "        text-align: right;\n",
       "    }\n",
       "</style>\n",
       "<table border=\"1\" class=\"dataframe\">\n",
       "  <thead>\n",
       "    <tr style=\"text-align: right;\">\n",
       "      <th></th>\n",
       "      <th>Name</th>\n",
       "      <th>catagory</th>\n",
       "      <th>description</th>\n",
       "      <th>Veg_Non</th>\n",
       "      <th>Nutrient</th>\n",
       "      <th>Disease</th>\n",
       "      <th>Diet</th>\n",
       "      <th>Cluster</th>\n",
       "    </tr>\n",
       "  </thead>\n",
       "  <tbody>\n",
       "    <tr>\n",
       "      <th>0</th>\n",
       "      <td>summer squash salad</td>\n",
       "      <td>salad</td>\n",
       "      <td>white balsamic vinegar, lemon juice, lemon rin...</td>\n",
       "      <td>1</td>\n",
       "      <td>fiber</td>\n",
       "      <td>obesity diabeties hypertension goitre</td>\n",
       "      <td>alkaline_diet low_fat_diet ketogenic_diet low...</td>\n",
       "      <td>veg</td>\n",
       "    </tr>\n",
       "    <tr>\n",
       "      <th>1</th>\n",
       "      <td>chicken minced salad</td>\n",
       "      <td>salad</td>\n",
       "      <td>olive oil, chicken mince, garlic (minced), oni...</td>\n",
       "      <td>0</td>\n",
       "      <td>fiber</td>\n",
       "      <td>anemia pregnancy hypertension rickets goitre ...</td>\n",
       "      <td>low_fat_diet low_carb_diet ketogenic_diet low...</td>\n",
       "      <td>non-veg</td>\n",
       "    </tr>\n",
       "    <tr>\n",
       "      <th>2</th>\n",
       "      <td>sweet chilli almonds</td>\n",
       "      <td>chilli</td>\n",
       "      <td>almonds whole, egg white, curry leaves, salt, ...</td>\n",
       "      <td>1</td>\n",
       "      <td>vitamin_a</td>\n",
       "      <td>hypertension scurvy heart_disease goitre kidn...</td>\n",
       "      <td>alkaline_diet low_fat_diet paleo_diet Mediter...</td>\n",
       "      <td>veg</td>\n",
       "    </tr>\n",
       "    <tr>\n",
       "      <th>3</th>\n",
       "      <td>tricolour salad</td>\n",
       "      <td>salad</td>\n",
       "      <td>vinegar, honey/sugar, soy sauce, salt, garlic ...</td>\n",
       "      <td>1</td>\n",
       "      <td>fiber</td>\n",
       "      <td>obesity goitre hypertension</td>\n",
       "      <td>low_fat_diet ketogenic_diet low_sodium_diet h...</td>\n",
       "      <td>veg</td>\n",
       "    </tr>\n",
       "    <tr>\n",
       "      <th>4</th>\n",
       "      <td>gluten-free christmas cake</td>\n",
       "      <td>cake</td>\n",
       "      <td>christmas dry fruits (pre-soaked), orange zest...</td>\n",
       "      <td>1</td>\n",
       "      <td>vitamin_a</td>\n",
       "      <td>goitre kidney_disease</td>\n",
       "      <td>high_protien_diet</td>\n",
       "      <td>veg</td>\n",
       "    </tr>\n",
       "  </tbody>\n",
       "</table>\n",
       "</div>"
      ],
      "text/plain": [
       "                         Name catagory  \\\n",
       "0         summer squash salad    salad   \n",
       "1        chicken minced salad    salad   \n",
       "2        sweet chilli almonds   chilli   \n",
       "3             tricolour salad    salad   \n",
       "4  gluten-free christmas cake     cake   \n",
       "\n",
       "                                         description  Veg_Non   Nutrient  \\\n",
       "0  white balsamic vinegar, lemon juice, lemon rin...        1      fiber   \n",
       "1  olive oil, chicken mince, garlic (minced), oni...        0      fiber   \n",
       "2  almonds whole, egg white, curry leaves, salt, ...        1  vitamin_a   \n",
       "3  vinegar, honey/sugar, soy sauce, salt, garlic ...        1      fiber   \n",
       "4  christmas dry fruits (pre-soaked), orange zest...        1  vitamin_a   \n",
       "\n",
       "                                             Disease  \\\n",
       "0              obesity diabeties hypertension goitre   \n",
       "1   anemia pregnancy hypertension rickets goitre ...   \n",
       "2   hypertension scurvy heart_disease goitre kidn...   \n",
       "3                        obesity goitre hypertension   \n",
       "4                              goitre kidney_disease   \n",
       "\n",
       "                                                Diet  Cluster  \n",
       "0   alkaline_diet low_fat_diet ketogenic_diet low...      veg  \n",
       "1   low_fat_diet low_carb_diet ketogenic_diet low...  non-veg  \n",
       "2   alkaline_diet low_fat_diet paleo_diet Mediter...      veg  \n",
       "3   low_fat_diet ketogenic_diet low_sodium_diet h...      veg  \n",
       "4                                  high_protien_diet      veg  "
      ]
     },
     "execution_count": 57,
     "metadata": {},
     "output_type": "execute_result"
    }
   ],
   "source": [
    "df.head()"
   ]
  },
  {
   "cell_type": "code",
   "execution_count": 58,
   "metadata": {},
   "outputs": [],
   "source": [
    "import pandas as pd\n",
    "from sklearn.model_selection import train_test_split\n",
    "from sklearn.ensemble import RandomForestClassifier\n",
    "from sklearn.metrics import accuracy_score\n",
    "\n",
    "data = pd.read_csv('./Dataset/diet.csv')\n",
    "\n",
    "# Handle missing values if any\n",
    "data.fillna(0, inplace=True)\n",
    "\n"
   ]
  },
  {
   "cell_type": "code",
   "execution_count": 59,
   "metadata": {},
   "outputs": [],
   "source": [
    "\n",
    "# Drop 'meal_id' column\n",
    "data.drop('Meal_Id', axis=1, inplace=True)"
   ]
  },
  {
   "cell_type": "code",
   "execution_count": null,
   "metadata": {},
   "outputs": [],
   "source": [
    "# Encode categorical variables if necessary\n",
    "# For example, you can use LabelEncoder or OneHotEncoder\n",
    "\n",
    "# Split the data into features and target variable\n",
    "X = data.drop(['Name', 'catagory'], axis=1)  # Features\n",
    "y = data['catagory']  # Target variable\n",
    "\n",
    "# Split the data into training and testing sets\n",
    "X_train, X_test, y_train, y_test = train_test_split(X, y, test_size=0.2, random_state=42)\n",
    "\n"
   ]
  },
  {
   "cell_type": "code",
   "execution_count": 85,
   "metadata": {},
   "outputs": [],
   "source": [
    "import random\n",
    "\n",
    "def generate_nutrient_sets(calories_total, proteins_total, fats_total, carbohydrates_total):\n",
    "    # Divide the total values by 5 to get target values for each set\n",
    "    calories_target = calories_total // 5\n",
    "    proteins_target = proteins_total // 5\n",
    "    fats_target = fats_total // 5\n",
    "    carbohydrates_target = carbohydrates_total // 5\n",
    "\n",
    "    # Initialize sets and set counter\n",
    "    sets = []\n",
    "    counter = 0\n",
    "\n",
    "    # Keep generating sets until we find 5 unique sets\n",
    "    while len(sets) < 5:\n",
    "        # Generate a random set of values for each nutrient\n",
    "        calories = random.randint(calories_target - 15, calories_target + 15)\n",
    "        proteins = random.randint(proteins_target - 7, proteins_target + 7)\n",
    "        fats = random.randint(fats_target - 5, fats_target + 5)\n",
    "        carbohydrates = random.randint(carbohydrates_target - 10, carbohydrates_target + 10)\n",
    "\n",
    "        # Check if all values are unique across all sets\n",
    "        if not any(all(value == nutrient for value in nutrient_set) for nutrient_set in sets for nutrient in (calories, proteins, fats, carbohydrates)):\n",
    "            sets.append((calories, proteins, fats, carbohydrates))\n",
    "            counter += 1\n",
    "\n",
    "    return sets"
   ]
  },
  {
   "cell_type": "code",
   "execution_count": 86,
   "metadata": {},
   "outputs": [
    {
     "name": "stdout",
     "output_type": "stream",
     "text": [
      "Generated Sets:\n",
      "Set 1: (394, 25, 7, 40)\n",
      "Set 2: (400, 17, 12, 47)\n",
      "Set 3: (400, 13, 7, 58)\n",
      "Set 4: (394, 27, 14, 60)\n",
      "Set 5: (396, 17, 9, 54)\n"
     ]
    }
   ],
   "source": [
    "# Example usage:\n",
    "calories_total = 2000\n",
    "proteins_total = 100\n",
    "fats_total = 50\n",
    "carbohydrates_total = 250\n",
    "\n",
    "generated_sets = generate_nutrient_sets(calories_total, proteins_total, fats_total, carbohydrates_total)\n",
    "\n",
    "print(\"Generated Sets:\")\n",
    "for i, nutrient_set in enumerate(generated_sets, 1):\n",
    "    print(f\"Set {i}: {nutrient_set}\")"
   ]
  },
  {
   "cell_type": "code",
   "execution_count": 88,
   "metadata": {},
   "outputs": [
    {
     "name": "stdout",
     "output_type": "stream",
     "text": [
      "Sum of Nutrients:\n",
      "Calories: 1984\n",
      "Proteins: 99\n",
      "Fats: 49\n",
      "Carbohydrates: 259\n",
      "\n",
      "Given Totals:\n",
      "Calories: 2000\n",
      "Proteins: 100\n",
      "Fats: 50\n",
      "Carbohydrates: 250\n",
      "\n",
      "Are the sums equal to the given totals? False\n"
     ]
    }
   ],
   "source": [
    "def calculate_sums(random_sets):\n",
    "    sums = {'Calories': 0, 'Proteins': 0, 'Fats': 0, 'Carbohydrates': 0}\n",
    "    for set_values in random_sets:\n",
    "        for i, nutrient in enumerate(['Calories', 'Proteins', 'Fats', 'Carbohydrates']):\n",
    "            sums[nutrient] += set_values[i]\n",
    "    return sums\n",
    "\n",
    "# Calculate the sums for the generated random sets\n",
    "sums = calculate_sums(generated_sets)\n",
    "\n",
    "# Print the sums\n",
    "print(\"Sum of Nutrients:\")\n",
    "for nutrient, total in sums.items():\n",
    "    print(f\"{nutrient}: {total}\")\n",
    "\n",
    "# Compare with the given totals\n",
    "given_totals = {'Calories': calories_total, 'Proteins': proteins_total, 'Fats': fats_total, 'Carbohydrates': carbohydrates_total}\n",
    "print(\"\\nGiven Totals:\")\n",
    "for nutrient, total in given_totals.items():\n",
    "    print(f\"{nutrient}: {total}\")\n",
    "\n",
    "# Verify if the sums are equal to the given totals\n",
    "are_equal = all(sums[nutrient] == total for nutrient, total in given_totals.items())\n",
    "print(\"\\nAre the sums equal to the given totals?\", are_equal)"
   ]
  },
  {
   "cell_type": "code",
   "execution_count": 89,
   "metadata": {},
   "outputs": [
    {
     "name": "stdout",
     "output_type": "stream",
     "text": [
      "Predicted Food Name:\n",
      "Brown Rice\n",
      "Brownie\n"
     ]
    },
    {
     "name": "stderr",
     "output_type": "stream",
     "text": [
      "c:\\Users\\Gyatri C Gide\\anaconda3\\envs\\goku\\Lib\\site-packages\\sklearn\\base.py:464: UserWarning: X does not have valid feature names, but KNeighborsClassifier was fitted with feature names\n",
      "  warnings.warn(\n",
      "c:\\Users\\Gyatri C Gide\\anaconda3\\envs\\goku\\Lib\\site-packages\\sklearn\\base.py:464: UserWarning: X does not have valid feature names, but KNeighborsClassifier was fitted with feature names\n",
      "  warnings.warn(\n",
      "c:\\Users\\Gyatri C Gide\\anaconda3\\envs\\goku\\Lib\\site-packages\\sklearn\\base.py:464: UserWarning: X does not have valid feature names, but KNeighborsClassifier was fitted with feature names\n",
      "  warnings.warn(\n",
      "c:\\Users\\Gyatri C Gide\\anaconda3\\envs\\goku\\Lib\\site-packages\\sklearn\\base.py:464: UserWarning: X does not have valid feature names, but KNeighborsClassifier was fitted with feature names\n",
      "  warnings.warn(\n",
      "c:\\Users\\Gyatri C Gide\\anaconda3\\envs\\goku\\Lib\\site-packages\\sklearn\\base.py:464: UserWarning: X does not have valid feature names, but KNeighborsClassifier was fitted with feature names\n",
      "  warnings.warn(\n"
     ]
    }
   ],
   "source": [
    "# Generate sets\n",
    "generated_sets = generate_nutrient_sets(2000, 100, 50, 250)\n",
    "\n",
    "print(\"Predicted Food Name:\")\n",
    "# Initialize set to store predicted food names\n",
    "predicted_food_names = set()\n",
    "\n",
    "# Loop through each generated set\n",
    "for set_values in generated_sets:\n",
    "    # Reshape the set_values to match the input format of the model\n",
    "    X_input = np.array(set_values).reshape(1, -1)\n",
    "    \n",
    "    # Predict the index using the trained model\n",
    "    predicted_index = knn.predict(X_input)\n",
    "    \n",
    "    # Get the predicted food name\n",
    "    predicted_food_name = food.loc[predicted_index[0], 'Food_items']\n",
    "    \n",
    "    # Check if the predicted food name has not been written already\n",
    "    if predicted_food_name not in predicted_food_names:\n",
    "        # Write the predicted food name\n",
    "        print(f\"{predicted_food_name}\")\n",
    "        \n",
    "        # Add the food name to the set of predicted food names\n",
    "        predicted_food_names.add(predicted_food_name)\n"
   ]
  },
  {
   "cell_type": "code",
   "execution_count": 60,
   "metadata": {},
   "outputs": [
    {
     "data": {
      "text/plain": [
       "'rf_classifier = RandomForestClassifier(n_estimators=100, random_state=42)\\n\\n# Train the classifier using the training data\\nrf_classifier.fit(X_train, y_train)\\n\\n# Predict the categories for the test set\\ny_pred = rf_classifier.predict(X_test)\\n\\n# Evaluate the accuracy of the model\\naccuracy = accuracy_score(y_test, y_pred)\\nprint(\"Accuracy:\", accuracy)\\n'"
      ]
     },
     "execution_count": 60,
     "metadata": {},
     "output_type": "execute_result"
    }
   ],
   "source": [
    "\n",
    "# Translate categorical variables using label encoding\n",
    "# Translate categorical variables using label encoding\n",
    "label_encoders = {}\n",
    "for column in ['description', 'Diet', 'catagory','Veg_Non','Nutrient','Disease']:\n",
    "    label_encoders[column] = LabelEncoder()\n",
    "    data[column] = label_encoders[column].fit_transform(data[column].astype(str))  # Ensure all data is treated as strings\n",
    "\n",
    "\n",
    "# Split the data into features and target variable\n",
    "X = data.drop(['Name', 'catagory'], axis=1)  # Features\n",
    "y = data['catagory']  # Target variable\n",
    "\n",
    "# Split the data into training and testing sets\n",
    "X_train, X_test, y_train, y_test = train_test_split(X, y, test_size=0.2, random_state=42)\n",
    "\n",
    "# Initialize a Random Forest classifier\n",
    "'''rf_classifier = RandomForestClassifier(n_estimators=100, random_state=42)\n",
    "\n",
    "# Train the classifier using the training data\n",
    "rf_classifier.fit(X_train, y_train)\n",
    "\n",
    "# Predict the categories for the test set\n",
    "y_pred = rf_classifier.predict(X_test)\n",
    "\n",
    "# Evaluate the accuracy of the model\n",
    "accuracy = accuracy_score(y_test, y_pred)\n",
    "print(\"Accuracy:\", accuracy)\n",
    "'''"
   ]
  },
  {
   "cell_type": "code",
   "execution_count": null,
   "metadata": {},
   "outputs": [],
   "source": [
    "from sklearn.metrics import accuracy_score\n",
    "from keras.models import Sequential\n",
    "from keras.layers import Dense\n"
   ]
  },
  {
   "cell_type": "code",
   "execution_count": null,
   "metadata": {},
   "outputs": [
    {
     "name": "stdout",
     "output_type": "stream",
     "text": [
      "Epoch 1/10\n",
      "13/13 [==============================] - 1s 1ms/step - loss: -133.5559 - accuracy: 0.0073\n",
      "Epoch 2/10\n",
      "13/13 [==============================] - 0s 1ms/step - loss: -6111.8584 - accuracy: 0.0024\n",
      "Epoch 3/10\n",
      "13/13 [==============================] - 0s 1ms/step - loss: -13398.1318 - accuracy: 0.0024\n",
      "Epoch 4/10\n",
      "13/13 [==============================] - 0s 1ms/step - loss: -24320.9004 - accuracy: 0.0024\n",
      "Epoch 5/10\n",
      "13/13 [==============================] - 0s 1ms/step - loss: -39951.1016 - accuracy: 0.0024\n",
      "Epoch 6/10\n",
      "13/13 [==============================] - 0s 1ms/step - loss: -62207.8906 - accuracy: 0.0024\n",
      "Epoch 7/10\n",
      "13/13 [==============================] - 0s 1ms/step - loss: -93592.5547 - accuracy: 0.0024\n",
      "Epoch 8/10\n",
      "13/13 [==============================] - 0s 1ms/step - loss: -136233.4062 - accuracy: 0.0024\n",
      "Epoch 9/10\n",
      "13/13 [==============================] - 0s 1ms/step - loss: -195246.6562 - accuracy: 0.0024\n",
      "Epoch 10/10\n",
      "13/13 [==============================] - 0s 1ms/step - loss: -269815.4062 - accuracy: 0.0024\n",
      "4/4 [==============================] - 0s 2ms/step - loss: -324893.2500 - accuracy: 0.0000e+00\n",
      "Accuracy: 0.0\n"
     ]
    }
   ],
   "source": [
    "# Define the ANN model\n",
    "'''model = Sequential()\n",
    "model.add(Dense(64, input_dim=X_train.shape[1], activation='relu'))\n",
    "model.add(Dense(32, activation='relu'))\n",
    "model.add(Dense(1, activation='sigmoid'))\n",
    "\n",
    "# Compile the model\n",
    "model.compile(loss='binary_crossentropy', optimizer='adam', metrics=['accuracy'])\n",
    "\n",
    "# Train the model\n",
    "model.fit(X_train, y_train, epochs=10, batch_size=32, verbose=1)\n",
    "\n",
    "# Evaluate the model\n",
    "loss, accuracy = model.evaluate(X_test, y_test)\n",
    "print(\"Accuracy:\", accuracy)'''\n"
   ]
  },
  {
   "cell_type": "code",
   "execution_count": null,
   "metadata": {},
   "outputs": [],
   "source": [
    "from sklearn.neighbors import KNeighborsClassifier\n",
    "from sklearn.metrics import accuracy_score\n"
   ]
  },
  {
   "cell_type": "code",
   "execution_count": null,
   "metadata": {},
   "outputs": [
    {
     "name": "stdout",
     "output_type": "stream",
     "text": [
      "Accuracy: 0.08737864077669903\n"
     ]
    }
   ],
   "source": [
    "# Initialize the KNN classifier\n",
    "knn_classifier = KNeighborsClassifier(n_neighbors=5)\n",
    "\n",
    "# Train the classifier using the training data\n",
    "knn_classifier.fit(X_train, y_train)\n",
    "\n",
    "# Predict the categories for the test set\n",
    "y_pred = knn_classifier.predict(X_test)\n",
    "\n",
    "# Evaluate the accuracy of the model\n",
    "accuracy = accuracy_score(y_test, y_pred)\n",
    "print(\"Accuracy:\", accuracy)\n"
   ]
  }
 ],
 "metadata": {
  "kernelspec": {
   "display_name": "goku",
   "language": "python",
   "name": "python3"
  },
  "language_info": {
   "codemirror_mode": {
    "name": "ipython",
    "version": 3
   },
   "file_extension": ".py",
   "mimetype": "text/x-python",
   "name": "python",
   "nbconvert_exporter": "python",
   "pygments_lexer": "ipython3",
   "version": "3.11.5"
  }
 },
 "nbformat": 4,
 "nbformat_minor": 2
}
