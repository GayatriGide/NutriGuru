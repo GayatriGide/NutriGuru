{
 "cells": [
  {
   "cell_type": "markdown",
   "metadata": {},
   "source": [
    "import librabries"
   ]
  },
  {
   "cell_type": "code",
   "execution_count": null,
   "metadata": {},
   "outputs": [],
   "source": [
    "import pandas as pd\n",
    "from sklearn.model_selection import train_test_split\n",
    "from sklearn.linear_model import LinearRegression\n",
    "from sklearn.metrics import mean_squared_error\n",
    "from sklearn.cluster import KMeans\n",
    "from sklearn.preprocessing import StandardScaler\n",
    "from sklearn.ensemble import RandomForestClassifier\n",
    "import joblib\n",
    "import matplotlib.pyplot as plt\n",
    "import plotly.express as px\n",
    "import numpy as np\n",
    "import seaborn as sns\n",
    "from mpl_toolkits.mplot3d import Axes3D"
   ]
  },
  {
   "cell_type": "code",
   "execution_count": null,
   "metadata": {},
   "outputs": [],
   "source": [
    "food=pd.read_csv('./food.csv')\n",
    "food.head()\n"
   ]
  },
  {
   "cell_type": "code",
   "execution_count": null,
   "metadata": {},
   "outputs": [],
   "source": [
    "food.info()"
   ]
  },
  {
   "cell_type": "code",
   "execution_count": null,
   "metadata": {},
   "outputs": [],
   "source": [
    "food.describe()"
   ]
  },
  {
   "cell_type": "code",
   "execution_count": null,
   "metadata": {},
   "outputs": [],
   "source": [
    "from sklearn.preprocessing import StandardScaler\n",
    "from sklearn.model_selection import train_test_split\n",
    "import pandas as pd\n",
    "\n",
    "food = pd.get_dummies(food, columns=['VegNovVeg'])\n",
    "\n",
    "# Separate features (X) and target variable (y)\n",
    "X = food.drop(['Food_items', 'Calories'], axis=1)\n",
    "y = food['Calories']\n",
    "\n",
    "# If normalization or standardization is required for numerical features, use StandardScaler\n",
    "scaler = StandardScaler()\n",
    "X = scaler.fit_transform(X)\n",
    "\n",
    "# Split the data into training and testing sets\n",
    "X_train, X_test, y_train, y_test = train_test_split(X, y, test_size=0.2, random_state=42)\n"
   ]
  },
  {
   "cell_type": "code",
   "execution_count": null,
   "metadata": {},
   "outputs": [],
   "source": [
    "pip install matplotlib seaborn pandas\n"
   ]
  },
  {
   "cell_type": "code",
   "execution_count": null,
   "metadata": {},
   "outputs": [],
   "source": [
    "import matplotlib.pyplot as plt"
   ]
  },
  {
   "cell_type": "code",
   "execution_count": null,
   "metadata": {},
   "outputs": [],
   "source": [
    "\n",
    "# Visualize the distribution of each numerical column\n",
    "food.hist(figsize=(12, 10))\n",
    "plt.tight_layout()\n",
    "plt.show()\n",
    "\n",
    "# Select only numeric columns for correlation calculation\n",
    "numeric_columns = food.select_dtypes(include=['float64', 'int64']).columns\n",
    "correlation_matrix = food[numeric_columns].corr()\n",
    "\n",
    "# Plot the correlation matrix\n",
    "plt.figure(figsize=(10, 8))\n",
    "plt.matshow(correlation_matrix, cmap='viridis')\n",
    "plt.xticks(range(len(correlation_matrix.columns)), correlation_matrix.columns, rotation=90)\n",
    "plt.yticks(range(len(correlation_matrix.columns)), correlation_matrix.columns)\n",
    "plt.colorbar()\n",
    "plt.show()\n",
    "\n",
    "\n",
    "# Boxplot for each numerical column\n",
    "food.boxplot(figsize=(12, 8))\n",
    "plt.show()\n",
    "\n",
    "# Pairplot to visualize relationships between pairs of variables\n",
    "sns.pairplot(food)\n",
    "plt.show()"
   ]
  },
  {
   "cell_type": "code",
   "execution_count": null,
   "metadata": {},
   "outputs": [],
   "source": [
    "DisDif = pd.read_csv('./dieasediff.csv')"
   ]
  },
  {
   "cell_type": "code",
   "execution_count": null,
   "metadata": {},
   "outputs": [],
   "source": [
    "DisDif.head()"
   ]
  },
  {
   "cell_type": "code",
   "execution_count": null,
   "metadata": {},
   "outputs": [],
   "source": [
    "DisDif.tail()"
   ]
  },
  {
   "cell_type": "code",
   "execution_count": null,
   "metadata": {},
   "outputs": [],
   "source": [
    "DisDif.shape"
   ]
  },
  {
   "cell_type": "code",
   "execution_count": null,
   "metadata": {},
   "outputs": [],
   "source": [
    "DisDif.info()"
   ]
  },
  {
   "cell_type": "code",
   "execution_count": null,
   "metadata": {},
   "outputs": [],
   "source": [
    "DisDif.isna().sum()"
   ]
  },
  {
   "cell_type": "code",
   "execution_count": null,
   "metadata": {},
   "outputs": [],
   "source": [
    "DisDif.isna().sum().sum()"
   ]
  },
  {
   "cell_type": "code",
   "execution_count": null,
   "metadata": {},
   "outputs": [],
   "source": [
    "DisDif.dropna(subset=['description'], inplace=True)"
   ]
  },
  {
   "cell_type": "code",
   "execution_count": null,
   "metadata": {},
   "outputs": [],
   "source": [
    "DisDif.isna().sum()"
   ]
  },
  {
   "cell_type": "code",
   "execution_count": null,
   "metadata": {},
   "outputs": [],
   "source": [
    "DisDif.columns"
   ]
  },
  {
   "cell_type": "code",
   "execution_count": null,
   "metadata": {},
   "outputs": [],
   "source": [
    "DisDif = DisDif.drop(columns=['Price'])"
   ]
  },
  {
   "cell_type": "code",
   "execution_count": null,
   "metadata": {},
   "outputs": [],
   "source": [
    "DisDif.shape\n",
    "DisDif.duplicated().sum()"
   ]
  },
  {
   "cell_type": "code",
   "execution_count": null,
   "metadata": {},
   "outputs": [],
   "source": [
    "DisDif.drop_duplicates(inplace=True)"
   ]
  },
  {
   "cell_type": "code",
   "execution_count": null,
   "metadata": {},
   "outputs": [],
   "source": [
    "DisDif.duplicated().sum()"
   ]
  },
  {
   "cell_type": "code",
   "execution_count": null,
   "metadata": {},
   "outputs": [],
   "source": [
    "DisDif.shape"
   ]
  },
  {
   "cell_type": "code",
   "execution_count": null,
   "metadata": {},
   "outputs": [],
   "source": [
    "DisDif.describe()"
   ]
  },
  {
   "cell_type": "code",
   "execution_count": null,
   "metadata": {},
   "outputs": [],
   "source": [
    "DisDif.nunique()"
   ]
  },
  {
   "cell_type": "code",
   "execution_count": null,
   "metadata": {},
   "outputs": [],
   "source": [
    "food_list = DisDif['Name'].unique().tolist()"
   ]
  },
  {
   "cell_type": "code",
   "execution_count": null,
   "metadata": {},
   "outputs": [],
   "source": [
    "print(\"Foodstuff List:\")\n",
    "print('-' * 20)  # Separator for better readability\n",
    "\n",
    "for food_item in food_list:\n",
    "    print(food_item)"
   ]
  },
  {
   "cell_type": "code",
   "execution_count": null,
   "metadata": {},
   "outputs": [],
   "source": [
    "catagory_list = DisDif['catagory'].unique().tolist()\n",
    "print(\"Catagory List:\")\n",
    "print('-' * 20)  # Separator for better readability\n",
    "\n",
    "for type in catagory_list:\n",
    "    print(type)"
   ]
  },
  {
   "cell_type": "code",
   "execution_count": null,
   "metadata": {},
   "outputs": [],
   "source": [
    "nutrient_list = DisDif['Nutrient'].unique().tolist()"
   ]
  },
  {
   "cell_type": "code",
   "execution_count": null,
   "metadata": {},
   "outputs": [],
   "source": [
    "print(\"Nutrient List:\")\n",
    "print('-' * 20)  # Separator for better readability\n",
    "\n",
    "for nutri in nutrient_list:\n",
    "    print(nutri)"
   ]
  },
  {
   "cell_type": "code",
   "execution_count": null,
   "metadata": {},
   "outputs": [],
   "source": [
    "disease_list = DisDif['Disease'].unique().tolist()\n",
    "print(disease_list)"
   ]
  },
  {
   "cell_type": "code",
   "execution_count": null,
   "metadata": {},
   "outputs": [],
   "source": [
    "unique_disease = []\n",
    "\n",
    "for diseases_string in disease_list:\n",
    "    individual_strings = diseases_string.split(', ')\n",
    "    \n",
    "    for individual_string in individual_strings:\n",
    "        diseases_list = individual_string.split()\n",
    "        \n",
    "        for diseases in diseases_list:\n",
    "            disease_names = diseases.split(', ')\n",
    "            \n",
    "            if disease_names not in unique_disease :\n",
    "                unique_disease.append(disease_names)\n",
    "\n",
    "print(unique_disease)"
   ]
  },
  {
   "cell_type": "code",
   "execution_count": null,
   "metadata": {},
   "outputs": [],
   "source": [
    "print(\"Disease List:\")\n",
    "print('-' * 20)  # Separator for better readability\n",
    "\n",
    "for disease in unique_disease:\n",
    "    print(disease)"
   ]
  },
  {
   "cell_type": "code",
   "execution_count": null,
   "metadata": {},
   "outputs": [],
   "source": [
    "uni_diseases = [''.join(element).replace('[', '').replace(']', '').replace(\"'\", '') for element in unique_disease]\n",
    "print(uni_diseases)"
   ]
  },
  {
   "cell_type": "code",
   "execution_count": null,
   "metadata": {},
   "outputs": [],
   "source": [
    "for disease in uni_diseases:\n",
    "    print(disease)"
   ]
  },
  {
   "cell_type": "code",
   "execution_count": null,
   "metadata": {},
   "outputs": [],
   "source": [
    "diet_list = DisDif['Diet'].unique().tolist()"
   ]
  },
  {
   "cell_type": "code",
   "execution_count": null,
   "metadata": {},
   "outputs": [],
   "source": [
    "unique_diet = []\n",
    "\n",
    "for types in diet_list:\n",
    "    diet_types = types.split()\n",
    "    for diet in diet_types:    \n",
    "        if diet not in unique_diet :\n",
    "            unique_diet.append(diet)\n",
    "\n",
    "print(unique_diet)"
   ]
  },
  {
   "cell_type": "code",
   "execution_count": null,
   "metadata": {},
   "outputs": [],
   "source": [
    "print(\"Diet List:\")\n",
    "print('-' * 20)  # Separator for better readability\n",
    "\n",
    "for diet_nm in unique_diet:\n",
    "    print(diet_nm)"
   ]
  },
  {
   "cell_type": "code",
   "execution_count": null,
   "metadata": {},
   "outputs": [],
   "source": [
    "pip install detect"
   ]
  },
  {
   "cell_type": "code",
   "execution_count": null,
   "metadata": {},
   "outputs": [],
   "source": [
    "pip install langdetect"
   ]
  },
  {
   "cell_type": "code",
   "execution_count": null,
   "metadata": {},
   "outputs": [],
   "source": [
    "pip install googletrans"
   ]
  },
  {
   "cell_type": "code",
   "execution_count": null,
   "metadata": {},
   "outputs": [],
   "source": [
    "from langdetect import detect\n",
    "from googletrans import Translator\n",
    "\n",
    "def translate_description(description):\n",
    "    if detect(description) != 'en':\n",
    "        translator = Translator()\n",
    "        translated = translator.translate(description, src='auto', dest='en')\n",
    "        return translated.text\n",
    "    else:\n",
    "        return description"
   ]
  },
  {
   "cell_type": "code",
   "execution_count": null,
   "metadata": {},
   "outputs": [],
   "source": [
    "food_item = input(\"Enter the food item: \")\n",
    "description_components = DisDif[DisDif['Name'] == food_item]['description'].values\n",
    "if len(description_components) > 0:\n",
    "    print(\"Description components of\", food_item, \":\", translate_description(description_components[0]))\n",
    "else:\n",
    "    print(\"Food item not found in the dataset\")\n"
   ]
  },
  {
   "cell_type": "code",
   "execution_count": null,
   "metadata": {},
   "outputs": [],
   "source": [
    "# Assuming the user-inputted food item is stored in a variable called user_input\n",
    "user_input = \"pasta in cheese sauce\"  # Example food item entered by the user\n",
    "# Check if the food item exists in the DataFrame\n",
    "if user_input in DisDif['Name'].values:\n",
    "    # Get the description of the food item\n",
    "    description = DisDif.loc[DisDif['Name'] == user_input, 'description'].values[0]\n",
    "    \n",
    "    # Check if the description is in English\n",
    "    if detect(description) != 'en':\n",
    "        # Translate the description to English\n",
    "        translated_description = translate_description(description)\n",
    "        print(\"Description:\", translated_description)\n",
    "    else:\n",
    "        print(\"Description:\", description)\n",
    "else:\n",
    "    print(\"Food item not found in the dataset\")"
   ]
  },
  {
   "cell_type": "code",
   "execution_count": null,
   "metadata": {},
   "outputs": [],
   "source": [
    "def calculate_bmi(weight, height):\n",
    "    if weight <= 0 or height <= 0:\n",
    "        raise ValueError(\"Weight and height must be positive values.\")\n",
    "    bmi = weight / (height ** 2)\n",
    "    return bmi\n",
    "\n",
    "\n",
    "def interpret_bmi(bmi):\n",
    "    if bmi < 18.5:\n",
    "        return \"Underweight\"\n",
    "    elif 18.5 <= bmi < 24.9:\n",
    "        return \"Normal weight\"\n",
    "    elif 25 <= bmi < 29.9:\n",
    "        return \"Overweight\"\n",
    "    else:\n",
    "        return \"Obese\"\n",
    "\n",
    "\n",
    "def calculate_calories(weight, height, age, gender, activity_level):\n",
    "    if weight <= 0 or height <= 0 or age <= 0:\n",
    "        raise ValueError(\"Weight, height, and age must be positive values.\")\n",
    "    if gender.lower() not in ['male', 'female']:\n",
    "        raise ValueError(\"Invalid gender. Use 'male' or 'female'.\")\n",
    "    activity_levels = {'sedentary': 1.2, 'moderate': 1.55, 'active': 1.9}\n",
    "    if activity_level.lower() not in activity_levels:\n",
    "        raise ValueError(\"Invalid activity level. Use 'sedentary', 'moderate', or 'active'.\")\n",
    "    bmr = calculate_bmr(weight, height, age, gender)\n",
    "    calories = bmr * activity_levels[activity_level.lower()]\n",
    "    return calories\n",
    "\n",
    "\n",
    "def calculate_bmr(weight, height, age, gender):\n",
    "    if weight <= 0 or height <= 0 or age <= 0:\n",
    "        raise ValueError(\"Weight, height, and age must be positive values.\")\n",
    "    if gender.lower() not in ['male', 'female']:\n",
    "        raise ValueError(\"Invalid gender. Use 'male' or 'female'.\")\n",
    "    if gender.lower() == 'male':\n",
    "        bmr = 88.362 + (13.397 * weight) + (4.799 * height) - (5.677 * age)\n",
    "    else:\n",
    "        bmr = 447.593 + (9.247 * weight) + (3.098 * height) - (4.330 * age)\n",
    "    return bmr\n"
   ]
  },
  {
   "cell_type": "code",
   "execution_count": null,
   "metadata": {},
   "outputs": [],
   "source": [
    "weight_kg = 70\n",
    "height_m = 1.75\n",
    "bmi = calculate_bmi(weight_kg, height_m)\n",
    "print(f\"BMI: {bmi:.2f} - {interpret_bmi(bmi)}\")\n",
    "\n",
    "weight_kg = 70\n",
    "height_cm = 175\n",
    "age = 25\n",
    "gender = 'male'\n",
    "activity_level = 'active'\n",
    "calories = calculate_calories(weight_kg, height_cm, age, gender, activity_level)\n",
    "print(f\"Daily Calorie Needs: {calories:.2f} calories\")"
   ]
  },
  {
   "cell_type": "code",
   "execution_count": null,
   "metadata": {},
   "outputs": [],
   "source": []
  },
  {
   "cell_type": "code",
   "execution_count": null,
   "metadata": {},
   "outputs": [],
   "source": [
    "'''all_ingredients = set()\n",
    "unique_ingredients = set()\n",
    "\n",
    "# Iterate over each food item in the dataset\n",
    "for food_item in DisDif['Name']:\n",
    "    # Get the description of the food item\n",
    "    description = DisDif.loc[DisDif['Name'] == food_item, 'description'].values[0]\n",
    "    \n",
    "    # Check if the description is in English\n",
    "    if detect(description) != 'en':\n",
    "        # Translate the description to English\n",
    "        translated_description = translate_description(description)\n",
    "        # Split the description into individual ingredients\n",
    "        ingredients = translated_description.split(', ')\n",
    "    else:\n",
    "        # Split the description into individual ingredients\n",
    "        ingredients = description.split(', ')\n",
    "    \n",
    "    # Check each ingredient\n",
    "    for ingredient in ingredients:\n",
    "        # Check if the ingredient is already present in the unique ingredients set\n",
    "        if ingredient not in unique_ingredients:\n",
    "            # If not present, add it to both sets and print it\n",
    "            unique_ingredients.add(ingredient)\n",
    "            all_ingredients.add(ingredient)\n",
    "            print(ingredient)\n",
    "\n",
    "# List of all unique ingredients\n",
    "print(\"\\nList of All Unique Ingredients:\")\n",
    "for ingredient in all_ingredients:\n",
    "    print(ingredient)'''\n"
   ]
  },
  {
   "cell_type": "code",
   "execution_count": null,
   "metadata": {},
   "outputs": [],
   "source": [
    "'''with open(\"unique_ingredients.txt\", \"w\") as file:\n",
    "    # Write each ingredient to the file\n",
    "    for ingredient in unique_ingredients:\n",
    "        file.write(ingredient + \"\\n\") '''"
   ]
  },
  {
   "cell_type": "code",
   "execution_count": null,
   "metadata": {},
   "outputs": [],
   "source": [
    "food_items = food['Food_items'].tolist()\n",
    "\n",
    "for item in food_items:\n",
    "    print(item)"
   ]
  },
  {
   "cell_type": "code",
   "execution_count": null,
   "metadata": {},
   "outputs": [],
   "source": [
    "food.head()"
   ]
  },
  {
   "cell_type": "code",
   "execution_count": null,
   "metadata": {},
   "outputs": [],
   "source": [
    "print(food[food['VegNovVeg_1'] == \"True\"])"
   ]
  },
  {
   "cell_type": "code",
   "execution_count": null,
   "metadata": {},
   "outputs": [],
   "source": [
    "food.drop(columns=['VegNovVeg_1'], inplace=True)"
   ]
  },
  {
   "cell_type": "code",
   "execution_count": null,
   "metadata": {},
   "outputs": [],
   "source": [
    "food.replace({False: 0, True: 1}, inplace=True)"
   ]
  },
  {
   "cell_type": "code",
   "execution_count": null,
   "metadata": {},
   "outputs": [],
   "source": [
    "from sklearn.cluster import AgglomerativeClustering\n",
    "\n",
    "def check_food_vegnonveg_hierarchical(food, food_item):\n",
    "    # Check if the food item exists in the DataFrame\n",
    "    food_item_row = food[food['Food_items'] == food_item]\n",
    "    if not food_item_row.empty:\n",
    "        # Fit hierarchical clustering model\n",
    "        X = food[['VegNovVeg_ ', 'VegNovVeg_0']]\n",
    "        cluster_model = AgglomerativeClustering(n_clusters=2)\n",
    "        clusters = cluster_model.fit_predict(X)\n",
    "        \n",
    "        # Get cluster label for the food item\n",
    "        cluster_label = clusters[food_item_row.index[0]]\n",
    "        \n",
    "        # Map the cluster label to its corresponding label\n",
    "        if cluster_label == 0:\n",
    "            return 'Non-Vegetarian'\n",
    "        else:\n",
    "            return 'Vegetarian'\n",
    "    else:\n",
    "        return 'Food item not found in the dataset'"
   ]
  },
  {
   "cell_type": "code",
   "execution_count": null,
   "metadata": {},
   "outputs": [],
   "source": [
    "food_item = input(\"Food Item : \")\n",
    "status = check_food_vegnonveg_hierarchical(food, food_item)\n",
    "print(f\"{food_item} is {status}\")"
   ]
  },
  {
   "cell_type": "code",
   "execution_count": null,
   "metadata": {},
   "outputs": [],
   "source": [
    "scaler = StandardScaler()\n",
    "X_scaled = scaler.fit_transform(X)\n",
    "\n",
    "# Perform K-means clustering\n",
    "X = food[['Breakfast', 'Lunch', 'Dinner']]\n",
    "\n",
    "# Standardize the features\n",
    "scaler = StandardScaler()\n",
    "X_scaled = scaler.fit_transform(X)\n",
    "\n",
    "# Perform K-means clustering\n",
    "kmeans = KMeans(n_clusters=3, random_state=42)\n",
    "food['Cluster'] = kmeans.fit_predict(X_scaled)\n",
    "\n",
    "cluster_names = {0: 'Breakfast', 1: 'Lunch', 2: 'Dinner'}\n",
    "\n",
    "# Map cluster numbers to cluster names\n",
    "food['Cluster Name'] = food['Cluster'].map(cluster_names)\n",
    "\n",
    "# Output the food items along with their assigned clusters\n",
    "print(food[['Food_items', 'Cluster Name']])"
   ]
  },
  {
   "cell_type": "code",
   "execution_count": null,
   "metadata": {},
   "outputs": [],
   "source": [
    "def get_meal_cluster(food_df, food_item):\n",
    "    food_item_row = food_df[food_df['Food_items'] == food_item]\n",
    "    if not food_item_row.empty:\n",
    "        cluster = food_item_row['Cluster'].values[0]\n",
    "        return cluster_names[cluster]\n",
    "    else:\n",
    "        return 'Food item not found in the dataset'"
   ]
  },
  {
   "cell_type": "code",
   "execution_count": null,
   "metadata": {},
   "outputs": [],
   "source": [
    "food_item = input(\"Food Item : \")\n",
    "clusters = get_meal_cluster(food, food_item)\n",
    "print(f\"{food_item} belongs to {clusters}.\")"
   ]
  },
  {
   "cell_type": "code",
   "execution_count": null,
   "metadata": {},
   "outputs": [],
   "source": [
    "def create_pie_chart(food_df, food_item):\n",
    "    if food_item in food_df['Food_items'].values:\n",
    "        item_row = food_df[food_df['Food_items'] == food_item]\n",
    "        \n",
    "        # Nutrient labels and sizes\n",
    "        labels = ['Calories', 'Fats', 'Proteins', 'Iron', 'Calcium', 'Sodium',\n",
    "                  'Potassium', 'Carbohydrates', 'Fibre', 'VitaminD', 'Sugars']\n",
    "        sizes = item_row[labels].values[0]\n",
    "        \n",
    "        # Colors for the pie chart\n",
    "        colors = ['gold', 'yellowgreen', 'lightcoral', 'lightskyblue', 'lightgreen',\n",
    "                  'pink', 'lightblue', 'orange', 'cyan', 'magenta', 'red']\n",
    "        \n",
    "        # Create pie chart\n",
    "        fig, ax = plt.subplots()\n",
    "        wedges, _, _ = ax.pie(sizes, colors=colors, autopct='', startangle=140, textprops=dict(color=\"black\"))\n",
    "        \n",
    "        # Add legend next to the pie chart\n",
    "        ax.legend(wedges, [f'{label}: {size:.1f}%' for label, size in zip(labels, sizes)], title=\"Nutrients\", loc=\"center left\", bbox_to_anchor=(1, 0.5))\n",
    "        \n",
    "        # Equal aspect ratio ensures that pie is drawn as a circle\n",
    "        ax.axis('equal')  \n",
    "        \n",
    "        # Title for the pie chart\n",
    "        plt.title(f'Nutrient Distribution of {food_item}')\n",
    "        \n",
    "        # Show the pie chart\n",
    "        plt.show()\n",
    "    else:\n",
    "        print(\"Food item not found in the dataset.\")"
   ]
  },
  {
   "cell_type": "code",
   "execution_count": null,
   "metadata": {},
   "outputs": [],
   "source": [
    "food_item = input(\"Food Item: \")\n",
    "create_pie_chart(food, food_item)"
   ]
  },
  {
   "cell_type": "code",
   "execution_count": null,
   "metadata": {},
   "outputs": [],
   "source": []
  },
  {
   "cell_type": "code",
   "execution_count": null,
   "metadata": {},
   "outputs": [],
   "source": [
    "DisDif.drop(columns=['Meal_Id'], inplace=True)"
   ]
  },
  {
   "cell_type": "code",
   "execution_count": null,
   "metadata": {},
   "outputs": [],
   "source": [
    "import random"
   ]
  },
  {
   "cell_type": "code",
   "execution_count": null,
   "metadata": {},
   "outputs": [],
   "source": [
    "def get_mealfordisease(DisDif, disease_name):\n",
    "    food_items = DisDif.loc[DisDif['Disease'].str.contains(disease_name), 'Name'].tolist()\n",
    "\n",
    "    print(f\"Meal List for {disease_name}:\")\n",
    "    print('-' * 20)  # Separator for better readability\n",
    "\n",
    "    if food_items:\n",
    "        if len(food_items) <= 10:\n",
    "            for food_item in food_items:\n",
    "                print(food_item)\n",
    "        else:\n",
    "            random_selection = random.sample(food_items, 10)\n",
    "            for food_item in random_selection:\n",
    "                print(food_item)\n"
   ]
  },
  {
   "cell_type": "code",
   "execution_count": null,
   "metadata": {},
   "outputs": [],
   "source": [
    "disease_name = input(\"Disease Name : \")\n",
    "print(get_mealfordisease(DisDif, disease_name))"
   ]
  },
  {
   "cell_type": "code",
   "execution_count": null,
   "metadata": {},
   "outputs": [],
   "source": [
    "def get_mealfordisease(DisDif, nutrient_name, nutrient_column='Nutrient', food_column='Name'):\n",
    "    \n",
    "    matching_rows = DisDif[DisDif[nutrient_column] == nutrient_name]\n",
    "\n",
    "    if not matching_rows.empty:\n",
    "        food_items = matching_rows[food_column].tolist()\n",
    "        print(f\"Food items associated with nutrient {nutrient_name}:\")\n",
    "        print('-' * 20)\n",
    "        if food_items:\n",
    "            if len(food_items) <= 10:\n",
    "                for food_item in food_items:\n",
    "                    print(food_item)\n",
    "            else:\n",
    "                random_selection = random.sample(food_items, 10)\n",
    "                for food_item in random_selection:\n",
    "                    print(food_item)\n",
    "    else:\n",
    "        print(f\"No food items found for nutrient {nutrient_name}.\")"
   ]
  },
  {
   "cell_type": "code",
   "execution_count": null,
   "metadata": {},
   "outputs": [],
   "source": [
    "Defficiency = input(\"Defficiency : \")\n",
    "print(get_mealfordisease(DisDif, Defficiency))"
   ]
  },
  {
   "cell_type": "code",
   "execution_count": null,
   "metadata": {},
   "outputs": [],
   "source": [
    "def get_mealfordiet(DisDif, diet_name):\n",
    "    food_items = DisDif.loc[DisDif['Diet'].str.contains(diet_name), 'Name'].tolist()\n",
    "\n",
    "    print(f\"Meal List for {diet_name}:\")\n",
    "    print('-' * 20)  # Separator for better readability\n",
    "\n",
    "    if food_items:\n",
    "        if len(food_items) <= 10:\n",
    "            for food_item in food_items:\n",
    "                print(food_item)\n",
    "        else:\n",
    "            random_selection = random.sample(food_items, 10)\n",
    "            for food_item in random_selection:\n",
    "                print(food_item)\n",
    "                "
   ]
  },
  {
   "cell_type": "code",
   "execution_count": null,
   "metadata": {},
   "outputs": [],
   "source": [
    "diet_name = input(\"Diet Name : \")\n",
    "print(get_mealfordiet(DisDif, diet_name))"
   ]
  },
  {
   "cell_type": "code",
   "execution_count": null,
   "metadata": {},
   "outputs": [],
   "source": [
    "from googletrans import Translator\n",
    "from langdetect import detect\n",
    "\n",
    "def translate_description(description):\n",
    "    translator = Translator()\n",
    "    translated_text = translator.translate(description, src='auto', dest='en').text\n",
    "    return translated_text\n",
    "\n",
    "def get_mealforallergy(DisDif, Allergy):\n",
    "    # Translate descriptions if they are not in English\n",
    "    for index, row in DisDif.iterrows():\n",
    "        if detect(row['description']) != 'en':\n",
    "            DisDif.at[index, 'description'] = translate_description(row['description'])\n",
    "\n",
    "    # Filtering rows where translated 'description' does not contain the allergy\n",
    "    matching_rows = DisDif[~DisDif['description'].str.contains(Allergy, case=False)]\n",
    "\n",
    "    # If there are matching rows, print the list of food items\n",
    "    if not matching_rows.empty:\n",
    "        food_items = matching_rows['Name'].tolist()\n",
    "        print(f\"Food items where '{Allergy}' is not present in the Description:\")\n",
    "        print('-' * 20)\n",
    "        if food_items:\n",
    "            if len(food_items) <= 10:\n",
    "                for food_item in food_items:\n",
    "                    print(food_item)\n",
    "            else:\n",
    "                random_selection = random.sample(food_items, 10)\n",
    "                for food_item in random_selection:\n",
    "                    print(food_item)\n",
    "    else:\n",
    "        print(f\"No food items found where '{Allergy}' is not present in the Description.\")"
   ]
  },
  {
   "cell_type": "code",
   "execution_count": null,
   "metadata": {},
   "outputs": [],
   "source": [
    "Allergy = input(\"Allergy : \")\n",
    "print(get_mealforallergy(DisDif, Allergy))"
   ]
  },
  {
   "cell_type": "code",
   "execution_count": null,
   "metadata": {},
   "outputs": [],
   "source": []
  },
  {
   "cell_type": "code",
   "execution_count": null,
   "metadata": {},
   "outputs": [],
   "source": [
    "food.head()"
   ]
  },
  {
   "cell_type": "code",
   "execution_count": null,
   "metadata": {},
   "outputs": [],
   "source": [
    "import pandas as pd\n",
    "from sklearn.model_selection import train_test_split\n",
    "from sklearn.neighbors import KNeighborsClassifier\n",
    "from sklearn.metrics import accuracy_score\n",
    "\n",
    "# Split the data into features and target variable\n",
    "X = food[['Calories', 'Proteins', 'Fats', 'Carbohydrates']]  # Features\n",
    "y = food.index  # Target variable (index)\n",
    "\n",
    "# Split the data into training and testing sets\n",
    "X_train, X_test, y_train, y_test = train_test_split(X, y, test_size=0.2, random_state=42)\n",
    "\n",
    "# Train the KNN classifier\n",
    "k = 1  # number of neighbors to consider\n",
    "knn = KNeighborsClassifier(n_neighbors=k)\n",
    "knn.fit(X_train, y_train)\n",
    "\n",
    "# Predict the index for the test set\n",
    "y_pred = knn.predict(X_test)\n"
   ]
  },
  {
   "cell_type": "code",
   "execution_count": null,
   "metadata": {},
   "outputs": [],
   "source": [
    "# Predict index and get food name for a new sample\n",
    "calories = float(input(\"Enter calories: \"))\n",
    "proteins = float(input(\"Enter proteins: \"))\n",
    "fats = float(input(\"Enter fats: \"))\n",
    "carbohydrates = float(input(\"Enter carbohydrates: \"))\n",
    "\n",
    "predicted_index = knn.predict([[calories, proteins, fats, carbohydrates]])\n",
    "predicted_food_name = food.loc[predicted_index[0], 'Food_items']\n",
    "print(\"Predicted Food Name:\", predicted_food_name)"
   ]
  },
  {
   "cell_type": "code",
   "execution_count": null,
   "metadata": {},
   "outputs": [],
   "source": [
    "from sklearn.cluster import KMeans\n",
    "from sklearn.preprocessing import LabelEncoder\n",
    "\n",
    "label_encoder = LabelEncoder()\n",
    "DisDif['Veg_Non'] = label_encoder.fit_transform(DisDif['Veg_Non'])\n",
    "\n",
    "# Extract features\n",
    "X = DisDif[['Veg_Non']]\n",
    "\n",
    "# Perform k-means clustering\n",
    "k = 2  # number of clusters\n",
    "kmeans = KMeans(n_clusters=k)\n",
    "kmeans.fit(X)\n",
    "\n",
    "# Get cluster centers\n",
    "cluster_centers = kmeans.cluster_centers_\n",
    "\n",
    "# Get cluster labels\n",
    "cluster_labels = kmeans.labels_\n",
    "\n",
    "# Assign cluster labels back to the DataFrame\n",
    "DisDif['Cluster'] = cluster_labels\n",
    "\n",
    "cluster_names = {0: 'veg', 1: 'non-veg'}\n",
    "DisDif['Cluster'] = [cluster_names[label] for label in cluster_labels]\n",
    "\n",
    "# Display the resulting DataFrame with cluster labels\n",
    "print(DisDif[['Name', 'Veg_Non', 'Cluster']])"
   ]
  },
  {
   "cell_type": "code",
   "execution_count": null,
   "metadata": {},
   "outputs": [],
   "source": [
    "def predict_veg_nonveg(food_name):\n",
    "    # Predict cluster label for the given food name\n",
    "    row = DisDif[DisDif['Name'] == food_name]\n",
    "    \n",
    "    if not row.empty:\n",
    "        # Retrieve the cluster name from the row\n",
    "        cluster_name = row['Cluster'].iloc[0]\n",
    "        return (f\"{food_name} is {cluster_name}\")\n",
    "    else:\n",
    "        return \"Food not found in the dataset.\"\n"
   ]
  },
  {
   "cell_type": "code",
   "execution_count": null,
   "metadata": {},
   "outputs": [],
   "source": [
    "food_name = input(\"Enter the name of the food: \")\n",
    "cluster_name = predict_veg_nonveg(food_name)\n",
    "print(predict_veg_nonveg(food_name))"
   ]
  },
  {
   "cell_type": "code",
   "execution_count": null,
   "metadata": {},
   "outputs": [],
   "source": [
    "import random\n",
    "\n",
    "def generate_nutrient_sets(calories_total, proteins_total, fats_total, carbohydrates_total):\n",
    "    # Divide the total values by 5 to get target values for each set\n",
    "    calories_target = calories_total // 5\n",
    "    proteins_target = proteins_total // 5\n",
    "    fats_target = fats_total // 5\n",
    "    carbohydrates_target = carbohydrates_total // 5\n",
    "\n",
    "    # Initialize sets and set counter\n",
    "    sets = []\n",
    "    counter = 0\n",
    "\n",
    "    # Keep generating sets until we find 5 unique sets\n",
    "    while len(sets) < 5:\n",
    "        # Generate a random set of values for each nutrient\n",
    "        calories = random.randint(calories_target - 15, calories_target + 15)\n",
    "        proteins = random.randint(proteins_target - 7, proteins_target + 7)\n",
    "        fats = random.randint(fats_target - 5, fats_target + 5)\n",
    "        carbohydrates = random.randint(carbohydrates_target - 10, carbohydrates_target + 10)\n",
    "\n",
    "        # Check if all values are unique across all sets\n",
    "        if not any(all(value == nutrient for value in nutrient_set) for nutrient_set in sets for nutrient in (calories, proteins, fats, carbohydrates)):\n",
    "            sets.append((calories, proteins, fats, carbohydrates))\n",
    "            counter += 1\n",
    "\n",
    "    return sets\n"
   ]
  },
  {
   "cell_type": "code",
   "execution_count": null,
   "metadata": {},
   "outputs": [],
   "source": [
    "# Example usage:\n",
    "calories_total = 2000\n",
    "proteins_total = 100\n",
    "fats_total = 50\n",
    "carbohydrates_total = 250\n",
    "\n",
    "generated_sets = generate_nutrient_sets(calories_total, proteins_total, fats_total, carbohydrates_total)\n",
    "\n",
    "print(\"Generated Sets:\")\n",
    "for i, nutrient_set in enumerate(generated_sets, 1):\n",
    "    print(f\"Set {i}: {nutrient_set}\")"
   ]
  },
  {
   "cell_type": "code",
   "execution_count": null,
   "metadata": {},
   "outputs": [],
   "source": [
    "def calculate_sums(random_sets):\n",
    "    sums = {'Calories': 0, 'Proteins': 0, 'Fats': 0, 'Carbohydrates': 0}\n",
    "    for set_values in random_sets:\n",
    "        for i, nutrient in enumerate(['Calories', 'Proteins', 'Fats', 'Carbohydrates']):\n",
    "            sums[nutrient] += set_values[i]\n",
    "    return sums\n",
    "\n",
    "# Calculate the sums for the generated random sets\n",
    "sums = calculate_sums(generated_sets)\n",
    "\n",
    "# Print the sums\n",
    "print(\"Sum of Nutrients:\")\n",
    "for nutrient, total in sums.items():\n",
    "    print(f\"{nutrient}: {total}\")\n",
    "\n",
    "# Compare with the given totals\n",
    "given_totals = {'Calories': calories_total, 'Proteins': proteins_total, 'Fats': fats_total, 'Carbohydrates': carbohydrates_total}\n",
    "print(\"\\nGiven Totals:\")\n",
    "for nutrient, total in given_totals.items():\n",
    "    print(f\"{nutrient}: {total}\")\n",
    "\n",
    "# Verify if the sums are equal to the given totals\n",
    "are_equal = all(sums[nutrient] == total for nutrient, total in given_totals.items())\n",
    "print(\"\\nAre the sums equal to the given totals?\", are_equal)\n"
   ]
  },
  {
   "cell_type": "code",
   "execution_count": null,
   "metadata": {},
   "outputs": [],
   "source": [
    "# Generate sets\n",
    "generated_sets = generate_nutrient_sets(2000, 100, 50, 250)\n",
    "\n",
    "print(\"Predicted Food Name:\")\n",
    "# Initialize set to store predicted food names\n",
    "predicted_food_names = set()\n",
    "\n",
    "# Loop through each generated set\n",
    "for set_values in generated_sets:\n",
    "    # Reshape the set_values to match the input format of the model\n",
    "    X_input = np.array(set_values).reshape(1, -1)\n",
    "    \n",
    "    # Predict the index using the trained model\n",
    "    predicted_index = knn.predict(X_input)\n",
    "    \n",
    "    # Get the predicted food name\n",
    "    predicted_food_name = food.loc[predicted_index[0], 'Food_items']\n",
    "    \n",
    "    # Check if the predicted food name has not been written already\n",
    "    if predicted_food_name not in predicted_food_names:\n",
    "        # Write the predicted food name\n",
    "        print(f\"{predicted_food_name}\")\n",
    "        \n",
    "        # Add the food name to the set of predicted food names\n",
    "        predicted_food_names.add(predicted_food_name)\n"
   ]
  }
 ],
 "metadata": {
  "kernelspec": {
   "display_name": "goku",
   "language": "python",
   "name": "python3"
  },
  "language_info": {
   "codemirror_mode": {
    "name": "ipython",
    "version": 3
   },
   "file_extension": ".py",
   "mimetype": "text/x-python",
   "name": "python",
   "nbconvert_exporter": "python",
   "pygments_lexer": "ipython3",
   "version": "3.10.9"
  }
 },
 "nbformat": 4,
 "nbformat_minor": 2
}
