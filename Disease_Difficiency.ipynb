{
 "cells": [
  {
   "cell_type": "code",
   "execution_count": 3,
   "metadata": {},
   "outputs": [],
   "source": [
    "import numpy as np \n",
    "import pandas as pd \n",
    "import os\n",
    "import sklearn\n",
    "from sklearn.neighbors import NearestNeighbors"
   ]
  },
  {
   "cell_type": "code",
   "execution_count": 6,
   "metadata": {},
   "outputs": [],
   "source": [
    "DisDif = pd.read_csv('C:\\\\Users\\\\PRAJAKTA\\\\OneDrive\\\\Desktop\\\\DietRecommend\\\\Disease\\\\dataset.csv')"
   ]
  },
  {
   "cell_type": "code",
   "execution_count": 8,
   "metadata": {},
   "outputs": [
    {
     "data": {
      "text/html": [
       "<div>\n",
       "<style scoped>\n",
       "    .dataframe tbody tr th:only-of-type {\n",
       "        vertical-align: middle;\n",
       "    }\n",
       "\n",
       "    .dataframe tbody tr th {\n",
       "        vertical-align: top;\n",
       "    }\n",
       "\n",
       "    .dataframe thead th {\n",
       "        text-align: right;\n",
       "    }\n",
       "</style>\n",
       "<table border=\"1\" class=\"dataframe\">\n",
       "  <thead>\n",
       "    <tr style=\"text-align: right;\">\n",
       "      <th></th>\n",
       "      <th>Meal_Id</th>\n",
       "      <th>Name</th>\n",
       "      <th>catagory</th>\n",
       "      <th>description</th>\n",
       "      <th>Veg_Non</th>\n",
       "      <th>Nutrient</th>\n",
       "      <th>Disease</th>\n",
       "      <th>Diet</th>\n",
       "      <th>Price</th>\n",
       "    </tr>\n",
       "  </thead>\n",
       "  <tbody>\n",
       "    <tr>\n",
       "      <th>0</th>\n",
       "      <td>meal_id1</td>\n",
       "      <td>summer squash salad</td>\n",
       "      <td>salad</td>\n",
       "      <td>white balsamic vinegar, lemon juice, lemon rin...</td>\n",
       "      <td>veg</td>\n",
       "      <td>fiber</td>\n",
       "      <td>obesity diabeties hypertension goitre</td>\n",
       "      <td>alkaline_diet low_fat_diet ketogenic_diet low...</td>\n",
       "      <td>485</td>\n",
       "    </tr>\n",
       "    <tr>\n",
       "      <th>1</th>\n",
       "      <td>meal_id2</td>\n",
       "      <td>chicken minced salad</td>\n",
       "      <td>salad</td>\n",
       "      <td>olive oil, chicken mince, garlic (minced), oni...</td>\n",
       "      <td>non-veg</td>\n",
       "      <td>fiber</td>\n",
       "      <td>anemia pregnancy hypertension rickets goitre ...</td>\n",
       "      <td>low_fat_diet low_carb_diet ketogenic_diet low...</td>\n",
       "      <td>600</td>\n",
       "    </tr>\n",
       "    <tr>\n",
       "      <th>2</th>\n",
       "      <td>meal_id3</td>\n",
       "      <td>sweet chilli almonds</td>\n",
       "      <td>chilli</td>\n",
       "      <td>almonds whole, egg white, curry leaves, salt, ...</td>\n",
       "      <td>veg</td>\n",
       "      <td>vitamin_a</td>\n",
       "      <td>hypertension scurvy heart_disease goitre kidn...</td>\n",
       "      <td>alkaline_diet low_fat_diet paleo_diet Mediter...</td>\n",
       "      <td>255</td>\n",
       "    </tr>\n",
       "    <tr>\n",
       "      <th>3</th>\n",
       "      <td>meal_id4</td>\n",
       "      <td>tricolour salad</td>\n",
       "      <td>salad</td>\n",
       "      <td>vinegar, honey/sugar, soy sauce, salt, garlic ...</td>\n",
       "      <td>veg</td>\n",
       "      <td>fiber</td>\n",
       "      <td>obesity goitre hypertension</td>\n",
       "      <td>low_fat_diet ketogenic_diet low_sodium_diet h...</td>\n",
       "      <td>615</td>\n",
       "    </tr>\n",
       "    <tr>\n",
       "      <th>4</th>\n",
       "      <td>meal_id5</td>\n",
       "      <td>gluten-free christmas cake</td>\n",
       "      <td>cake</td>\n",
       "      <td>christmas dry fruits (pre-soaked), orange zest...</td>\n",
       "      <td>veg</td>\n",
       "      <td>vitamin_a</td>\n",
       "      <td>goitre kidney_disease</td>\n",
       "      <td>high_protien_diet</td>\n",
       "      <td>465</td>\n",
       "    </tr>\n",
       "  </tbody>\n",
       "</table>\n",
       "</div>"
      ],
      "text/plain": [
       "    Meal_Id                        Name catagory  \\\n",
       "0  meal_id1         summer squash salad    salad   \n",
       "1  meal_id2        chicken minced salad    salad   \n",
       "2  meal_id3        sweet chilli almonds   chilli   \n",
       "3  meal_id4             tricolour salad    salad   \n",
       "4  meal_id5  gluten-free christmas cake     cake   \n",
       "\n",
       "                                         description  Veg_Non   Nutrient  \\\n",
       "0  white balsamic vinegar, lemon juice, lemon rin...      veg      fiber   \n",
       "1  olive oil, chicken mince, garlic (minced), oni...  non-veg      fiber   \n",
       "2  almonds whole, egg white, curry leaves, salt, ...      veg  vitamin_a   \n",
       "3  vinegar, honey/sugar, soy sauce, salt, garlic ...      veg      fiber   \n",
       "4  christmas dry fruits (pre-soaked), orange zest...      veg  vitamin_a   \n",
       "\n",
       "                                             Disease  \\\n",
       "0              obesity diabeties hypertension goitre   \n",
       "1   anemia pregnancy hypertension rickets goitre ...   \n",
       "2   hypertension scurvy heart_disease goitre kidn...   \n",
       "3                        obesity goitre hypertension   \n",
       "4                              goitre kidney_disease   \n",
       "\n",
       "                                                Diet  Price  \n",
       "0   alkaline_diet low_fat_diet ketogenic_diet low...    485  \n",
       "1   low_fat_diet low_carb_diet ketogenic_diet low...    600  \n",
       "2   alkaline_diet low_fat_diet paleo_diet Mediter...    255  \n",
       "3   low_fat_diet ketogenic_diet low_sodium_diet h...    615  \n",
       "4                                  high_protien_diet    465  "
      ]
     },
     "execution_count": 8,
     "metadata": {},
     "output_type": "execute_result"
    }
   ],
   "source": [
    "DisDif.head()"
   ]
  },
  {
   "cell_type": "code",
   "execution_count": 9,
   "metadata": {},
   "outputs": [
    {
     "data": {
      "text/html": [
       "<div>\n",
       "<style scoped>\n",
       "    .dataframe tbody tr th:only-of-type {\n",
       "        vertical-align: middle;\n",
       "    }\n",
       "\n",
       "    .dataframe tbody tr th {\n",
       "        vertical-align: top;\n",
       "    }\n",
       "\n",
       "    .dataframe thead th {\n",
       "        text-align: right;\n",
       "    }\n",
       "</style>\n",
       "<table border=\"1\" class=\"dataframe\">\n",
       "  <thead>\n",
       "    <tr style=\"text-align: right;\">\n",
       "      <th></th>\n",
       "      <th>Meal_Id</th>\n",
       "      <th>Name</th>\n",
       "      <th>catagory</th>\n",
       "      <th>description</th>\n",
       "      <th>Veg_Non</th>\n",
       "      <th>Nutrient</th>\n",
       "      <th>Disease</th>\n",
       "      <th>Diet</th>\n",
       "      <th>Price</th>\n",
       "    </tr>\n",
       "  </thead>\n",
       "  <tbody>\n",
       "    <tr>\n",
       "      <th>507</th>\n",
       "      <td>meal_id305</td>\n",
       "      <td>sunga pork</td>\n",
       "      <td>curry</td>\n",
       "      <td>curry</td>\n",
       "      <td>veg</td>\n",
       "      <td>iron</td>\n",
       "      <td>pregnancy goitre</td>\n",
       "      <td>low_fat_diet paleo_diet vegan_diet high_fiber...</td>\n",
       "      <td>605</td>\n",
       "    </tr>\n",
       "    <tr>\n",
       "      <th>508</th>\n",
       "      <td>meal_id306</td>\n",
       "      <td>banana chips</td>\n",
       "      <td>banana</td>\n",
       "      <td>r dried slices of bananas (fruits of herbaceou...</td>\n",
       "      <td>veg</td>\n",
       "      <td>magnesium</td>\n",
       "      <td>hypertension</td>\n",
       "      <td>alkaline_diet high_protien_diet vegan_diet hi...</td>\n",
       "      <td>295</td>\n",
       "    </tr>\n",
       "    <tr>\n",
       "      <th>509</th>\n",
       "      <td>meal_id307</td>\n",
       "      <td>bhurji- egg</td>\n",
       "      <td>egg</td>\n",
       "      <td>made using indian spices, onion, tomatoes, gre...</td>\n",
       "      <td>non-veg</td>\n",
       "      <td>vitamin_a</td>\n",
       "      <td>hypertension rickets goitre kidney_disease pr...</td>\n",
       "      <td>low_sodium_diet high_protien_diet low_fat_die...</td>\n",
       "      <td>645</td>\n",
       "    </tr>\n",
       "    <tr>\n",
       "      <th>510</th>\n",
       "      <td>meal_id308</td>\n",
       "      <td>flattened rice / pohe</td>\n",
       "      <td>rice</td>\n",
       "      <td>ible, dehusked rice which is flattened into fl...</td>\n",
       "      <td>veg</td>\n",
       "      <td>carbohydrates</td>\n",
       "      <td>anemia cancer scurvy heart_disease eye_diseas...</td>\n",
       "      <td>alkaline_diet low_fat_diet ketogenic_diet veg...</td>\n",
       "      <td>525</td>\n",
       "    </tr>\n",
       "    <tr>\n",
       "      <th>511</th>\n",
       "      <td>meal_id309</td>\n",
       "      <td>puffed rice</td>\n",
       "      <td>rice</td>\n",
       "      <td>grain made from rice; usually made by heating ...</td>\n",
       "      <td>veg</td>\n",
       "      <td>carbohydrates</td>\n",
       "      <td>obesity diabeties anemia</td>\n",
       "      <td>high_protien_diet vegan_diet dash_diet ketoge...</td>\n",
       "      <td>265</td>\n",
       "    </tr>\n",
       "  </tbody>\n",
       "</table>\n",
       "</div>"
      ],
      "text/plain": [
       "        Meal_Id                   Name catagory  \\\n",
       "507  meal_id305             sunga pork    curry   \n",
       "508  meal_id306           banana chips   banana   \n",
       "509  meal_id307            bhurji- egg      egg   \n",
       "510  meal_id308  flattened rice / pohe     rice   \n",
       "511  meal_id309            puffed rice     rice   \n",
       "\n",
       "                                           description  Veg_Non  \\\n",
       "507                                              curry      veg   \n",
       "508  r dried slices of bananas (fruits of herbaceou...      veg   \n",
       "509  made using indian spices, onion, tomatoes, gre...  non-veg   \n",
       "510  ible, dehusked rice which is flattened into fl...      veg   \n",
       "511  grain made from rice; usually made by heating ...      veg   \n",
       "\n",
       "          Nutrient                                            Disease  \\\n",
       "507           iron                                   pregnancy goitre   \n",
       "508      magnesium                                       hypertension   \n",
       "509      vitamin_a   hypertension rickets goitre kidney_disease pr...   \n",
       "510  carbohydrates   anemia cancer scurvy heart_disease eye_diseas...   \n",
       "511  carbohydrates                           obesity diabeties anemia   \n",
       "\n",
       "                                                  Diet  Price  \n",
       "507   low_fat_diet paleo_diet vegan_diet high_fiber...    605  \n",
       "508   alkaline_diet high_protien_diet vegan_diet hi...    295  \n",
       "509   low_sodium_diet high_protien_diet low_fat_die...    645  \n",
       "510   alkaline_diet low_fat_diet ketogenic_diet veg...    525  \n",
       "511   high_protien_diet vegan_diet dash_diet ketoge...    265  "
      ]
     },
     "execution_count": 9,
     "metadata": {},
     "output_type": "execute_result"
    }
   ],
   "source": [
    "DisDif.tail()"
   ]
  },
  {
   "cell_type": "code",
   "execution_count": 11,
   "metadata": {},
   "outputs": [
    {
     "data": {
      "text/plain": [
       "(512, 9)"
      ]
     },
     "execution_count": 11,
     "metadata": {},
     "output_type": "execute_result"
    }
   ],
   "source": [
    "DisDif.shape"
   ]
  },
  {
   "cell_type": "code",
   "execution_count": 12,
   "metadata": {},
   "outputs": [
    {
     "name": "stdout",
     "output_type": "stream",
     "text": [
      "<class 'pandas.core.frame.DataFrame'>\n",
      "RangeIndex: 512 entries, 0 to 511\n",
      "Data columns (total 9 columns):\n",
      " #   Column       Non-Null Count  Dtype \n",
      "---  ------       --------------  ----- \n",
      " 0   Meal_Id      512 non-null    object\n",
      " 1   Name         512 non-null    object\n",
      " 2   catagory     512 non-null    object\n",
      " 3   description  511 non-null    object\n",
      " 4   Veg_Non      512 non-null    object\n",
      " 5   Nutrient     512 non-null    object\n",
      " 6   Disease      512 non-null    object\n",
      " 7   Diet         512 non-null    object\n",
      " 8   Price        512 non-null    int64 \n",
      "dtypes: int64(1), object(8)\n",
      "memory usage: 36.1+ KB\n"
     ]
    }
   ],
   "source": [
    "DisDif.info()"
   ]
  },
  {
   "cell_type": "code",
   "execution_count": 13,
   "metadata": {},
   "outputs": [
    {
     "data": {
      "text/plain": [
       "Meal_Id        0\n",
       "Name           0\n",
       "catagory       0\n",
       "description    1\n",
       "Veg_Non        0\n",
       "Nutrient       0\n",
       "Disease        0\n",
       "Diet           0\n",
       "Price          0\n",
       "dtype: int64"
      ]
     },
     "execution_count": 13,
     "metadata": {},
     "output_type": "execute_result"
    }
   ],
   "source": [
    "DisDif.isna().sum()"
   ]
  },
  {
   "cell_type": "code",
   "execution_count": 14,
   "metadata": {},
   "outputs": [
    {
     "data": {
      "text/plain": [
       "1"
      ]
     },
     "execution_count": 14,
     "metadata": {},
     "output_type": "execute_result"
    }
   ],
   "source": [
    "DisDif.isna().sum().sum()"
   ]
  },
  {
   "cell_type": "code",
   "execution_count": 18,
   "metadata": {},
   "outputs": [],
   "source": [
    "DisDif.dropna(subset=['description'], inplace=True)"
   ]
  },
  {
   "cell_type": "code",
   "execution_count": 19,
   "metadata": {},
   "outputs": [
    {
     "data": {
      "text/plain": [
       "Meal_Id        0\n",
       "Name           0\n",
       "catagory       0\n",
       "description    0\n",
       "Veg_Non        0\n",
       "Nutrient       0\n",
       "Disease        0\n",
       "Diet           0\n",
       "Price          0\n",
       "dtype: int64"
      ]
     },
     "execution_count": 19,
     "metadata": {},
     "output_type": "execute_result"
    }
   ],
   "source": [
    "DisDif.isna().sum()"
   ]
  },
  {
   "cell_type": "code",
   "execution_count": 20,
   "metadata": {},
   "outputs": [
    {
     "data": {
      "text/plain": [
       "(511, 9)"
      ]
     },
     "execution_count": 20,
     "metadata": {},
     "output_type": "execute_result"
    }
   ],
   "source": [
    "DisDif.shape"
   ]
  },
  {
   "cell_type": "code",
   "execution_count": 21,
   "metadata": {},
   "outputs": [
    {
     "data": {
      "text/plain": [
       "Index(['Meal_Id', 'Name', 'catagory', 'description', 'Veg_Non', 'Nutrient',\n",
       "       'Disease', 'Diet', 'Price'],\n",
       "      dtype='object')"
      ]
     },
     "execution_count": 21,
     "metadata": {},
     "output_type": "execute_result"
    }
   ],
   "source": [
    "DisDif.columns"
   ]
  },
  {
   "cell_type": "code",
   "execution_count": 22,
   "metadata": {},
   "outputs": [],
   "source": [
    "DisDif = DisDif.drop(columns=['Price'])"
   ]
  },
  {
   "cell_type": "code",
   "execution_count": 23,
   "metadata": {},
   "outputs": [
    {
     "data": {
      "text/plain": [
       "(511, 8)"
      ]
     },
     "execution_count": 23,
     "metadata": {},
     "output_type": "execute_result"
    }
   ],
   "source": [
    "DisDif.shape"
   ]
  },
  {
   "cell_type": "code",
   "execution_count": 24,
   "metadata": {},
   "outputs": [
    {
     "data": {
      "text/plain": [
       "133"
      ]
     },
     "execution_count": 24,
     "metadata": {},
     "output_type": "execute_result"
    }
   ],
   "source": [
    "DisDif.duplicated().sum()"
   ]
  },
  {
   "cell_type": "code",
   "execution_count": 25,
   "metadata": {},
   "outputs": [],
   "source": [
    "DisDif.drop_duplicates(inplace=True)"
   ]
  },
  {
   "cell_type": "code",
   "execution_count": 26,
   "metadata": {},
   "outputs": [
    {
     "data": {
      "text/plain": [
       "0"
      ]
     },
     "execution_count": 26,
     "metadata": {},
     "output_type": "execute_result"
    }
   ],
   "source": [
    "DisDif.duplicated().sum()"
   ]
  },
  {
   "cell_type": "code",
   "execution_count": 27,
   "metadata": {},
   "outputs": [
    {
     "data": {
      "text/plain": [
       "(378, 8)"
      ]
     },
     "execution_count": 27,
     "metadata": {},
     "output_type": "execute_result"
    }
   ],
   "source": [
    "DisDif.shape"
   ]
  },
  {
   "cell_type": "code",
   "execution_count": 28,
   "metadata": {},
   "outputs": [
    {
     "data": {
      "text/html": [
       "<div>\n",
       "<style scoped>\n",
       "    .dataframe tbody tr th:only-of-type {\n",
       "        vertical-align: middle;\n",
       "    }\n",
       "\n",
       "    .dataframe tbody tr th {\n",
       "        vertical-align: top;\n",
       "    }\n",
       "\n",
       "    .dataframe thead th {\n",
       "        text-align: right;\n",
       "    }\n",
       "</style>\n",
       "<table border=\"1\" class=\"dataframe\">\n",
       "  <thead>\n",
       "    <tr style=\"text-align: right;\">\n",
       "      <th></th>\n",
       "      <th>Meal_Id</th>\n",
       "      <th>Name</th>\n",
       "      <th>catagory</th>\n",
       "      <th>description</th>\n",
       "      <th>Veg_Non</th>\n",
       "      <th>Nutrient</th>\n",
       "      <th>Disease</th>\n",
       "      <th>Diet</th>\n",
       "    </tr>\n",
       "  </thead>\n",
       "  <tbody>\n",
       "    <tr>\n",
       "      <th>count</th>\n",
       "      <td>378</td>\n",
       "      <td>378</td>\n",
       "      <td>378</td>\n",
       "      <td>378</td>\n",
       "      <td>378</td>\n",
       "      <td>378</td>\n",
       "      <td>378</td>\n",
       "      <td>378</td>\n",
       "    </tr>\n",
       "    <tr>\n",
       "      <th>unique</th>\n",
       "      <td>308</td>\n",
       "      <td>308</td>\n",
       "      <td>78</td>\n",
       "      <td>327</td>\n",
       "      <td>2</td>\n",
       "      <td>17</td>\n",
       "      <td>124</td>\n",
       "      <td>141</td>\n",
       "    </tr>\n",
       "    <tr>\n",
       "      <th>top</th>\n",
       "      <td>meal_id46</td>\n",
       "      <td>steam bunny chicken bao</td>\n",
       "      <td>chicken</td>\n",
       "      <td>buns, all purpose white flour, dry yeast, suga...</td>\n",
       "      <td>veg</td>\n",
       "      <td>iron</td>\n",
       "      <td>anemia rickets goitre kidney_disease pregnancy</td>\n",
       "      <td>low_fat_diet low_carb_diet vegan_diet high_fi...</td>\n",
       "    </tr>\n",
       "    <tr>\n",
       "      <th>freq</th>\n",
       "      <td>5</td>\n",
       "      <td>5</td>\n",
       "      <td>60</td>\n",
       "      <td>4</td>\n",
       "      <td>231</td>\n",
       "      <td>88</td>\n",
       "      <td>56</td>\n",
       "      <td>46</td>\n",
       "    </tr>\n",
       "  </tbody>\n",
       "</table>\n",
       "</div>"
      ],
      "text/plain": [
       "          Meal_Id                     Name catagory  \\\n",
       "count         378                      378      378   \n",
       "unique        308                      308       78   \n",
       "top     meal_id46  steam bunny chicken bao  chicken   \n",
       "freq            5                        5       60   \n",
       "\n",
       "                                              description Veg_Non Nutrient  \\\n",
       "count                                                 378     378      378   \n",
       "unique                                                327       2       17   \n",
       "top     buns, all purpose white flour, dry yeast, suga...     veg     iron   \n",
       "freq                                                    4     231       88   \n",
       "\n",
       "                                                Disease  \\\n",
       "count                                               378   \n",
       "unique                                              124   \n",
       "top      anemia rickets goitre kidney_disease pregnancy   \n",
       "freq                                                 56   \n",
       "\n",
       "                                                     Diet  \n",
       "count                                                 378  \n",
       "unique                                                141  \n",
       "top      low_fat_diet low_carb_diet vegan_diet high_fi...  \n",
       "freq                                                   46  "
      ]
     },
     "execution_count": 28,
     "metadata": {},
     "output_type": "execute_result"
    }
   ],
   "source": [
    "DisDif.describe()"
   ]
  },
  {
   "cell_type": "code",
   "execution_count": 30,
   "metadata": {},
   "outputs": [
    {
     "data": {
      "text/plain": [
       "Meal_Id        308\n",
       "Name           308\n",
       "catagory        78\n",
       "description    327\n",
       "Veg_Non          2\n",
       "Nutrient        17\n",
       "Disease        124\n",
       "Diet           141\n",
       "dtype: int64"
      ]
     },
     "execution_count": 30,
     "metadata": {},
     "output_type": "execute_result"
    }
   ],
   "source": [
    "DisDif.nunique()"
   ]
  },
  {
   "cell_type": "code",
   "execution_count": 35,
   "metadata": {},
   "outputs": [],
   "source": [
    "food_list = DisDif['Name'].unique().tolist()"
   ]
  },
  {
   "cell_type": "code",
   "execution_count": 51,
   "metadata": {},
   "outputs": [
    {
     "name": "stdout",
     "output_type": "stream",
     "text": [
      "Foodstuff List:\n",
      "--------------------\n",
      "summer squash salad\n",
      "chicken minced salad\n",
      "sweet chilli almonds\n",
      "tricolour salad\n",
      "gluten-free christmas cake\n",
      "japanese curry arancini with  barley salsa\n",
      "chocolate nero cookies\n",
      "lamb and chargrilled bell pepper soup\n",
      "cream of almond soup\n",
      "broccoli and almond soup\n",
      "coconut lime quinoa salad\n",
      "lemon honey glazed sous vide corn on the cob\n",
      "watermelon and strawberry smoothie\n",
      "peach, raspberry and nuts smoothie\n",
      "almond and cranberry poha\n",
      "almond and raw banana galawat\n",
      "baked namakpara with roasted almond dip\n",
      "grilled almond barfi (sugar free)\n",
      "baked shankarpali recipe\n",
      "baked multigrain murukku\n",
      "apple rabdi\n",
      "baked namak para\n",
      "dates and nuts ladoo\n",
      "green lentil dessert fudge\n",
      "cashew nut cookies\n",
      "almond pearls\n",
      "hawaiin papaya salad\n",
      "vegetable som tam salad\n",
      "spinach and feta crepes\n",
      "couscous with ratatouille - tangy tomato sauce\n",
      "baked almond kofta\n",
      "almond and amaranth ladoo\n",
      "moong dal kiwi coconut soup\n",
      "mixed berry &amp; banana smoothie\n",
      "banana walnut smoothie\n",
      "spicy watermelon soup\n",
      "red rice poha\n",
      "mixed salad with lotus root\n",
      "sweet potato and quinoa bowl\n",
      "corn and raw mango salad\n",
      "oats khichdi\n",
      "sugar free modak\n",
      "beetroot modak\n",
      "andhra pan fried pomfret\n",
      "ghee roast chicken dosa quesadilla\n",
      "steam bunny chicken bao\n",
      "meat lovers pizza\n",
      "almond and chicken momos (without shell)\n",
      "christmas tree pizza\n",
      "belgian pork chop\n",
      "christmas chocolate fudge cookies\n",
      "chicken parmigiana with tomato sauce\n",
      "chocolate appo\n",
      "sous-vide salmon tikka\n",
      "filo pizza\n",
      "chocolate samosa\n",
      "fish with jamun sauce\n",
      "dahi lasooni chicken\n",
      "pesto fish kebabs\n",
      "caramelized sesame smoked almonds\n",
      "crunchy vegetable dal sattu croquettes\n",
      "active charcoal modak\n",
      "flax seed and beetroot modak\n",
      "chocolate prunes gujiyas\n",
      "almond &amp; white chocolate gujiya\n",
      "betel nut popsicle\n",
      "clotted cottage cheese croquettes\n",
      "gajar halwa tart\n",
      "banana and maple ice lollies\n",
      "shepherds salad (tamatar-kheera salaad)\n",
      "carrot ginger soup\n",
      "dark night\n",
      "hot chocolate\n",
      "slow cooked spiced sangria\n",
      "detox haldi tea\n",
      "holi special ice tea thandai\n",
      "grilled lemon margarita\n",
      "spanish artichoke and spinach dip\n",
      "beetroot and green apple soup\n",
      "baba budan no. 7\n",
      "fruit infused tea\n",
      "soya milk\n",
      "spiced coffee\n",
      "filter coffee\n",
      "garlic and pinenut soup with burnt butter essence\n",
      "roast turkey with cranberry sauce\n",
      "roasted spring chicken with root veggies\n",
      "peri peri chicken satay\n",
      "chicken popcorn\n",
      "half roast chicken\n",
      "riceless chicken biryani\n",
      "chicken farcha\n",
      "buldak (hot and spicy chicken)\n",
      "chicken sukka\n",
      "steamed chicken roulade\n",
      "methi chicken masala\n",
      "restaurant style fried chicken\n",
      "chicken potli\n",
      "spicy chicken masala\n",
      "spicy chicken curry\n",
      "crispy herb chicken\n",
      "dahi chicken\n",
      "amritsari chicken masala\n",
      "chilli chicken\n",
      "oat crusted chicken tenders\n",
      "chicken nimbu dhaniya shorba\n",
      "garlic soya chicken\n",
      "cauliflower and chicken biryani\n",
      "chicken quinoa biryani\n",
      "chicken and mushroom lasagna\n",
      "plum and cherry roasted chicken\n",
      "chicken roulade\n",
      "sticky rum chicken wings\n",
      "chicken fritters\n",
      "chicken palwal\n",
      "pan seared thigh of chicken\n",
      "chicken in mahalak sauce\n",
      "grilled kasundi honey chicken with sweet potato mash\n",
      "chicken dong style\n",
      "microwave tandoori chicken\n",
      "methi malai cranberry chicken\n",
      "southern fried chicken tenders\n",
      "thai style chicken tikka\n",
      "chicken gilafi kebab\n",
      "cheese chicken kebabs\n",
      "andhra crab meat masala\n",
      "cajun spiced turkey wrapped with bacon\n",
      "mongolian lamb balls\n",
      "oyster lamb\n",
      "chicken shami kebab\n",
      "balti meat\n",
      "coffee marinated mutton chops\n",
      "sali boti (parsi meat dish)\n",
      "braised lamb shanks\n",
      "bengali lamb curry\n",
      "malabari fish curry\n",
      "portugese fish stew\n",
      "malabar fish curry\n",
      "surmai curry with lobster butter rice\n",
      "seared salmon in tabasco butter\n",
      "risotto lobster with parmesan egg pancake, confit tomatoes and coral tuille\n",
      "fish skewers with coriander and red wine vinegar dressing\n",
      "seafood rock filler\n",
      "shrimp &amp; cilantro ceviche\n",
      "saewoo bokumbop (shrimp fried rice)\n",
      "goan prawn curry &amp; baked rice canapes\n",
      "bihari fish curry\n",
      "beer batter fish fingers\n",
      "prawn and litchi salad\n",
      "kerala fish curry\n",
      "fish andlouse\n",
      "prawn fried rice\n",
      "damdama fish curry\n",
      "fish with white sauce\n",
      "chilli fish\n",
      "fish ambultiyal\n",
      "chettinad fish fry\n",
      "fish moilee\n",
      "batter fish\n",
      "fish salan\n",
      "spanish fish fry\n",
      "prawn potato soup\n",
      "red rice vermicelli kheer\n",
      "green cucumber shots\n",
      "thai pineapple rice\n",
      "green asparagus risotto\n",
      "veg fried rice\n",
      "egg and garlic fried rice\n",
      "curd rice\n",
      "fried rice with soya chunks\n",
      "corn pulao\n",
      "zucchini methi pulao\n",
      "lemon rice\n",
      "kale channe ki biryani\n",
      "chicken paella\n",
      "thai fish curry\n",
      "vegetable pulao\n",
      "oats &amp; shallots pulao\n",
      "shiitake fried rice with water chestnuts\n",
      "lotus leaf wrapped fried rice\n",
      "vegetable biryani\n",
      "avial with red rice\n",
      "rice in lamb stock\n",
      "vegetable bruschetta\n",
      "red wine braised mushroom flatbread\n",
      "strawberry &amp; pistachio breton tart\n",
      "tricolour pizza\n",
      "instant rava dosa\n",
      "easy bread poha\n",
      "bread chana basket\n",
      "spaghetti with clams &amp; crispy bread crumbs\n",
      "kasha bread\n",
      "egg paratha\n",
      "egg and cheddar cheese sandwich\n",
      "egg in a blanket\n",
      "bread dahi vada\n",
      "cheese and avocado parantha\n",
      "bread with tomatoes and olives\n",
      "lemon poppy seed cake\n",
      "chocolate kaju katli\n",
      "mix fruit laccha rabri tortilla crunch\n",
      "pista chocolate &amp; mandarin\n",
      "banana and chia tea cake\n",
      "chocolate and almond rum ball h\n",
      "lemon sushi cake\n",
      "chocolate doughnut\n",
      "spiced almond banana jaggery cake\n",
      "fennel scented sweet banana fritters\n",
      "camel milk cake tart\n",
      "quinoa coconut crumble custard\n",
      "lamb barley pot\n",
      "al hachi chicken\n",
      "berry parfait hazelnut white chocolate sable\n",
      "badam papite ke kebab with pineapple salsa\n",
      "mixed vegetable soup\n",
      "duo of chocolate and strawberry\n",
      "mustard-parmesan whole roasted cauliflower\n",
      "hassel back sweet potatoes\n",
      "mother christmas cake\n",
      "matcha tea macarons\n",
      "amaranthus granola with lemon yogurt, berries and marigold\n",
      "chocolate fudge cookies\n",
      "veg summer rolls\n",
      "eggless vanilla cake\n",
      "sweet potato pie\n",
      "wok tossed asparagus in mild garlic sauce\n",
      "cinnamon oatmeal pancakes\n",
      "chocolate chip cheesecake\n",
      "chocolate lava cake\n",
      "eggless coffee cupcakes\n",
      "chicken in white wine\n",
      "apple and walnut cake\n",
      "gluten free almond cake\n",
      "cinnamon star cookies\n",
      "whole wheat cake\n",
      "plum cake\n",
      "double chocolate easter cookies\n",
      "holi special malai kofta\n",
      "homemade gulab jamun\n",
      "lamb rogan josh\n",
      "fish curry\n",
      "rice kheer\n",
      "assorted rice kheer sushi\n",
      "jalebi with fennel yogurt pudding\n",
      "broccoli souffle\n",
      "christmas dry fruit cake\n",
      "microwave chicken steak\n",
      "cheese and ham roll\n",
      "vegetable manchurian\n",
      "jerk chicken\n",
      "lemon poppy seed cake hindi\n",
      "steam bunny chicken bao hindi\n",
      "double chocolate easter cookies hindi\n",
      "orange quinoa sevaiyan\n",
      "spicy creamy kadai chicken\n",
      "apple kheer\n",
      "ragi oats ladoo (laddu)\n",
      "lamb korma\n",
      "ragi coconut ladoo (laddu)\n",
      "quick chicken curry\n",
      "chicken shaami kebab\n",
      "chicken masala\n",
      "holi special bhang pakode\n",
      "kuttu atta pizza\n",
      "arbi kofta with mint yogurt dip\n",
      "puffed rice squares\n",
      "red velvet banana pudding\n",
      "baked wild berry cheesecake\n",
      "spiced orange valencia cake\n",
      "jalapeno cheese fingers\n",
      "californian breakfast benedict\n",
      "chocolate marquise\n",
      "corn &amp; jalapeno poppers\n",
      "banana phirni tartlets with fresh strawberries\n",
      "mexican pizza\n",
      "apple and pear cake\n",
      "microwave chocolate cake\n",
      "white chocolate and lemon pastry\n",
      "mixed beans salad\n",
      "baked raw banana samosa\n",
      "coconut mango oatmeal with cinnamon hint\n",
      "fruit cube salad\n",
      "veg hakka noodles\n",
      "strawberry quinoa pancakes\n",
      "spinach &amp; banana pancakes\n",
      "french onion grilled cheese\n",
      "pasta in cheese sauce\n",
      "deviled scotch egg\n",
      "amritsari fish\n",
      "butter chicken\n",
      "chicken razala\n",
      "chicken tikka\n",
      "chicken tikka masala\n",
      "mushroom matar\n",
      "tandoori chicken\n",
      "tandoori fish tikka\n",
      "chettinadu chicken\n",
      "chicken 65\n",
      "kolim / jawla\n",
      "black rice\n",
      "brown rice\n",
      "koldil chicken\n",
      "red rice\n",
      "sunga pork\n",
      "banana chips\n",
      "bhurji- egg\n",
      "flattened rice / pohe\n",
      "puffed rice\n"
     ]
    }
   ],
   "source": [
    "print(\"Foodstuff List:\")\n",
    "print('-' * 20)  # Separator for better readability\n",
    "\n",
    "for food_item in food_list:\n",
    "    print(food_item)"
   ]
  },
  {
   "cell_type": "code",
   "execution_count": 52,
   "metadata": {},
   "outputs": [],
   "source": [
    "''' with open('food_list.txt', 'w') as file:\n",
    "    for food_item in food_list:\n",
    "        file.write(food_item + '\\n')'''"
   ]
  },
  {
   "cell_type": "code",
   "execution_count": 57,
   "metadata": {},
   "outputs": [],
   "source": [
    "catagory_list = DisDif['catagory'].unique().tolist()"
   ]
  },
  {
   "cell_type": "code",
   "execution_count": 58,
   "metadata": {},
   "outputs": [
    {
     "name": "stdout",
     "output_type": "stream",
     "text": [
      "Catagory List:\n",
      "--------------------\n",
      "salad\n",
      "chilli\n",
      "cake\n",
      "barley\n",
      "cookie\n",
      "soup\n",
      "corn\n",
      "smoothie\n",
      "poha\n",
      "banana\n",
      "dip\n",
      "barfi\n",
      "shankarpali\n",
      "baked\n",
      "rabdi\n",
      "ladoo\n",
      "dessert\n",
      "almond\n",
      "spinach\n",
      "sauce\n",
      "kofta\n",
      "potato\n",
      "khichdi\n",
      "snacks\n",
      "dal\n",
      "modak\n",
      "chocolate\n",
      "gujiya\n",
      "pizza\n",
      "cheese\n",
      "halwa\n",
      "apple\n",
      "sangria\n",
      "tea\n",
      "margarita\n",
      "cardamom\n",
      "milk\n",
      "coffee\n",
      "chicken\n",
      "meat\n",
      "curry\n",
      "fish\n",
      "rice\n",
      "butter\n",
      "egg\n",
      "wine\n",
      "coriander\n",
      "kebabs\n",
      "crab\n",
      "bread\n",
      "kheer\n",
      "kaju\n",
      "samosa\n",
      "rabri\n",
      "coconut\n",
      "dosa\n",
      "bao\n",
      "wrapped\n",
      "kebab\n",
      "chop\n",
      "strawberry\n",
      "roasted\n",
      "vanilla\n",
      "yogurt\n",
      "pie\n",
      "pancakes\n",
      "lamb\n",
      "gulab\n",
      "pudding\n",
      "broccoli\n",
      "tomato\n",
      "korma\n",
      "pakode\n",
      "berry\n",
      "bruschetta\n",
      "tikka\n",
      "mango\n",
      "matar\n"
     ]
    }
   ],
   "source": [
    "print(\"Catagory List:\")\n",
    "print('-' * 20)  # Separator for better readability\n",
    "\n",
    "for type in catagory_list:\n",
    "    print(type)"
   ]
  },
  {
   "cell_type": "code",
   "execution_count": 59,
   "metadata": {},
   "outputs": [],
   "source": [
    "'''with open('catagory_list.txt', 'w') as file:\n",
    "    for type in catagory_list:\n",
    "        file.write(type + '\\n')'''"
   ]
  },
  {
   "cell_type": "code",
   "execution_count": 60,
   "metadata": {},
   "outputs": [],
   "source": [
    "nutrient_list = DisDif['Nutrient'].unique().tolist()"
   ]
  },
  {
   "cell_type": "code",
   "execution_count": 61,
   "metadata": {},
   "outputs": [
    {
     "name": "stdout",
     "output_type": "stream",
     "text": [
      "Nutrient List:\n",
      "--------------------\n",
      "fiber\n",
      "vitamin_a\n",
      "calcium\n",
      "magnesium\n",
      "sodium\n",
      "vitamin_c\n",
      "protien\n",
      "vitamin_e\n",
      "iron\n",
      "selenium\n",
      "carbohydrates\n",
      "chloride\n",
      "potassium\n",
      "vitamin_d\n",
      "manganese\n",
      "phosphorus\n",
      "iodine\n"
     ]
    }
   ],
   "source": [
    "print(\"Nutrient List:\")\n",
    "print('-' * 20)  # Separator for better readability\n",
    "\n",
    "for nutri in nutrient_list:\n",
    "    print(nutri)"
   ]
  },
  {
   "cell_type": "code",
   "execution_count": 62,
   "metadata": {},
   "outputs": [],
   "source": [
    "'''with open('Nutrients_list.txt', 'w') as file:\n",
    "    for nutri in nutrient_list:\n",
    "        file.write(nutri + '\\n')'''"
   ]
  },
  {
   "cell_type": "code",
   "execution_count": 77,
   "metadata": {},
   "outputs": [
    {
     "name": "stdout",
     "output_type": "stream",
     "text": [
      "[' obesity diabeties hypertension goitre', ' anemia pregnancy hypertension rickets goitre kidney_disease obesity', ' hypertension scurvy heart_disease goitre kidney_disease pregnancy', ' obesity goitre hypertension', ' goitre kidney_disease', ' goitre', ' hypertension heart_disease', ' pregnancy scurvy goitre kidney_disease obesity', ' obesity cancer hypertension', ' pregnancy hypertension scurvy obesity diabeties', ' pregnancy hypertension scurvy goitre obesity', ' diabeties goitre scurvy', ' scurvy', ' anemia cancer heart_disease kidney_disease obesity diabeties', ' hypertension', ' anemia hypertension cancer scurvy heart_disease kidney_disease diabeties', ' goitre hypertension kidney_disease', ' goitre hypertension', ' diabeties goitre', ' obesity diabeties', ' anemia hypertension scurvy heart_disease goitre kidney_disease pregnancy diabeties', ' obesity scurvy hypertension goitre', ' hypertension scurvy heart_disease goitre kidney_disease obesity', ' anemia scurvy goitre kidney_disease', ' anemia pregnancy hypertension cancer scurvy heart_disease eye_disease rickets goitre kidney_disease obesity diabeties', ' obesity scurvy hypertension', ' diabeties hypertension', ' obesity', ' anemia pregnancy cancer scurvy kidney_disease obesity diabeties', ' hypertension goitre kidney_disease obesity diabeties', ' hypertension scurvy goitre kidney_disease pregnancy', ' anemia hypertension cancer scurvy heart_disease goitre kidney_disease obesity diabeties', ' pregnancy hypertension cancer heart_disease goitre kidney_disease obesity diabeties', ' cancer', ' anemia rickets goitre kidney_disease pregnancy', ' anemia pregnancy cancer goitre kidney_disease obesity', ' anemia hypertension rickets goitre kidney_disease pregnancy', ' pregnancy goitre', ' anemia pregnancy hypertension heart_disease rickets goitre obesity diabeties', ' anemia pregnancy hypertension cancer heart_disease rickets goitre kidney_disease obesity diabeties', ' heart_disease', ' obesity scurvy kidney_disease heart_disease', ' goitre hypertension heart_disease', ' anemia hypertension scurvy heart_disease rickets kidney_disease obesity', ' obesity eye_disease', ' kidney_disease', ' anemia hypertension scurvy heart_disease eye_disease rickets', ' hypertension cancer scurvy heart_disease goitre', ' anemia pregnancy scurvy heart_disease goitre kidney_disease obesity diabeties', ' kidney_disease heart_disease', ' scurvy goitre', ' anemia scurvy kidney_disease', ' anemia pregnancy hypertension scurvy heart_disease goitre kidney_disease obesity diabeties', ' eye_disease rickets heart_disease scurvy', ' pregnancy hypertension scurvy heart_disease eye_disease obesity diabeties', ' cancer hypertension rickets', ' pregnancy anemia', ' pregnancy kidney_disease anemia', ' hypertension cancer heart_disease kidney_disease obesity diabeties', ' anemia pregnancy scurvy heart_disease rickets goitre kidney_disease obesity diabeties', ' anemia scurvy rickets goitre kidney_disease pregnancy', ' anemia cancer rickets goitre kidney_disease pregnancy', ' anemia pregnancy rickets goitre kidney_disease obesity', ' anemia rickets goitre kidney_disease pregnancy diabeties', ' anemia hypertension cancer heart_disease rickets goitre kidney_disease pregnancy diabeties', ' anemia hypertension scurvy rickets goitre kidney_disease pregnancy', ' anemia pregnancy eye_disease rickets goitre kidney_disease obesity', ' anemia pregnancy cancer kidney_disease obesity', ' obesity diabeties anemia', ' hypertension cancer heart_disease rickets goitre kidney_disease pregnancy diabeties', ' anemia pregnancy hypertension cancer scurvy heart_disease rickets goitre kidney_disease obesity diabeties', ' anemia pregnancy rickets goitre obesity', ' anemia goitre', ' obesity diabeties goitre anemia', ' obesity cancer diabeties anemia', ' obesity pregnancy', ' obesity diabeties kidney_disease anemia', ' anemia cancer kidney_disease obesity diabeties', ' obesity diabeties anemia scurvy', ' scurvy heart_disease kidney_disease pregnancy diabeties', ' anemia pregnancy cancer goitre kidney_disease obesity diabeties', ' scurvy kidney_disease', ' rickets', ' hypertension heart_disease eye_disease rickets goitre obesity', ' hypertension rickets goitre kidney_disease pregnancy diabeties', ' pregnancy hypertension eye_disease rickets goitre kidney_disease obesity diabeties', ' obesity eye_disease heart_disease', ' cancer heart_disease', ' scurvy hypertension heart_disease', ' hypertension heart_disease goitre obesity diabeties', ' cancer hypertension kidney_disease rickets', ' obesity pregnancy hypertension goitre', ' scurvy heart_disease kidney_disease obesity diabeties', ' cancer hypertension kidney_disease', ' pregnancy hypertension scurvy goitre kidney_disease obesity', ' pregnancy', ' pregnancy hypertension scurvy heart_disease goitre kidney_disease obesity', ' diabeties', ' hypertension cancer scurvy heart_disease kidney_disease pregnancy diabeties', ' hypertension cancer rickets goitre obesity diabeties', ' anemia pregnancy scurvy rickets goitre kidney_disease obesity', ' hypertension heart_disease goitre kidney_disease obesity diabeties', ' cancer diabeties hypertension', ' diabeties hypertension heart_disease scurvy', ' pregnancy hypertension goitre obesity diabeties', ' pregnancy diabeties scurvy', ' anemia scurvy rickets goitre pregnancy', ' obesity hypertension', ' obesity diabeties hypertension pregnancy', ' anemia pregnancy hypertension cancer scurvy goitre kidney_disease obesity diabeties', ' rickets goitre', ' anemia rickets scurvy', ' obesity rickets hypertension', ' anemia pregnancy hypertension cancer scurvy heart_disease rickets kidney_disease obesity diabeties', ' anemia pregnancy hypertension heart_disease goitre obesity diabeties', ' anemia hypertension cancer scurvy heart_disease goitre kidney_disease diabeties', ' pregnancy hypertension scurvy heart_disease eye_disease goitre obesity diabeties', ' pregnancy scurvy goitre', ' anemia scurvy hypertension kidney_disease', ' obesity goitre kidney_disease eye_disease', ' cancer scurvy heart_disease eye_disease rickets goitre kidney_disease obesity diabeties', ' anemia pregnancy goitre obesity diabeties', ' obesity diabeties anemia heart_disease', ' anemia cancer scurvy heart_disease eye_disease rickets goitre kidney_disease obesity diabeties']\n"
     ]
    }
   ],
   "source": [
    "disease_list = DisDif['Disease'].unique().tolist()\n",
    "print(disease_list)"
   ]
  },
  {
   "cell_type": "code",
   "execution_count": 147,
   "metadata": {},
   "outputs": [
    {
     "name": "stdout",
     "output_type": "stream",
     "text": [
      "[['obesity'], ['diabeties'], ['hypertension'], ['goitre'], ['anemia'], ['pregnancy'], ['rickets'], ['kidney_disease'], ['scurvy'], ['heart_disease'], ['cancer'], ['eye_disease']]\n"
     ]
    }
   ],
   "source": [
    "unique_disease = []\n",
    "\n",
    "for diseases_string in disease_list:\n",
    "    individual_strings = diseases_string.split(', ')\n",
    "    \n",
    "    for individual_string in individual_strings:\n",
    "        diseases_list = individual_string.split()\n",
    "        \n",
    "        for diseases in diseases_list:\n",
    "            disease_names = diseases.split(', ')\n",
    "            \n",
    "            if disease_names not in unique_disease :\n",
    "                unique_disease.append(disease_names)\n",
    "\n",
    "print(unique_disease)"
   ]
  },
  {
   "cell_type": "code",
   "execution_count": 137,
   "metadata": {},
   "outputs": [
    {
     "name": "stdout",
     "output_type": "stream",
     "text": [
      "Disease List:\n",
      "--------------------\n",
      "['obesity']\n",
      "['diabeties']\n",
      "['hypertension']\n",
      "['goitre']\n",
      "['anemia']\n",
      "['pregnancy']\n",
      "['rickets']\n",
      "['kidney_disease']\n",
      "['scurvy']\n",
      "['heart_disease']\n",
      "['cancer']\n",
      "['eye_disease']\n"
     ]
    }
   ],
   "source": [
    "print(\"Disease List:\")\n",
    "print('-' * 20)  # Separator for better readability\n",
    "\n",
    "for disease in unique_disease:\n",
    "    print(disease)"
   ]
  },
  {
   "cell_type": "code",
   "execution_count": 161,
   "metadata": {},
   "outputs": [
    {
     "name": "stdout",
     "output_type": "stream",
     "text": [
      "['obesity', 'diabeties', 'hypertension', 'goitre', 'anemia', 'pregnancy', 'rickets', 'kidney_disease', 'scurvy', 'heart_disease', 'cancer', 'eye_disease']\n"
     ]
    }
   ],
   "source": [
    "uni_diseases = [''.join(element).replace('[', '').replace(']', '').replace(\"'\", '') for element in unique_disease]\n",
    "print(uni_diseases)"
   ]
  },
  {
   "cell_type": "code",
   "execution_count": 160,
   "metadata": {},
   "outputs": [
    {
     "name": "stdout",
     "output_type": "stream",
     "text": [
      "obesity\n",
      "diabeties\n",
      "hypertension\n",
      "goitre\n",
      "anemia\n",
      "pregnancy\n",
      "rickets\n",
      "kidney_disease\n",
      "scurvy\n",
      "heart_disease\n",
      "cancer\n",
      "eye_disease\n"
     ]
    }
   ],
   "source": [
    "for disease in uni_diseases:\n",
    "    print(disease)"
   ]
  },
  {
   "cell_type": "code",
   "execution_count": 162,
   "metadata": {},
   "outputs": [],
   "source": [
    "'''with open('Disease_list.txt', 'w') as file:\n",
    "    for main_disease in uni_diseases:\n",
    "        file.write(main_disease + '\\n')'''"
   ]
  },
  {
   "cell_type": "code",
   "execution_count": 191,
   "metadata": {},
   "outputs": [],
   "source": [
    "diet_list = DisDif['Diet'].unique().tolist()"
   ]
  },
  {
   "cell_type": "code",
   "execution_count": 198,
   "metadata": {},
   "outputs": [
    {
     "name": "stdout",
     "output_type": "stream",
     "text": [
      "['alkaline_diet', 'low_fat_diet', 'ketogenic_diet', 'low_sodium_diet', 'high_fiber_diet', 'high_protien_diet', 'dash_diet', 'low_carb_diet', 'vegan_diet', 'hormone_diet', 'type_a_diet', 'paleo_diet', 'Mediterranean_diet', 'gluten_free_diet', 'omni_diet', 'type_o_diet']\n"
     ]
    }
   ],
   "source": [
    "unique_diet = []\n",
    "\n",
    "for types in diet_list:\n",
    "    diet_types = types.split()\n",
    "    for diet in diet_types:    \n",
    "        if diet not in unique_diet :\n",
    "            unique_diet.append(diet)\n",
    "\n",
    "print(unique_diet)"
   ]
  },
  {
   "cell_type": "code",
   "execution_count": 199,
   "metadata": {},
   "outputs": [
    {
     "name": "stdout",
     "output_type": "stream",
     "text": [
      "Disease List:\n",
      "--------------------\n",
      "alkaline_diet\n",
      "low_fat_diet\n",
      "ketogenic_diet\n",
      "low_sodium_diet\n",
      "high_fiber_diet\n",
      "high_protien_diet\n",
      "dash_diet\n",
      "low_carb_diet\n",
      "vegan_diet\n",
      "hormone_diet\n",
      "type_a_diet\n",
      "paleo_diet\n",
      "Mediterranean_diet\n",
      "gluten_free_diet\n",
      "omni_diet\n",
      "type_o_diet\n"
     ]
    }
   ],
   "source": [
    "print(\"Disease List:\")\n",
    "print('-' * 20)  # Separator for better readability\n",
    "\n",
    "for diet_nm in unique_diet:\n",
    "    print(diet_nm)"
   ]
  },
  {
   "cell_type": "code",
   "execution_count": 200,
   "metadata": {},
   "outputs": [],
   "source": [
    "'''with open('DietTypes_list.txt', 'w') as file:\n",
    "    for dietTypes in unique_diet:\n",
    "        file.write(dietTypes + '\\n')'''"
   ]
  },
  {
   "cell_type": "code",
   "execution_count": null,
   "metadata": {},
   "outputs": [],
   "source": []
  }
 ],
 "metadata": {
  "kernelspec": {
   "display_name": "keras_env",
   "language": "python",
   "name": "python3"
  },
  "language_info": {
   "codemirror_mode": {
    "name": "ipython",
    "version": 3
   },
   "file_extension": ".py",
   "mimetype": "text/x-python",
   "name": "python",
   "nbconvert_exporter": "python",
   "pygments_lexer": "ipython3",
   "version": "3.10.9"
  }
 },
 "nbformat": 4,
 "nbformat_minor": 2
}
